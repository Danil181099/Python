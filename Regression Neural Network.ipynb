{
 "cells": [
  {
   "cell_type": "markdown",
   "id": "981125bd",
   "metadata": {},
   "source": [
    "# Regression Neural Network"
   ]
  },
  {
   "cell_type": "code",
   "execution_count": 1,
   "id": "f43f2a11",
   "metadata": {},
   "outputs": [],
   "source": [
    "# Importing the libraries\n",
    "import numpy as np\n",
    "import matplotlib.pyplot as plt\n",
    "import pandas as pd"
   ]
  },
  {
   "cell_type": "code",
   "execution_count": 2,
   "id": "4db45d45",
   "metadata": {},
   "outputs": [],
   "source": [
    "# Importing prepared dataset\n",
    "import pickle\n",
    "input = open('data_reg.pkl', 'rb')\n",
    "obj = pickle.load(input)\n",
    "input.close()\n",
    "X_train = obj[\"X_train\"]\n",
    "X_test = obj[\"X_test\"]\n",
    "y_train = obj[\"y_train\"]\n",
    "y_test = obj[\"y_test\"]\n",
    "\n",
    "y_train = np.asarray(y_train).reshape(-1,1)\n",
    "y_test = np.asarray(y_test).reshape(-1,1)"
   ]
  },
  {
   "cell_type": "markdown",
   "id": "fa317462",
   "metadata": {},
   "source": [
    "* импорт файла, а записи из этого файлы помещены в соответствующие переменные. "
   ]
  },
  {
   "cell_type": "code",
   "execution_count": 3,
   "id": "02850ee8",
   "metadata": {},
   "outputs": [],
   "source": [
    "# Feature Scaling\n",
    "from sklearn.preprocessing import StandardScaler\n",
    "sc_X = StandardScaler().fit(X_train)\n",
    "X_train = sc_X.transform(X_train)\n",
    "X_test = sc_X.transform(X_test)\n",
    "sc_y = StandardScaler().fit(y_train)\n",
    "y_train = sc_y.transform(y_train)\n",
    "y_test = sc_y.transform(y_test)"
   ]
  },
  {
   "cell_type": "markdown",
   "id": "eabd3c61",
   "metadata": {},
   "source": [
    "* произведено предварительное шкалирование данные"
   ]
  },
  {
   "cell_type": "code",
   "execution_count": 4,
   "id": "a949713b",
   "metadata": {},
   "outputs": [],
   "source": [
    "#!pip install tensorflow\n",
    "#!pip install keras"
   ]
  },
  {
   "cell_type": "code",
   "execution_count": 5,
   "id": "d53965cf",
   "metadata": {},
   "outputs": [],
   "source": [
    "# Importing the Keras libraries and packages\n",
    "import keras\n",
    "from keras.models import Sequential\n",
    "from keras.layers import Dense"
   ]
  },
  {
   "cell_type": "code",
   "execution_count": 10,
   "id": "035c8fc7",
   "metadata": {},
   "outputs": [],
   "source": [
    "# Initialising the ANN\n",
    "rnn = Sequential()\n",
    "\n",
    "# Adding the input layer and the first hidden layer\n",
    "rnn.add(Dense(20, activation = 'tanh', input_dim = 19))\n",
    "\n",
    "# Adding the second hidden layer\n",
    "rnn.add(Dense(10, activation = 'tanh'))\n",
    "\n",
    "# Adding the third hidden layer\n",
    "rnn.add(Dense(5, activation = 'tanh'))\n",
    "\n",
    "# Adding the output layer\n",
    "rnn.add(Dense(1, activation = 'linear'))\n",
    "\n",
    "# Compiling the ANN\n",
    "rnn.compile(optimizer='adam', loss='mean_squared_error', metrics = ['accuracy'])"
   ]
  },
  {
   "cell_type": "markdown",
   "id": "eccb8c6f",
   "metadata": {},
   "source": [
    "Создана нейронная сеть. Добавлены слои. На вход поступает вектор размерностью 19. Целесообразно на слоях сети брать функцию, которая изменяется в том же диапозоне, что и данные - тангенс, а на выходе линейную. Такое сочетание функций дает наилучший результат."
   ]
  },
  {
   "cell_type": "code",
   "execution_count": 11,
   "id": "73810c0e",
   "metadata": {},
   "outputs": [
    {
     "name": "stdout",
     "output_type": "stream",
     "text": [
      "Epoch 1/100\n",
      "840/840 [==============================] - 3s 1ms/step - loss: 0.7979 - accuracy: 0.0000e+00\n",
      "Epoch 2/100\n",
      "840/840 [==============================] - 1s 1ms/step - loss: 0.6837 - accuracy: 0.0000e+00: 0s - loss: 0.6922 - accu\n",
      "Epoch 3/100\n",
      "840/840 [==============================] - 1s 949us/step - loss: 0.6471 - accuracy: 0.0000e+00\n",
      "Epoch 4/100\n",
      "840/840 [==============================] - 1s 953us/step - loss: 0.6065 - accuracy: 0.0000e+00\n",
      "Epoch 5/100\n",
      "840/840 [==============================] - 1s 963us/step - loss: 0.5825 - accuracy: 0.0000e+00\n",
      "Epoch 6/100\n",
      "840/840 [==============================] - 1s 1ms/step - loss: 0.5708 - accuracy: 0.0000e+00\n",
      "Epoch 7/100\n",
      "840/840 [==============================] - 1s 1ms/step - loss: 0.5566 - accuracy: 0.0000e+00\n",
      "Epoch 8/100\n",
      "840/840 [==============================] - 1s 1ms/step - loss: 0.5498 - accuracy: 0.0000e+00\n",
      "Epoch 9/100\n",
      "840/840 [==============================] - 1s 974us/step - loss: 0.5431 - accuracy: 0.0000e+00\n",
      "Epoch 10/100\n",
      "840/840 [==============================] - 1s 970us/step - loss: 0.5380 - accuracy: 0.0000e+00\n",
      "Epoch 11/100\n",
      "840/840 [==============================] - 1s 980us/step - loss: 0.5317 - accuracy: 0.0000e+00\n",
      "Epoch 12/100\n",
      "840/840 [==============================] - 1s 983us/step - loss: 0.5262 - accuracy: 0.0000e+00\n",
      "Epoch 13/100\n",
      "840/840 [==============================] - 1s 1ms/step - loss: 0.5206 - accuracy: 0.0000e+00\n",
      "Epoch 14/100\n",
      "840/840 [==============================] - 1s 960us/step - loss: 0.5161 - accuracy: 0.0000e+00\n",
      "Epoch 15/100\n",
      "840/840 [==============================] - 1s 980us/step - loss: 0.5128 - accuracy: 0.0000e+00\n",
      "Epoch 16/100\n",
      "840/840 [==============================] - 1s 968us/step - loss: 0.5090 - accuracy: 0.0000e+00\n",
      "Epoch 17/100\n",
      "840/840 [==============================] - 1s 959us/step - loss: 0.5059 - accuracy: 0.0000e+00\n",
      "Epoch 18/100\n",
      "840/840 [==============================] - 1s 970us/step - loss: 0.5026 - accuracy: 0.0000e+00\n",
      "Epoch 19/100\n",
      "840/840 [==============================] - 1s 959us/step - loss: 0.5006 - accuracy: 0.0000e+00\n",
      "Epoch 20/100\n",
      "840/840 [==============================] - 1s 956us/step - loss: 0.4976 - accuracy: 0.0000e+00\n",
      "Epoch 21/100\n",
      "840/840 [==============================] - ETA: 0s - loss: 0.4947 - accuracy: 0.0000e+ - 1s 959us/step - loss: 0.4938 - accuracy: 0.0000e+00\n",
      "Epoch 22/100\n",
      "840/840 [==============================] - 1s 960us/step - loss: 0.4927 - accuracy: 0.0000e+00\n",
      "Epoch 23/100\n",
      "840/840 [==============================] - 1s 958us/step - loss: 0.4889 - accuracy: 0.0000e+00\n",
      "Epoch 24/100\n",
      "840/840 [==============================] - 1s 964us/step - loss: 0.4859 - accuracy: 0.0000e+00\n",
      "Epoch 25/100\n",
      "840/840 [==============================] - 1s 1ms/step - loss: 0.4860 - accuracy: 0.0000e+00\n",
      "Epoch 26/100\n",
      "840/840 [==============================] - 1s 1ms/step - loss: 0.4805 - accuracy: 0.0000e+00\n",
      "Epoch 27/100\n",
      "840/840 [==============================] - 1s 1ms/step - loss: 0.4810 - accuracy: 0.0000e+00\n",
      "Epoch 28/100\n",
      "840/840 [==============================] - 1s 962us/step - loss: 0.4764 - accuracy: 0.0000e+00\n",
      "Epoch 29/100\n",
      "840/840 [==============================] - 1s 958us/step - loss: 0.4757 - accuracy: 0.0000e+00\n",
      "Epoch 30/100\n",
      "840/840 [==============================] - 1s 968us/step - loss: 0.4717 - accuracy: 0.0000e+00\n",
      "Epoch 31/100\n",
      "840/840 [==============================] - 1s 967us/step - loss: 0.4695 - accuracy: 0.0000e+00\n",
      "Epoch 32/100\n",
      "840/840 [==============================] - 1s 957us/step - loss: 0.4680 - accuracy: 0.0000e+00\n",
      "Epoch 33/100\n",
      "840/840 [==============================] - 1s 970us/step - loss: 0.4650 - accuracy: 0.0000e+00\n",
      "Epoch 34/100\n",
      "840/840 [==============================] - 1s 966us/step - loss: 0.4622 - accuracy: 0.0000e+00\n",
      "Epoch 35/100\n",
      "840/840 [==============================] - 1s 961us/step - loss: 0.4607 - accuracy: 0.0000e+00\n",
      "Epoch 36/100\n",
      "840/840 [==============================] - 1s 966us/step - loss: 0.4559 - accuracy: 0.0000e+00\n",
      "Epoch 37/100\n",
      "840/840 [==============================] - 1s 958us/step - loss: 0.4570 - accuracy: 0.0000e+00\n",
      "Epoch 38/100\n",
      "840/840 [==============================] - 1s 976us/step - loss: 0.4549 - accuracy: 0.0000e+000s - loss: 0.4397 - accuracy\n",
      "Epoch 39/100\n",
      "840/840 [==============================] - 1s 977us/step - loss: 0.4528 - accuracy: 0.0000e+00\n",
      "Epoch 40/100\n",
      "840/840 [==============================] - 1s 999us/step - loss: 0.4484 - accuracy: 0.0000e+00\n",
      "Epoch 41/100\n",
      "840/840 [==============================] - 1s 980us/step - loss: 0.4478 - accuracy: 0.0000e+00\n",
      "Epoch 42/100\n",
      "840/840 [==============================] - 1s 959us/step - loss: 0.4455 - accuracy: 0.0000e+00\n",
      "Epoch 43/100\n",
      "840/840 [==============================] - 1s 963us/step - loss: 0.4450 - accuracy: 0.0000e+00\n",
      "Epoch 44/100\n",
      "840/840 [==============================] - 1s 1ms/step - loss: 0.4438 - accuracy: 0.0000e+00\n",
      "Epoch 45/100\n",
      "840/840 [==============================] - 1s 1ms/step - loss: 0.4402 - accuracy: 0.0000e+00\n",
      "Epoch 46/100\n",
      "840/840 [==============================] - 1s 1ms/step - loss: 0.4406 - accuracy: 0.0000e+00\n",
      "Epoch 47/100\n",
      "840/840 [==============================] - 1s 1ms/step - loss: 0.4389 - accuracy: 0.0000e+00\n",
      "Epoch 48/100\n",
      "840/840 [==============================] - 1s 964us/step - loss: 0.4371 - accuracy: 0.0000e+00\n",
      "Epoch 49/100\n",
      "840/840 [==============================] - 1s 958us/step - loss: 0.4345 - accuracy: 0.0000e+00\n",
      "Epoch 50/100\n",
      "840/840 [==============================] - 1s 972us/step - loss: 0.4330 - accuracy: 0.0000e+00\n",
      "Epoch 51/100\n",
      "840/840 [==============================] - 1s 970us/step - loss: 0.4323 - accuracy: 0.0000e+00\n",
      "Epoch 52/100\n",
      "840/840 [==============================] - 1s 969us/step - loss: 0.4287 - accuracy: 0.0000e+00\n",
      "Epoch 53/100\n",
      "840/840 [==============================] - 1s 1ms/step - loss: 0.4293 - accuracy: 0.0000e+00\n",
      "Epoch 54/100\n",
      "840/840 [==============================] - 1s 971us/step - loss: 0.4279 - accuracy: 0.0000e+00\n",
      "Epoch 55/100\n",
      "840/840 [==============================] - 1s 998us/step - loss: 0.4247 - accuracy: 0.0000e+00\n",
      "Epoch 56/100\n",
      "840/840 [==============================] - 1s 972us/step - loss: 0.4245 - accuracy: 0.0000e+00\n",
      "Epoch 57/100\n",
      "840/840 [==============================] - 1s 968us/step - loss: 0.4226 - accuracy: 0.0000e+00\n",
      "Epoch 58/100\n",
      "840/840 [==============================] - 1s 963us/step - loss: 0.4217 - accuracy: 0.0000e+00\n",
      "Epoch 59/100\n",
      "840/840 [==============================] - 1s 971us/step - loss: 0.4216 - accuracy: 0.0000e+00\n",
      "Epoch 60/100\n",
      "840/840 [==============================] - 1s 975us/step - loss: 0.4190 - accuracy: 0.0000e+00\n",
      "Epoch 61/100\n",
      "840/840 [==============================] - 1s 972us/step - loss: 0.4179 - accuracy: 0.0000e+00\n",
      "Epoch 62/100\n",
      "840/840 [==============================] - 1s 966us/step - loss: 0.4134 - accuracy: 0.0000e+00\n",
      "Epoch 63/100\n",
      "840/840 [==============================] - 1s 1ms/step - loss: 0.4179 - accuracy: 0.0000e+00\n",
      "Epoch 64/100\n",
      "840/840 [==============================] - 1s 1ms/step - loss: 0.4134 - accuracy: 0.0000e+00\n",
      "Epoch 65/100\n",
      "840/840 [==============================] - 1s 1ms/step - loss: 0.4128 - accuracy: 0.0000e+00\n",
      "Epoch 66/100\n",
      "840/840 [==============================] - 1s 1ms/step - loss: 0.4106 - accuracy: 0.0000e+00\n",
      "Epoch 67/100\n",
      "840/840 [==============================] - 1s 978us/step - loss: 0.4123 - accuracy: 0.0000e+00\n",
      "Epoch 68/100\n",
      "840/840 [==============================] - 1s 976us/step - loss: 0.4089 - accuracy: 0.0000e+00\n",
      "Epoch 69/100\n",
      "840/840 [==============================] - 1s 981us/step - loss: 0.4073 - accuracy: 0.0000e+00\n",
      "Epoch 70/100\n",
      "840/840 [==============================] - 1s 975us/step - loss: 0.4073 - accuracy: 0.0000e+00\n",
      "Epoch 71/100\n",
      "840/840 [==============================] - 1s 989us/step - loss: 0.4071 - accuracy: 0.0000e+00\n",
      "Epoch 72/100\n",
      "840/840 [==============================] - 1s 1ms/step - loss: 0.4046 - accuracy: 0.0000e+00\n",
      "Epoch 73/100\n",
      "840/840 [==============================] - 1s 1ms/step - loss: 0.4045 - accuracy: 0.0000e+00\n",
      "Epoch 74/100\n",
      "840/840 [==============================] - 1s 971us/step - loss: 0.4009 - accuracy: 0.0000e+00\n",
      "Epoch 75/100\n",
      "840/840 [==============================] - 1s 964us/step - loss: 0.4023 - accuracy: 0.0000e+00\n",
      "Epoch 76/100\n",
      "840/840 [==============================] - 1s 936us/step - loss: 0.3999 - accuracy: 0.0000e+00\n",
      "Epoch 77/100\n",
      "840/840 [==============================] - 1s 935us/step - loss: 0.4010 - accuracy: 0.0000e+00\n",
      "Epoch 78/100\n",
      "840/840 [==============================] - 1s 935us/step - loss: 0.4009 - accuracy: 0.0000e+00\n",
      "Epoch 79/100\n",
      "840/840 [==============================] - 1s 978us/step - loss: 0.3999 - accuracy: 0.0000e+00\n",
      "Epoch 80/100\n",
      "840/840 [==============================] - 1s 934us/step - loss: 0.3973 - accuracy: 0.0000e+00\n",
      "Epoch 81/100\n",
      "840/840 [==============================] - 1s 956us/step - loss: 0.3966 - accuracy: 0.0000e+00\n",
      "Epoch 82/100\n",
      "840/840 [==============================] - 1s 1ms/step - loss: 0.3968 - accuracy: 0.0000e+00\n",
      "Epoch 83/100\n",
      "840/840 [==============================] - 1s 1ms/step - loss: 0.3937 - accuracy: 0.0000e+00\n",
      "Epoch 84/100\n",
      "840/840 [==============================] - 1s 1ms/step - loss: 0.3960 - accuracy: 0.0000e+00\n",
      "Epoch 85/100\n",
      "840/840 [==============================] - 1s 942us/step - loss: 0.3960 - accuracy: 0.0000e+00\n",
      "Epoch 86/100\n",
      "840/840 [==============================] - 1s 1ms/step - loss: 0.3924 - accuracy: 0.0000e+00\n",
      "Epoch 87/100\n",
      "840/840 [==============================] - 1s 928us/step - loss: 0.3914 - accuracy: 0.0000e+00\n",
      "Epoch 88/100\n",
      "840/840 [==============================] - 1s 935us/step - loss: 0.3930 - accuracy: 0.0000e+00\n",
      "Epoch 89/100\n",
      "840/840 [==============================] - 1s 932us/step - loss: 0.3892 - accuracy: 0.0000e+00\n",
      "Epoch 90/100\n",
      "840/840 [==============================] - 1s 930us/step - loss: 0.3930 - accuracy: 0.0000e+00\n",
      "Epoch 91/100\n",
      "840/840 [==============================] - 1s 932us/step - loss: 0.3911 - accuracy: 0.0000e+00\n",
      "Epoch 92/100\n",
      "840/840 [==============================] - 1s 932us/step - loss: 0.3913 - accuracy: 0.0000e+00\n",
      "Epoch 93/100\n",
      "840/840 [==============================] - 1s 987us/step - loss: 0.3882 - accuracy: 0.0000e+00\n",
      "Epoch 94/100\n",
      "840/840 [==============================] - 1s 974us/step - loss: 0.3864 - accuracy: 0.0000e+00\n",
      "Epoch 95/100\n",
      "840/840 [==============================] - 1s 1ms/step - loss: 0.3887 - accuracy: 0.0000e+00\n",
      "Epoch 96/100\n",
      "840/840 [==============================] - 1s 972us/step - loss: 0.3864 - accuracy: 0.0000e+00\n",
      "Epoch 97/100\n",
      "840/840 [==============================] - 1s 1ms/step - loss: 0.3847 - accuracy: 0.0000e+00\n",
      "Epoch 98/100\n",
      "840/840 [==============================] - 1s 972us/step - loss: 0.3850 - accuracy: 0.0000e+00\n",
      "Epoch 99/100\n",
      "840/840 [==============================] - 1s 1ms/step - loss: 0.3860 - accuracy: 0.0000e+00\n",
      "Epoch 100/100\n",
      "840/840 [==============================] - 1s 1ms/step - loss: 0.3804 - accuracy: 0.0000e+00\n"
     ]
    },
    {
     "data": {
      "text/plain": [
       "<keras.callbacks.History at 0x227fd396bb0>"
      ]
     },
     "execution_count": 11,
     "metadata": {},
     "output_type": "execute_result"
    }
   ],
   "source": [
    "# Fitting the ANN to the Training set\n",
    "rnn.fit(X_train, y_train, batch_size = 8, epochs = 100)"
   ]
  },
  {
   "cell_type": "code",
   "execution_count": 12,
   "id": "5c90fb6a",
   "metadata": {},
   "outputs": [],
   "source": [
    "\n",
    "# Predicting the Test set results\n",
    "y_pred = rnn.predict(X_test)"
   ]
  },
  {
   "cell_type": "code",
   "execution_count": 13,
   "id": "c31fc500",
   "metadata": {},
   "outputs": [],
   "source": [
    "# Inversing scaling\n",
    "from sklearn.preprocessing import StandardScaler\n",
    "y_hat = sc_y.inverse_transform(y_pred)\n",
    "y_test = sc_y.inverse_transform(y_test)\n",
    "X_test = sc_X.inverse_transform(X_test)"
   ]
  },
  {
   "cell_type": "code",
   "execution_count": 14,
   "id": "94fcf8ac",
   "metadata": {},
   "outputs": [
    {
     "data": {
      "text/plain": [
       "(1.213, 1.596)"
      ]
     },
     "execution_count": 14,
     "metadata": {},
     "output_type": "execute_result"
    }
   ],
   "source": [
    "# Mean squared error\n",
    "from sklearn.metrics import mean_squared_error\n",
    "mean_squared_error(sc_y.inverse_transform(y_train), sc_y.inverse_transform(rnn.predict(X_train)), squared=False).round(3), mean_squared_error(y_test, y_hat, squared=False).round(3)"
   ]
  },
  {
   "cell_type": "markdown",
   "id": "002ffee4",
   "metadata": {},
   "source": [
    "*Итак, получены значения MSE. Значение на тестовой выборке превышает обучающую, однако на обучающей мы имеем наименьшее число, среди всех полученных моделей. Если бы не произошло переобучение, то данный метод повел бы себя наилучшим образом. Итак, в ходе данной работы я бы остановился на методе CatBoost."
   ]
  },
  {
   "cell_type": "code",
   "execution_count": null,
   "id": "23475b61",
   "metadata": {},
   "outputs": [],
   "source": []
  }
 ],
 "metadata": {
  "kernelspec": {
   "display_name": "Python 3",
   "language": "python",
   "name": "python3"
  },
  "language_info": {
   "codemirror_mode": {
    "name": "ipython",
    "version": 3
   },
   "file_extension": ".py",
   "mimetype": "text/x-python",
   "name": "python",
   "nbconvert_exporter": "python",
   "pygments_lexer": "ipython3",
   "version": "3.8.8"
  }
 },
 "nbformat": 4,
 "nbformat_minor": 5
}
