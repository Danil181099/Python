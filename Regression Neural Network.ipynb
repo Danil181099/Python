{
 "cells": [
  {
   "cell_type": "markdown",
   "id": "981125bd",
   "metadata": {},
   "source": [
    "# Regression Neural Network"
   ]
  },
  {
   "cell_type": "code",
   "execution_count": 1,
   "id": "f43f2a11",
   "metadata": {},
   "outputs": [],
   "source": [
    "# Importing the libraries\n",
    "import numpy as np\n",
    "import matplotlib.pyplot as plt\n",
    "import pandas as pd"
   ]
  },
  {
   "cell_type": "code",
   "execution_count": 2,
   "id": "4db45d45",
   "metadata": {},
   "outputs": [],
   "source": [
    "# Importing prepared dataset\n",
    "import pickle\n",
    "input = open('data_reg.pkl', 'rb')\n",
    "obj = pickle.load(input)\n",
    "input.close()\n",
    "X_train = obj[\"X_train\"]\n",
    "X_test = obj[\"X_test\"]\n",
    "y_train = obj[\"y_train\"]\n",
    "y_test = obj[\"y_test\"]\n",
    "\n",
    "y_train = np.asarray(y_train).reshape(-1,1)\n",
    "y_test = np.asarray(y_test).reshape(-1,1)"
   ]
  },
  {
   "cell_type": "markdown",
   "id": "fa317462",
   "metadata": {},
   "source": [
    "* импорт файла, а записи из этого файлы помещены в соответствующие переменные. "
   ]
  },
  {
   "cell_type": "code",
   "execution_count": 3,
   "id": "02850ee8",
   "metadata": {},
   "outputs": [],
   "source": [
    "# Feature Scaling\n",
    "from sklearn.preprocessing import StandardScaler\n",
    "sc_X = StandardScaler().fit(X_train)\n",
    "X_train = sc_X.transform(X_train)\n",
    "X_test = sc_X.transform(X_test)\n",
    "sc_y = StandardScaler().fit(y_train)\n",
    "y_train = sc_y.transform(y_train)\n",
    "y_test = sc_y.transform(y_test)"
   ]
  },
  {
   "cell_type": "markdown",
   "id": "eabd3c61",
   "metadata": {},
   "source": [
    "* произведено предварительное шкалирование данные"
   ]
  },
  {
   "cell_type": "code",
   "execution_count": 4,
   "id": "a949713b",
   "metadata": {},
   "outputs": [],
   "source": [
    "#!pip install tensorflow\n",
    "#!pip install keras"
   ]
  },
  {
   "cell_type": "code",
   "execution_count": 5,
   "id": "d53965cf",
   "metadata": {},
   "outputs": [],
   "source": [
    "# Importing the Keras libraries and packages\n",
    "import keras\n",
    "from keras.models import Sequential\n",
    "from keras.layers import Dense"
   ]
  },
  {
   "cell_type": "code",
   "execution_count": 6,
   "id": "035c8fc7",
   "metadata": {},
   "outputs": [],
   "source": [
    "# Initialising the ANN\n",
    "rnn = Sequential()\n",
    "\n",
    "# Adding the input layer and the first hidden layer\n",
    "rnn.add(Dense(20, activation = 'tanh', input_dim = 19))\n",
    "\n",
    "# Adding the second hidden layer\n",
    "rnn.add(Dense(10, activation = 'tanh'))\n",
    "\n",
    "# Adding the third hidden layer\n",
    "rnn.add(Dense(5, activation = 'tanh'))\n",
    "\n",
    "# Adding the output layer\n",
    "rnn.add(Dense(1, activation = 'linear'))\n",
    "\n",
    "# Compiling the ANN\n",
    "rnn.compile(optimizer='adam', loss='mean_squared_error', metrics = ['accuracy'])"
   ]
  },
  {
   "cell_type": "markdown",
   "id": "eccb8c6f",
   "metadata": {},
   "source": [
    "Создана нейронная сеть. Добавлены слои. На вход поступает вектор размерностью 19. Целесообразно на слоях сети брать функцию, которая изменяется в том же диапозоне, что и данные - тангенс, а на выходе линейную. Такое сочетание функций дает наилучший результат."
   ]
  },
  {
   "cell_type": "code",
   "execution_count": 7,
   "id": "73810c0e",
   "metadata": {
    "scrolled": false
   },
   "outputs": [
    {
     "name": "stdout",
     "output_type": "stream",
     "text": [
      "Epoch 1/100\n",
      "672/672 [==============================] - 1s 1ms/step - loss: 0.7201 - accuracy: 0.0000e+00 - val_loss: 0.6390 - val_accuracy: 0.0000e+00\n",
      "Epoch 2/100\n",
      "672/672 [==============================] - 1s 1ms/step - loss: 0.6394 - accuracy: 0.0000e+00 - val_loss: 0.6297 - val_accuracy: 0.0000e+00\n",
      "Epoch 3/100\n",
      "672/672 [==============================] - 1s 1ms/step - loss: 0.6245 - accuracy: 0.0000e+00 - val_loss: 0.6217 - val_accuracy: 0.0000e+00\n",
      "Epoch 4/100\n",
      "672/672 [==============================] - 1s 1ms/step - loss: 0.6060 - accuracy: 0.0000e+00 - val_loss: 0.6026 - val_accuracy: 0.0000e+00\n",
      "Epoch 5/100\n",
      "672/672 [==============================] - 1s 1ms/step - loss: 0.5832 - accuracy: 0.0000e+00 - val_loss: 0.5769 - val_accuracy: 0.0000e+00\n",
      "Epoch 6/100\n",
      "672/672 [==============================] - 1s 1ms/step - loss: 0.5662 - accuracy: 0.0000e+00 - val_loss: 0.5615 - val_accuracy: 0.0000e+00\n",
      "Epoch 7/100\n",
      "672/672 [==============================] - 1s 1ms/step - loss: 0.5532 - accuracy: 0.0000e+00 - val_loss: 0.5576 - val_accuracy: 0.0000e+00\n",
      "Epoch 8/100\n",
      "672/672 [==============================] - 1s 2ms/step - loss: 0.5426 - accuracy: 0.0000e+00 - val_loss: 0.5455 - val_accuracy: 0.0000e+00\n",
      "Epoch 9/100\n",
      "672/672 [==============================] - 1s 1ms/step - loss: 0.5347 - accuracy: 0.0000e+00 - val_loss: 0.5407 - val_accuracy: 0.0000e+00\n",
      "Epoch 10/100\n",
      "672/672 [==============================] - 1s 1ms/step - loss: 0.5263 - accuracy: 0.0000e+00 - val_loss: 0.5332 - val_accuracy: 0.0000e+00\n",
      "Epoch 11/100\n",
      "672/672 [==============================] - 1s 2ms/step - loss: 0.5223 - accuracy: 0.0000e+00 - val_loss: 0.5277 - val_accuracy: 0.0000e+00\n",
      "Epoch 12/100\n",
      "672/672 [==============================] - 1s 2ms/step - loss: 0.5158 - accuracy: 0.0000e+00 - val_loss: 0.5295 - val_accuracy: 0.0000e+00\n",
      "Epoch 13/100\n",
      "672/672 [==============================] - 1s 2ms/step - loss: 0.5122 - accuracy: 0.0000e+00 - val_loss: 0.5261 - val_accuracy: 0.0000e+00\n",
      "Epoch 14/100\n",
      "672/672 [==============================] - 1s 2ms/step - loss: 0.5077 - accuracy: 0.0000e+00 - val_loss: 0.5276 - val_accuracy: 0.0000e+00\n",
      "Epoch 15/100\n",
      "672/672 [==============================] - 1s 2ms/step - loss: 0.5030 - accuracy: 0.0000e+00 - val_loss: 0.5276 - val_accuracy: 0.0000e+00\n",
      "Epoch 16/100\n",
      "672/672 [==============================] - 1s 2ms/step - loss: 0.4986 - accuracy: 0.0000e+00 - val_loss: 0.5252 - val_accuracy: 0.0000e+00\n",
      "Epoch 17/100\n",
      "672/672 [==============================] - 1s 2ms/step - loss: 0.4962 - accuracy: 0.0000e+00 - val_loss: 0.5321 - val_accuracy: 0.0000e+00\n",
      "Epoch 18/100\n",
      "672/672 [==============================] - 1s 2ms/step - loss: 0.4921 - accuracy: 0.0000e+00 - val_loss: 0.5252 - val_accuracy: 0.0000e+00\n",
      "Epoch 19/100\n",
      "672/672 [==============================] - 1s 2ms/step - loss: 0.4910 - accuracy: 0.0000e+00 - val_loss: 0.5231 - val_accuracy: 0.0000e+00\n",
      "Epoch 20/100\n",
      "672/672 [==============================] - 1s 2ms/step - loss: 0.4887 - accuracy: 0.0000e+00 - val_loss: 0.5308 - val_accuracy: 0.0000e+00\n",
      "Epoch 21/100\n",
      "672/672 [==============================] - 1s 2ms/step - loss: 0.4860 - accuracy: 0.0000e+00 - val_loss: 0.5239 - val_accuracy: 0.0000e+00\n",
      "Epoch 22/100\n",
      "672/672 [==============================] - 1s 2ms/step - loss: 0.4816 - accuracy: 0.0000e+00 - val_loss: 0.5296 - val_accuracy: 0.0000e+00\n",
      "Epoch 23/100\n",
      "672/672 [==============================] - 1s 2ms/step - loss: 0.4791 - accuracy: 0.0000e+00 - val_loss: 0.5340 - val_accuracy: 0.0000e+00\n",
      "Epoch 24/100\n",
      "672/672 [==============================] - 1s 1ms/step - loss: 0.4785 - accuracy: 0.0000e+00 - val_loss: 0.5275 - val_accuracy: 0.0000e+00\n",
      "Epoch 25/100\n",
      "672/672 [==============================] - 1s 1ms/step - loss: 0.4755 - accuracy: 0.0000e+00 - val_loss: 0.5368 - val_accuracy: 0.0000e+00\n",
      "Epoch 26/100\n",
      "672/672 [==============================] - 1s 1ms/step - loss: 0.4734 - accuracy: 0.0000e+00 - val_loss: 0.5287 - val_accuracy: 0.0000e+00\n",
      "Epoch 27/100\n",
      "672/672 [==============================] - 1s 1ms/step - loss: 0.4707 - accuracy: 0.0000e+00 - val_loss: 0.5260 - val_accuracy: 0.0000e+00\n",
      "Epoch 28/100\n",
      "672/672 [==============================] - 1s 1ms/step - loss: 0.4711 - accuracy: 0.0000e+00 - val_loss: 0.5310 - val_accuracy: 0.0000e+00\n",
      "Epoch 29/100\n",
      "672/672 [==============================] - 1s 1ms/step - loss: 0.4680 - accuracy: 0.0000e+00 - val_loss: 0.5306 - val_accuracy: 0.0000e+00\n",
      "Epoch 30/100\n",
      "672/672 [==============================] - 1s 1ms/step - loss: 0.4662 - accuracy: 0.0000e+00 - val_loss: 0.5279 - val_accuracy: 0.0000e+00\n",
      "Epoch 31/100\n",
      "672/672 [==============================] - 1s 1ms/step - loss: 0.4648 - accuracy: 0.0000e+00 - val_loss: 0.5301 - val_accuracy: 0.0000e+00\n",
      "Epoch 32/100\n",
      "672/672 [==============================] - 1s 1ms/step - loss: 0.4628 - accuracy: 0.0000e+00 - val_loss: 0.5282 - val_accuracy: 0.0000e+00\n",
      "Epoch 33/100\n",
      "672/672 [==============================] - 1s 1ms/step - loss: 0.4619 - accuracy: 0.0000e+00 - val_loss: 0.5318 - val_accuracy: 0.0000e+00\n",
      "Epoch 34/100\n",
      "672/672 [==============================] - 1s 1ms/step - loss: 0.4587 - accuracy: 0.0000e+00 - val_loss: 0.5278 - val_accuracy: 0.0000e+00\n",
      "Epoch 35/100\n",
      "672/672 [==============================] - 1s 1ms/step - loss: 0.4569 - accuracy: 0.0000e+00 - val_loss: 0.5304 - val_accuracy: 0.0000e+00\n",
      "Epoch 36/100\n",
      "672/672 [==============================] - 1s 1ms/step - loss: 0.4566 - accuracy: 0.0000e+00 - val_loss: 0.5318 - val_accuracy: 0.0000e+00\n",
      "Epoch 37/100\n",
      "672/672 [==============================] - 1s 1ms/step - loss: 0.4545 - accuracy: 0.0000e+00 - val_loss: 0.5341 - val_accuracy: 0.0000e+00\n",
      "Epoch 38/100\n",
      "672/672 [==============================] - 1s 1ms/step - loss: 0.4525 - accuracy: 0.0000e+00 - val_loss: 0.5346 - val_accuracy: 0.0000e+00\n",
      "Epoch 39/100\n",
      "672/672 [==============================] - 1s 1ms/step - loss: 0.4500 - accuracy: 0.0000e+00 - val_loss: 0.5337 - val_accuracy: 0.0000e+00\n",
      "Epoch 40/100\n",
      "672/672 [==============================] - 1s 1ms/step - loss: 0.4497 - accuracy: 0.0000e+00 - val_loss: 0.5309 - val_accuracy: 0.0000e+00\n",
      "Epoch 41/100\n",
      "672/672 [==============================] - 1s 1ms/step - loss: 0.4471 - accuracy: 0.0000e+00 - val_loss: 0.5292 - val_accuracy: 0.0000e+00\n",
      "Epoch 42/100\n",
      "672/672 [==============================] - 1s 1ms/step - loss: 0.4453 - accuracy: 0.0000e+00 - val_loss: 0.5427 - val_accuracy: 0.0000e+00\n",
      "Epoch 43/100\n",
      "672/672 [==============================] - 1s 1ms/step - loss: 0.4446 - accuracy: 0.0000e+00 - val_loss: 0.5394 - val_accuracy: 0.0000e+00\n",
      "Epoch 44/100\n",
      "672/672 [==============================] - 1s 1ms/step - loss: 0.4422 - accuracy: 0.0000e+00 - val_loss: 0.5404 - val_accuracy: 0.0000e+00\n",
      "Epoch 45/100\n",
      "672/672 [==============================] - 1s 1ms/step - loss: 0.4408 - accuracy: 0.0000e+00 - val_loss: 0.5362 - val_accuracy: 0.0000e+00\n",
      "Epoch 46/100\n",
      "672/672 [==============================] - 1s 1ms/step - loss: 0.4395 - accuracy: 0.0000e+00 - val_loss: 0.5515 - val_accuracy: 0.0000e+00\n",
      "Epoch 47/100\n",
      "672/672 [==============================] - 1s 1ms/step - loss: 0.4387 - accuracy: 0.0000e+00 - val_loss: 0.5459 - val_accuracy: 0.0000e+00\n",
      "Epoch 48/100\n",
      "672/672 [==============================] - 1s 1ms/step - loss: 0.4354 - accuracy: 0.0000e+00 - val_loss: 0.5496 - val_accuracy: 0.0000e+00\n",
      "Epoch 49/100\n",
      "672/672 [==============================] - 1s 1ms/step - loss: 0.4330 - accuracy: 0.0000e+00 - val_loss: 0.5456 - val_accuracy: 0.0000e+00\n",
      "Epoch 50/100\n",
      "672/672 [==============================] - 1s 1ms/step - loss: 0.4335 - accuracy: 0.0000e+00 - val_loss: 0.5452 - val_accuracy: 0.0000e+00\n",
      "Epoch 51/100\n",
      "672/672 [==============================] - 1s 1ms/step - loss: 0.4317 - accuracy: 0.0000e+00 - val_loss: 0.5484 - val_accuracy: 0.0000e+00\n",
      "Epoch 52/100\n",
      "672/672 [==============================] - 1s 1ms/step - loss: 0.4287 - accuracy: 0.0000e+00 - val_loss: 0.5499 - val_accuracy: 0.0000e+00\n",
      "Epoch 53/100\n",
      "672/672 [==============================] - 1s 1ms/step - loss: 0.4279 - accuracy: 0.0000e+00 - val_loss: 0.5468 - val_accuracy: 0.0000e+00\n",
      "Epoch 54/100\n",
      "672/672 [==============================] - 1s 1ms/step - loss: 0.4271 - accuracy: 0.0000e+00 - val_loss: 0.5517 - val_accuracy: 0.0000e+00\n"
     ]
    },
    {
     "name": "stdout",
     "output_type": "stream",
     "text": [
      "Epoch 55/100\n",
      "672/672 [==============================] - 1s 1ms/step - loss: 0.4249 - accuracy: 0.0000e+00 - val_loss: 0.5490 - val_accuracy: 0.0000e+00\n",
      "Epoch 56/100\n",
      "672/672 [==============================] - 1s 1ms/step - loss: 0.4243 - accuracy: 0.0000e+00 - val_loss: 0.5483 - val_accuracy: 0.0000e+00\n",
      "Epoch 57/100\n",
      "672/672 [==============================] - 1s 1ms/step - loss: 0.4197 - accuracy: 0.0000e+00 - val_loss: 0.5463 - val_accuracy: 0.0000e+00\n",
      "Epoch 58/100\n",
      "672/672 [==============================] - 1s 1ms/step - loss: 0.4211 - accuracy: 0.0000e+00 - val_loss: 0.5475 - val_accuracy: 0.0000e+00\n",
      "Epoch 59/100\n",
      "672/672 [==============================] - 1s 1ms/step - loss: 0.4186 - accuracy: 0.0000e+00 - val_loss: 0.5555 - val_accuracy: 0.0000e+00curacy: 0.0000e+\n",
      "Epoch 60/100\n",
      "672/672 [==============================] - 1s 1ms/step - loss: 0.4178 - accuracy: 0.0000e+00 - val_loss: 0.5504 - val_accuracy: 0.0000e+00\n",
      "Epoch 61/100\n",
      "672/672 [==============================] - 1s 1ms/step - loss: 0.4155 - accuracy: 0.0000e+00 - val_loss: 0.5505 - val_accuracy: 0.0000e+00\n",
      "Epoch 62/100\n",
      "672/672 [==============================] - 1s 1ms/step - loss: 0.4145 - accuracy: 0.0000e+00 - val_loss: 0.5570 - val_accuracy: 0.0000e+00\n",
      "Epoch 63/100\n",
      "672/672 [==============================] - 1s 1ms/step - loss: 0.4138 - accuracy: 0.0000e+00 - val_loss: 0.5592 - val_accuracy: 0.0000e+00\n",
      "Epoch 64/100\n",
      "672/672 [==============================] - 1s 1ms/step - loss: 0.4119 - accuracy: 0.0000e+00 - val_loss: 0.5639 - val_accuracy: 0.0000e+00\n",
      "Epoch 65/100\n",
      "672/672 [==============================] - 1s 1ms/step - loss: 0.4108 - accuracy: 0.0000e+00 - val_loss: 0.5567 - val_accuracy: 0.0000e+00\n",
      "Epoch 66/100\n",
      "672/672 [==============================] - 1s 1ms/step - loss: 0.4097 - accuracy: 0.0000e+00 - val_loss: 0.5561 - val_accuracy: 0.0000e+00\n",
      "Epoch 67/100\n",
      "672/672 [==============================] - 1s 1ms/step - loss: 0.4084 - accuracy: 0.0000e+00 - val_loss: 0.5614 - val_accuracy: 0.0000e+00\n",
      "Epoch 68/100\n",
      "672/672 [==============================] - 1s 1ms/step - loss: 0.4087 - accuracy: 0.0000e+00 - val_loss: 0.5603 - val_accuracy: 0.0000e+00\n",
      "Epoch 69/100\n",
      "672/672 [==============================] - 1s 1ms/step - loss: 0.4058 - accuracy: 0.0000e+00 - val_loss: 0.5679 - val_accuracy: 0.0000e+00\n",
      "Epoch 70/100\n",
      "672/672 [==============================] - 1s 1ms/step - loss: 0.4060 - accuracy: 0.0000e+00 - val_loss: 0.5650 - val_accuracy: 0.0000e+00\n",
      "Epoch 71/100\n",
      "672/672 [==============================] - 1s 1ms/step - loss: 0.4050 - accuracy: 0.0000e+00 - val_loss: 0.5593 - val_accuracy: 0.0000e+00\n",
      "Epoch 72/100\n",
      "672/672 [==============================] - 1s 1ms/step - loss: 0.4038 - accuracy: 0.0000e+00 - val_loss: 0.5643 - val_accuracy: 0.0000e+00\n",
      "Epoch 73/100\n",
      "672/672 [==============================] - 1s 1ms/step - loss: 0.4020 - accuracy: 0.0000e+00 - val_loss: 0.5635 - val_accuracy: 0.0000e+00\n",
      "Epoch 74/100\n",
      "672/672 [==============================] - 1s 1ms/step - loss: 0.4013 - accuracy: 0.0000e+00 - val_loss: 0.5727 - val_accuracy: 0.0000e+00\n",
      "Epoch 75/100\n",
      "672/672 [==============================] - 1s 1ms/step - loss: 0.4008 - accuracy: 0.0000e+00 - val_loss: 0.5726 - val_accuracy: 0.0000e+00\n",
      "Epoch 76/100\n",
      "672/672 [==============================] - 1s 1ms/step - loss: 0.3987 - accuracy: 0.0000e+00 - val_loss: 0.5716 - val_accuracy: 0.0000e+00\n",
      "Epoch 77/100\n",
      "672/672 [==============================] - 1s 1ms/step - loss: 0.3973 - accuracy: 0.0000e+00 - val_loss: 0.5804 - val_accuracy: 0.0000e+00\n",
      "Epoch 78/100\n",
      "672/672 [==============================] - 1s 1ms/step - loss: 0.3967 - accuracy: 0.0000e+00 - val_loss: 0.5714 - val_accuracy: 0.0000e+00\n",
      "Epoch 79/100\n",
      "672/672 [==============================] - 1s 1ms/step - loss: 0.3957 - accuracy: 0.0000e+00 - val_loss: 0.5683 - val_accuracy: 0.0000e+00\n",
      "Epoch 80/100\n",
      "672/672 [==============================] - 1s 1ms/step - loss: 0.3946 - accuracy: 0.0000e+00 - val_loss: 0.5883 - val_accuracy: 0.0000e+00\n",
      "Epoch 81/100\n",
      "672/672 [==============================] - 1s 1ms/step - loss: 0.3936 - accuracy: 0.0000e+00 - val_loss: 0.5843 - val_accuracy: 0.0000e+00\n",
      "Epoch 82/100\n",
      "672/672 [==============================] - 1s 1ms/step - loss: 0.3926 - accuracy: 0.0000e+00 - val_loss: 0.5787 - val_accuracy: 0.0000e+00\n",
      "Epoch 83/100\n",
      "672/672 [==============================] - 1s 1ms/step - loss: 0.3919 - accuracy: 0.0000e+00 - val_loss: 0.5845 - val_accuracy: 0.0000e+00\n",
      "Epoch 84/100\n",
      "672/672 [==============================] - 1s 1ms/step - loss: 0.3916 - accuracy: 0.0000e+00 - val_loss: 0.5787 - val_accuracy: 0.0000e+00\n",
      "Epoch 85/100\n",
      "672/672 [==============================] - 1s 1ms/step - loss: 0.3895 - accuracy: 0.0000e+00 - val_loss: 0.5868 - val_accuracy: 0.0000e+00\n",
      "Epoch 86/100\n",
      "672/672 [==============================] - 1s 1ms/step - loss: 0.3891 - accuracy: 0.0000e+00 - val_loss: 0.5858 - val_accuracy: 0.0000e+00\n",
      "Epoch 87/100\n",
      "672/672 [==============================] - 1s 1ms/step - loss: 0.3885 - accuracy: 0.0000e+00 - val_loss: 0.5885 - val_accuracy: 0.0000e+00\n",
      "Epoch 88/100\n",
      "672/672 [==============================] - 1s 1ms/step - loss: 0.3876 - accuracy: 0.0000e+00 - val_loss: 0.5863 - val_accuracy: 0.0000e+00\n",
      "Epoch 89/100\n",
      "672/672 [==============================] - 1s 1ms/step - loss: 0.3851 - accuracy: 0.0000e+00 - val_loss: 0.5954 - val_accuracy: 0.0000e+00\n",
      "Epoch 90/100\n",
      "672/672 [==============================] - 1s 1ms/step - loss: 0.3852 - accuracy: 0.0000e+00 - val_loss: 0.5880 - val_accuracy: 0.0000e+00\n",
      "Epoch 91/100\n",
      "672/672 [==============================] - 1s 1ms/step - loss: 0.3838 - accuracy: 0.0000e+00 - val_loss: 0.5951 - val_accuracy: 0.0000e+00\n",
      "Epoch 92/100\n",
      "672/672 [==============================] - 1s 1ms/step - loss: 0.3858 - accuracy: 0.0000e+00 - val_loss: 0.5922 - val_accuracy: 0.0000e+00\n",
      "Epoch 93/100\n",
      "672/672 [==============================] - 1s 1ms/step - loss: 0.3843 - accuracy: 0.0000e+00 - val_loss: 0.6012 - val_accuracy: 0.0000e+00\n",
      "Epoch 94/100\n",
      "672/672 [==============================] - 1s 1ms/step - loss: 0.3827 - accuracy: 0.0000e+00 - val_loss: 0.6025 - val_accuracy: 0.0000e+00\n",
      "Epoch 95/100\n",
      "672/672 [==============================] - 1s 1ms/step - loss: 0.3822 - accuracy: 0.0000e+00 - val_loss: 0.5920 - val_accuracy: 0.0000e+00\n",
      "Epoch 96/100\n",
      "672/672 [==============================] - 1s 1ms/step - loss: 0.3815 - accuracy: 0.0000e+00 - val_loss: 0.5942 - val_accuracy: 0.0000e+00\n",
      "Epoch 97/100\n",
      "672/672 [==============================] - 1s 1ms/step - loss: 0.3800 - accuracy: 0.0000e+00 - val_loss: 0.6057 - val_accuracy: 0.0000e+00\n",
      "Epoch 98/100\n",
      "672/672 [==============================] - 1s 1ms/step - loss: 0.3785 - accuracy: 0.0000e+00 - val_loss: 0.5978 - val_accuracy: 0.0000e+00\n",
      "Epoch 99/100\n",
      "672/672 [==============================] - 1s 1ms/step - loss: 0.3793 - accuracy: 0.0000e+00 - val_loss: 0.6051 - val_accuracy: 0.0000e+00\n",
      "Epoch 100/100\n",
      "672/672 [==============================] - 1s 1ms/step - loss: 0.3784 - accuracy: 0.0000e+00 - val_loss: 0.5984 - val_accuracy: 0.0000e+00\n"
     ]
    }
   ],
   "source": [
    "# Fitting the ANN to the Training set\n",
    "k = rnn.fit(X_train, y_train, batch_size = 10, validation_data=(X_test, y_test), epochs = 100)"
   ]
  },
  {
   "cell_type": "markdown",
   "id": "7c93baa0",
   "metadata": {},
   "source": [
    "В ходе эксперимента были заданы различные значения batch_size (от 8 до 14) и выявлено, что при 10 получен наилучший результат. Данные на тестовой выборке несколько больше, однако в целом сопостовимы значения."
   ]
  },
  {
   "cell_type": "code",
   "execution_count": 8,
   "id": "5c90fb6a",
   "metadata": {},
   "outputs": [],
   "source": [
    "\n",
    "# Predicting the Test set results\n",
    "y_pred = rnn.predict(X_test)"
   ]
  },
  {
   "cell_type": "code",
   "execution_count": 9,
   "id": "d9c84f81",
   "metadata": {
    "scrolled": true
   },
   "outputs": [
    {
     "data": {
      "image/png": "[encoded data removed]",
      "text/plain": [
       "<Figure size 432x288 with 1 Axes>"
      ]
     },
     "metadata": {
      "needs_background": "light"
     },
     "output_type": "display_data"
    }
   ],
   "source": [
    "# Plotting loss & accuracy\n",
    "plt.figure()\n",
    "plt.plot(k.history['loss'])\n",
    "plt.plot(k.history['val_loss'])\n",
    "plt.title('model loss')\n",
    "plt.ylabel('loss')\n",
    "plt.xlabel('epoch')\n",
    "plt.legend(['train', 'test'], loc='best')\n",
    "plt.show()"
   ]
  },
  {
   "cell_type": "markdown",
   "id": "b6eab128",
   "metadata": {},
   "source": [
    "После примерно 19 эпохи ошибка на тестовой выборке начинает расти.В этот момент сеть начинает переобучаться. Поэтому следует попробовать обучить модель на 19 эпохах."
   ]
  },
  {
   "cell_type": "code",
   "execution_count": 10,
   "id": "21779481",
   "metadata": {},
   "outputs": [],
   "source": [
    "# Initialising the ANN\n",
    "rnn1 = Sequential()\n",
    "\n",
    "# Adding the input layer and the first hidden layer\n",
    "rnn1.add(Dense(20, activation = 'tanh', input_dim = 19))\n",
    "\n",
    "# Adding the second hidden layer\n",
    "rnn1.add(Dense(10, activation = 'tanh'))\n",
    "\n",
    "# Adding the third hidden layer\n",
    "rnn1.add(Dense(5, activation = 'tanh'))\n",
    "\n",
    "# Adding the output layer\n",
    "rnn1.add(Dense(1, activation = 'linear'))\n",
    "\n",
    "# Compiling the ANN\n",
    "rnn1.compile(optimizer='adam', loss='mean_squared_error', metrics = ['accuracy'])"
   ]
  },
  {
   "cell_type": "code",
   "execution_count": 11,
   "id": "279ec487",
   "metadata": {
    "scrolled": true
   },
   "outputs": [
    {
     "name": "stdout",
     "output_type": "stream",
     "text": [
      "Epoch 1/18\n",
      "672/672 [==============================] - 1s 1ms/step - loss: 0.7517 - accuracy: 0.0000e+00 - val_loss: 0.6514 - val_accuracy: 0.0000e+00\n",
      "Epoch 2/18\n",
      "672/672 [==============================] - 1s 1ms/step - loss: 0.6379 - accuracy: 0.0000e+00 - val_loss: 0.6274 - val_accuracy: 0.0000e+00\n",
      "Epoch 3/18\n",
      "672/672 [==============================] - 1s 1ms/step - loss: 0.6165 - accuracy: 0.0000e+00 - val_loss: 0.6093 - val_accuracy: 0.0000e+00\n",
      "Epoch 4/18\n",
      "672/672 [==============================] - 1s 1ms/step - loss: 0.5965 - accuracy: 0.0000e+00 - val_loss: 0.5963 - val_accuracy: 0.0000e+00\n",
      "Epoch 5/18\n",
      "672/672 [==============================] - 1s 1ms/step - loss: 0.5819 - accuracy: 0.0000e+00 - val_loss: 0.5659 - val_accuracy: 0.0000e+00\n",
      "Epoch 6/18\n",
      "672/672 [==============================] - 1s 1ms/step - loss: 0.5682 - accuracy: 0.0000e+00 - val_loss: 0.5582 - val_accuracy: 0.0000e+00\n",
      "Epoch 7/18\n",
      "672/672 [==============================] - 1s 1ms/step - loss: 0.5545 - accuracy: 0.0000e+00 - val_loss: 0.5466 - val_accuracy: 0.0000e+00\n",
      "Epoch 8/18\n",
      "672/672 [==============================] - 1s 1ms/step - loss: 0.5412 - accuracy: 0.0000e+00 - val_loss: 0.5392 - val_accuracy: 0.0000e+00\n",
      "Epoch 9/18\n",
      "672/672 [==============================] - 1s 1ms/step - loss: 0.5315 - accuracy: 0.0000e+00 - val_loss: 0.5313 - val_accuracy: 0.0000e+00\n",
      "Epoch 10/18\n",
      "672/672 [==============================] - 1s 1ms/step - loss: 0.5233 - accuracy: 0.0000e+00 - val_loss: 0.5298 - val_accuracy: 0.0000e+00\n",
      "Epoch 11/18\n",
      "672/672 [==============================] - 1s 1ms/step - loss: 0.5213 - accuracy: 0.0000e+00 - val_loss: 0.5209 - val_accuracy: 0.0000e+00\n",
      "Epoch 12/18\n",
      "672/672 [==============================] - 1s 1ms/step - loss: 0.5141 - accuracy: 0.0000e+00 - val_loss: 0.5196 - val_accuracy: 0.0000e+00\n",
      "Epoch 13/18\n",
      "672/672 [==============================] - 1s 1ms/step - loss: 0.5100 - accuracy: 0.0000e+00 - val_loss: 0.5195 - val_accuracy: 0.0000e+00\n",
      "Epoch 14/18\n",
      "672/672 [==============================] - 1s 1ms/step - loss: 0.5058 - accuracy: 0.0000e+00 - val_loss: 0.5183 - val_accuracy: 0.0000e+00\n",
      "Epoch 15/18\n",
      "672/672 [==============================] - 1s 1ms/step - loss: 0.5013 - accuracy: 0.0000e+00 - val_loss: 0.5198 - val_accuracy: 0.0000e+00\n",
      "Epoch 16/18\n",
      "672/672 [==============================] - 1s 1ms/step - loss: 0.4979 - accuracy: 0.0000e+00 - val_loss: 0.5244 - val_accuracy: 0.0000e+00\n",
      "Epoch 17/18\n",
      "672/672 [==============================] - 1s 1ms/step - loss: 0.4953 - accuracy: 0.0000e+00 - val_loss: 0.5213 - val_accuracy: 0.0000e+00\n",
      "Epoch 18/18\n",
      "672/672 [==============================] - 1s 1ms/step - loss: 0.4903 - accuracy: 0.0000e+00 - val_loss: 0.5159 - val_accuracy: 0.0000e+00\n"
     ]
    }
   ],
   "source": [
    "# Fitting the ANN to the Training set\n",
    "k1 = rnn1.fit(X_train, y_train, batch_size = 10, validation_data=(X_test, y_test), epochs = 18)"
   ]
  },
  {
   "cell_type": "markdown",
   "id": "4907a4e4",
   "metadata": {},
   "source": [
    "Для данной НС так же оптимальным числом batch_size является 10."
   ]
  },
  {
   "cell_type": "code",
   "execution_count": 12,
   "id": "0e4f9dd3",
   "metadata": {},
   "outputs": [],
   "source": [
    "\n",
    "# Predicting the Test set results\n",
    "y_pred1 = rnn1.predict(X_test)"
   ]
  },
  {
   "cell_type": "code",
   "execution_count": 13,
   "id": "07c3cb93",
   "metadata": {},
   "outputs": [
    {
     "data": {
      "image/png": "[encoded data removed]",
      "text/plain": [
       "<Figure size 432x288 with 1 Axes>"
      ]
     },
     "metadata": {
      "needs_background": "light"
     },
     "output_type": "display_data"
    }
   ],
   "source": [
    "# Plotting loss & accuracy\n",
    "plt.figure()\n",
    "plt.plot(k1.history['loss'])\n",
    "plt.plot(k1.history['val_loss'])\n",
    "plt.title('model loss')\n",
    "plt.ylabel('loss')\n",
    "plt.xlabel('epoch')\n",
    "plt.legend(['train', 'test'], loc='best')\n",
    "plt.show()"
   ]
  },
  {
   "cell_type": "code",
   "execution_count": 14,
   "id": "b5034dda",
   "metadata": {},
   "outputs": [],
   "source": [
    "# Inversing scaling\n",
    "from sklearn.preprocessing import StandardScaler\n",
    "y_hat = sc_y.inverse_transform(y_pred)\n",
    "y_hat1 = sc_y.inverse_transform(y_pred1)\n",
    "y_test = sc_y.inverse_transform(y_test)\n",
    "X_test = sc_X.inverse_transform(X_test)"
   ]
  },
  {
   "cell_type": "code",
   "execution_count": 15,
   "id": "94fcf8ac",
   "metadata": {},
   "outputs": [
    {
     "data": {
      "text/plain": [
       "(1.205, 1.55)"
      ]
     },
     "execution_count": 15,
     "metadata": {},
     "output_type": "execute_result"
    }
   ],
   "source": [
    "# Mean squared error\n",
    "from sklearn.metrics import mean_squared_error\n",
    "mean_squared_error(sc_y.inverse_transform(y_train), sc_y.inverse_transform(rnn.predict(X_train)), squared=False).round(3), mean_squared_error(y_test, y_hat, squared=False).round(3)"
   ]
  },
  {
   "cell_type": "code",
   "execution_count": 16,
   "id": "db16decb",
   "metadata": {},
   "outputs": [
    {
     "data": {
      "text/plain": [
       "(1.384, 1.439)"
      ]
     },
     "execution_count": 16,
     "metadata": {},
     "output_type": "execute_result"
    }
   ],
   "source": [
    "# Mean squared error\n",
    "from sklearn.metrics import mean_squared_error\n",
    "mean_squared_error(sc_y.inverse_transform(y_train), sc_y.inverse_transform(rnn1.predict(X_train)), squared=False).round(3), mean_squared_error(y_test, y_hat1, squared=False).round(3)"
   ]
  },
  {
   "cell_type": "markdown",
   "id": "002ffee4",
   "metadata": {},
   "source": [
    "Итак, получены значения MSE.  На обучающей мы имеем наименьшее число, среди всех полученных моделей. "
   ]
  },
  {
   "cell_type": "code",
   "execution_count": 17,
   "id": "2e7f0727",
   "metadata": {},
   "outputs": [],
   "source": [
    "# Inversing scaling\n",
    "from sklearn.preprocessing import StandardScaler\n",
    "y_hat1 = sc_y.inverse_transform(y_pred1)\n",
    "y_test1 = sc_y.inverse_transform(y_test)\n",
    "X_test1 = sc_X.inverse_transform(X_test)"
   ]
  },
  {
   "cell_type": "markdown",
   "id": "f84003ef",
   "metadata": {},
   "source": [
    "Таким образом, были построены 2 НС, последняя из которых выдала один из минимальных значений MSE. Для оптимального результата требуются эксперименты, а именно подбор значений batch_size и исходя из графика ошибок на тестовой и обучающей - оптимальное число эпох."
   ]
  },
  {
   "cell_type": "markdown",
   "id": "660ab031",
   "metadata": {},
   "source": [
    "# ВЫВОД\n",
    "После того, как был выбран датасет - мы занялись подготовкой данных. Затем началась работа с построением моделей линейных и нелинейных регрессией, нейронных сетей.\n",
    "В ходе этого выявлено, что наилучшим образом показал себя метод CatBoost и Нейронная сеть. Выводы по нелинейной регрессии были сделаны на соответсвующей странице. По поводу НС хотелось бы добавить, что были проведены эксперименты, как и с количеством слоев, размерностью batch_size и выявлен наилучший результат. И получилось добиться один из лучших результатов.\n",
    "Таким образом целесообразно в дальнейшем использовать модель CatBoost и НС для прогнозирования результатов. Но следует заметить, что в модель лучще добавить предикторы для улучшения качества, ведь так же в ходе эксперимента выявлено, что с большим числом факторов улучшается качество. При данных условиях модель описана на среднем уровне и нуждается в доработке."
   ]
  },
  {
   "cell_type": "code",
   "execution_count": null,
   "id": "6d87403d",
   "metadata": {},
   "outputs": [],
   "source": []
  }
 ],
 "metadata": {
  "kernelspec": {
   "display_name": "Python 3",
   "language": "python",
   "name": "python3"
  },
  "language_info": {
   "codemirror_mode": {
    "name": "ipython",
    "version": 3
   },
   "file_extension": ".py",
   "mimetype": "text/x-python",
   "name": "python",
   "nbconvert_exporter": "python",
   "pygments_lexer": "ipython3",
   "version": "3.8.8"
  }
 },
 "nbformat": 4,
 "nbformat_minor": 5
}
