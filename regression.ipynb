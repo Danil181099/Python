{
 "cells": [
  {
   "cell_type": "markdown",
   "id": "57c16a00",
   "metadata": {},
   "source": [
    "# Linear Regression"
   ]
  },
  {
   "cell_type": "markdown",
   "id": "aa1b4008",
   "metadata": {},
   "source": [
    "Importing data"
   ]
  },
  {
   "cell_type": "code",
   "execution_count": 1,
   "id": "6f7d59ec",
   "metadata": {},
   "outputs": [],
   "source": [
    "# Importing the libraries\n",
    "import numpy as np\n",
    "import matplotlib.pyplot as plt\n",
    "import pandas as pd"
   ]
  },
  {
   "cell_type": "markdown",
   "id": "f5beab09",
   "metadata": {},
   "source": [
    "* импорт необходимых библиотек для дальйнейшей работы"
   ]
  },
  {
   "cell_type": "code",
   "execution_count": 2,
   "id": "5849937b",
   "metadata": {
    "scrolled": true
   },
   "outputs": [
    {
     "data": {
      "text/html": [
       "<div>\n",
       "<style scoped>\n",
       "    .dataframe tbody tr th:only-of-type {\n",
       "        vertical-align: middle;\n",
       "    }\n",
       "\n",
       "    .dataframe tbody tr th {\n",
       "        vertical-align: top;\n",
       "    }\n",
       "\n",
       "    .dataframe thead th {\n",
       "        text-align: right;\n",
       "    }\n",
       "</style>\n",
       "<table border=\"1\" class=\"dataframe\">\n",
       "  <thead>\n",
       "    <tr style=\"text-align: right;\">\n",
       "      <th></th>\n",
       "      <th>country</th>\n",
       "      <th>is_urban</th>\n",
       "      <th>age</th>\n",
       "      <th>female</th>\n",
       "      <th>married</th>\n",
       "      <th>religion</th>\n",
       "      <th>education_level</th>\n",
       "      <th>can_calc_percents</th>\n",
       "      <th>employment_type_last_year</th>\n",
       "      <th>income_government_last_year</th>\n",
       "      <th>income_own_business_last_year</th>\n",
       "      <th>num_times_borrowed_last_year</th>\n",
       "      <th>active_bank_user</th>\n",
       "      <th>cash_property_savings</th>\n",
       "      <th>has_insurance</th>\n",
       "      <th>can_call</th>\n",
       "      <th>can_make_transaction</th>\n",
       "      <th>phone_ownership</th>\n",
       "      <th>has_investment</th>\n",
       "      <th>formal_savings (Y)</th>\n",
       "    </tr>\n",
       "  </thead>\n",
       "  <tbody>\n",
       "    <tr>\n",
       "      <th>0</th>\n",
       "      <td>0</td>\n",
       "      <td>False</td>\n",
       "      <td>57</td>\n",
       "      <td>True</td>\n",
       "      <td>True</td>\n",
       "      <td>1</td>\n",
       "      <td>3.0</td>\n",
       "      <td>True</td>\n",
       "      <td>0</td>\n",
       "      <td>True</td>\n",
       "      <td>False</td>\n",
       "      <td>1</td>\n",
       "      <td>False</td>\n",
       "      <td>False</td>\n",
       "      <td>False</td>\n",
       "      <td>True</td>\n",
       "      <td>True</td>\n",
       "      <td>2</td>\n",
       "      <td>False</td>\n",
       "      <td>False</td>\n",
       "    </tr>\n",
       "    <tr>\n",
       "      <th>1</th>\n",
       "      <td>1</td>\n",
       "      <td>False</td>\n",
       "      <td>40</td>\n",
       "      <td>False</td>\n",
       "      <td>True</td>\n",
       "      <td>2</td>\n",
       "      <td>0.0</td>\n",
       "      <td>False</td>\n",
       "      <td>0</td>\n",
       "      <td>False</td>\n",
       "      <td>False</td>\n",
       "      <td>1</td>\n",
       "      <td>False</td>\n",
       "      <td>False</td>\n",
       "      <td>False</td>\n",
       "      <td>False</td>\n",
       "      <td>False</td>\n",
       "      <td>2</td>\n",
       "      <td>False</td>\n",
       "      <td>True</td>\n",
       "    </tr>\n",
       "    <tr>\n",
       "      <th>2</th>\n",
       "      <td>2</td>\n",
       "      <td>False</td>\n",
       "      <td>35</td>\n",
       "      <td>True</td>\n",
       "      <td>True</td>\n",
       "      <td>0</td>\n",
       "      <td>1.0</td>\n",
       "      <td>False</td>\n",
       "      <td>1</td>\n",
       "      <td>False</td>\n",
       "      <td>False</td>\n",
       "      <td>1</td>\n",
       "      <td>False</td>\n",
       "      <td>True</td>\n",
       "      <td>False</td>\n",
       "      <td>True</td>\n",
       "      <td>False</td>\n",
       "      <td>2</td>\n",
       "      <td>False</td>\n",
       "      <td>False</td>\n",
       "    </tr>\n",
       "    <tr>\n",
       "      <th>3</th>\n",
       "      <td>2</td>\n",
       "      <td>True</td>\n",
       "      <td>19</td>\n",
       "      <td>True</td>\n",
       "      <td>False</td>\n",
       "      <td>0</td>\n",
       "      <td>3.0</td>\n",
       "      <td>False</td>\n",
       "      <td>0</td>\n",
       "      <td>False</td>\n",
       "      <td>False</td>\n",
       "      <td>0</td>\n",
       "      <td>False</td>\n",
       "      <td>False</td>\n",
       "      <td>False</td>\n",
       "      <td>True</td>\n",
       "      <td>False</td>\n",
       "      <td>1</td>\n",
       "      <td>False</td>\n",
       "      <td>False</td>\n",
       "    </tr>\n",
       "    <tr>\n",
       "      <th>4</th>\n",
       "      <td>3</td>\n",
       "      <td>False</td>\n",
       "      <td>61</td>\n",
       "      <td>True</td>\n",
       "      <td>True</td>\n",
       "      <td>0</td>\n",
       "      <td>0.0</td>\n",
       "      <td>False</td>\n",
       "      <td>1</td>\n",
       "      <td>False</td>\n",
       "      <td>False</td>\n",
       "      <td>1</td>\n",
       "      <td>False</td>\n",
       "      <td>False</td>\n",
       "      <td>False</td>\n",
       "      <td>False</td>\n",
       "      <td>False</td>\n",
       "      <td>1</td>\n",
       "      <td>False</td>\n",
       "      <td>False</td>\n",
       "    </tr>\n",
       "    <tr>\n",
       "      <th>5</th>\n",
       "      <td>3</td>\n",
       "      <td>True</td>\n",
       "      <td>16</td>\n",
       "      <td>True</td>\n",
       "      <td>False</td>\n",
       "      <td>0</td>\n",
       "      <td>2.0</td>\n",
       "      <td>False</td>\n",
       "      <td>1</td>\n",
       "      <td>True</td>\n",
       "      <td>False</td>\n",
       "      <td>1</td>\n",
       "      <td>False</td>\n",
       "      <td>False</td>\n",
       "      <td>False</td>\n",
       "      <td>True</td>\n",
       "      <td>True</td>\n",
       "      <td>1</td>\n",
       "      <td>False</td>\n",
       "      <td>False</td>\n",
       "    </tr>\n",
       "    <tr>\n",
       "      <th>6</th>\n",
       "      <td>0</td>\n",
       "      <td>False</td>\n",
       "      <td>40</td>\n",
       "      <td>False</td>\n",
       "      <td>True</td>\n",
       "      <td>0</td>\n",
       "      <td>0.0</td>\n",
       "      <td>False</td>\n",
       "      <td>2</td>\n",
       "      <td>False</td>\n",
       "      <td>False</td>\n",
       "      <td>0</td>\n",
       "      <td>False</td>\n",
       "      <td>True</td>\n",
       "      <td>False</td>\n",
       "      <td>False</td>\n",
       "      <td>False</td>\n",
       "      <td>0</td>\n",
       "      <td>True</td>\n",
       "      <td>False</td>\n",
       "    </tr>\n",
       "    <tr>\n",
       "      <th>7</th>\n",
       "      <td>1</td>\n",
       "      <td>False</td>\n",
       "      <td>27</td>\n",
       "      <td>True</td>\n",
       "      <td>True</td>\n",
       "      <td>2</td>\n",
       "      <td>0.0</td>\n",
       "      <td>False</td>\n",
       "      <td>1</td>\n",
       "      <td>False</td>\n",
       "      <td>False</td>\n",
       "      <td>0</td>\n",
       "      <td>False</td>\n",
       "      <td>False</td>\n",
       "      <td>False</td>\n",
       "      <td>False</td>\n",
       "      <td>False</td>\n",
       "      <td>0</td>\n",
       "      <td>False</td>\n",
       "      <td>True</td>\n",
       "    </tr>\n",
       "    <tr>\n",
       "      <th>8</th>\n",
       "      <td>3</td>\n",
       "      <td>True</td>\n",
       "      <td>35</td>\n",
       "      <td>False</td>\n",
       "      <td>True</td>\n",
       "      <td>0</td>\n",
       "      <td>3.0</td>\n",
       "      <td>True</td>\n",
       "      <td>0</td>\n",
       "      <td>False</td>\n",
       "      <td>False</td>\n",
       "      <td>0</td>\n",
       "      <td>True</td>\n",
       "      <td>True</td>\n",
       "      <td>False</td>\n",
       "      <td>True</td>\n",
       "      <td>True</td>\n",
       "      <td>2</td>\n",
       "      <td>True</td>\n",
       "      <td>True</td>\n",
       "    </tr>\n",
       "    <tr>\n",
       "      <th>9</th>\n",
       "      <td>4</td>\n",
       "      <td>False</td>\n",
       "      <td>72</td>\n",
       "      <td>True</td>\n",
       "      <td>False</td>\n",
       "      <td>1</td>\n",
       "      <td>1.0</td>\n",
       "      <td>False</td>\n",
       "      <td>2</td>\n",
       "      <td>False</td>\n",
       "      <td>False</td>\n",
       "      <td>2</td>\n",
       "      <td>False</td>\n",
       "      <td>False</td>\n",
       "      <td>False</td>\n",
       "      <td>False</td>\n",
       "      <td>False</td>\n",
       "      <td>2</td>\n",
       "      <td>False</td>\n",
       "      <td>True</td>\n",
       "    </tr>\n",
       "    <tr>\n",
       "      <th>10</th>\n",
       "      <td>1</td>\n",
       "      <td>False</td>\n",
       "      <td>22</td>\n",
       "      <td>False</td>\n",
       "      <td>True</td>\n",
       "      <td>2</td>\n",
       "      <td>0.0</td>\n",
       "      <td>False</td>\n",
       "      <td>1</td>\n",
       "      <td>False</td>\n",
       "      <td>False</td>\n",
       "      <td>0</td>\n",
       "      <td>True</td>\n",
       "      <td>False</td>\n",
       "      <td>False</td>\n",
       "      <td>False</td>\n",
       "      <td>False</td>\n",
       "      <td>2</td>\n",
       "      <td>False</td>\n",
       "      <td>False</td>\n",
       "    </tr>\n",
       "    <tr>\n",
       "      <th>11</th>\n",
       "      <td>0</td>\n",
       "      <td>False</td>\n",
       "      <td>27</td>\n",
       "      <td>False</td>\n",
       "      <td>False</td>\n",
       "      <td>0</td>\n",
       "      <td>3.0</td>\n",
       "      <td>True</td>\n",
       "      <td>3</td>\n",
       "      <td>True</td>\n",
       "      <td>False</td>\n",
       "      <td>0</td>\n",
       "      <td>False</td>\n",
       "      <td>False</td>\n",
       "      <td>False</td>\n",
       "      <td>True</td>\n",
       "      <td>False</td>\n",
       "      <td>2</td>\n",
       "      <td>False</td>\n",
       "      <td>False</td>\n",
       "    </tr>\n",
       "    <tr>\n",
       "      <th>12</th>\n",
       "      <td>2</td>\n",
       "      <td>False</td>\n",
       "      <td>45</td>\n",
       "      <td>False</td>\n",
       "      <td>True</td>\n",
       "      <td>0</td>\n",
       "      <td>3.0</td>\n",
       "      <td>False</td>\n",
       "      <td>0</td>\n",
       "      <td>False</td>\n",
       "      <td>False</td>\n",
       "      <td>0</td>\n",
       "      <td>True</td>\n",
       "      <td>False</td>\n",
       "      <td>False</td>\n",
       "      <td>True</td>\n",
       "      <td>False</td>\n",
       "      <td>0</td>\n",
       "      <td>False</td>\n",
       "      <td>False</td>\n",
       "    </tr>\n",
       "    <tr>\n",
       "      <th>13</th>\n",
       "      <td>5</td>\n",
       "      <td>False</td>\n",
       "      <td>36</td>\n",
       "      <td>False</td>\n",
       "      <td>True</td>\n",
       "      <td>1</td>\n",
       "      <td>2.0</td>\n",
       "      <td>False</td>\n",
       "      <td>2</td>\n",
       "      <td>False</td>\n",
       "      <td>True</td>\n",
       "      <td>1</td>\n",
       "      <td>False</td>\n",
       "      <td>False</td>\n",
       "      <td>True</td>\n",
       "      <td>True</td>\n",
       "      <td>True</td>\n",
       "      <td>2</td>\n",
       "      <td>True</td>\n",
       "      <td>True</td>\n",
       "    </tr>\n",
       "    <tr>\n",
       "      <th>14</th>\n",
       "      <td>1</td>\n",
       "      <td>False</td>\n",
       "      <td>62</td>\n",
       "      <td>False</td>\n",
       "      <td>True</td>\n",
       "      <td>0</td>\n",
       "      <td>0.0</td>\n",
       "      <td>False</td>\n",
       "      <td>4</td>\n",
       "      <td>True</td>\n",
       "      <td>False</td>\n",
       "      <td>0</td>\n",
       "      <td>False</td>\n",
       "      <td>False</td>\n",
       "      <td>True</td>\n",
       "      <td>False</td>\n",
       "      <td>False</td>\n",
       "      <td>0</td>\n",
       "      <td>False</td>\n",
       "      <td>True</td>\n",
       "    </tr>\n",
       "    <tr>\n",
       "      <th>15</th>\n",
       "      <td>5</td>\n",
       "      <td>False</td>\n",
       "      <td>21</td>\n",
       "      <td>False</td>\n",
       "      <td>False</td>\n",
       "      <td>1</td>\n",
       "      <td>2.0</td>\n",
       "      <td>False</td>\n",
       "      <td>1</td>\n",
       "      <td>False</td>\n",
       "      <td>False</td>\n",
       "      <td>2</td>\n",
       "      <td>False</td>\n",
       "      <td>True</td>\n",
       "      <td>True</td>\n",
       "      <td>True</td>\n",
       "      <td>True</td>\n",
       "      <td>2</td>\n",
       "      <td>False</td>\n",
       "      <td>True</td>\n",
       "    </tr>\n",
       "    <tr>\n",
       "      <th>16</th>\n",
       "      <td>3</td>\n",
       "      <td>False</td>\n",
       "      <td>69</td>\n",
       "      <td>False</td>\n",
       "      <td>True</td>\n",
       "      <td>0</td>\n",
       "      <td>1.0</td>\n",
       "      <td>False</td>\n",
       "      <td>1</td>\n",
       "      <td>False</td>\n",
       "      <td>False</td>\n",
       "      <td>0</td>\n",
       "      <td>False</td>\n",
       "      <td>True</td>\n",
       "      <td>False</td>\n",
       "      <td>False</td>\n",
       "      <td>False</td>\n",
       "      <td>2</td>\n",
       "      <td>False</td>\n",
       "      <td>False</td>\n",
       "    </tr>\n",
       "    <tr>\n",
       "      <th>17</th>\n",
       "      <td>5</td>\n",
       "      <td>False</td>\n",
       "      <td>52</td>\n",
       "      <td>True</td>\n",
       "      <td>False</td>\n",
       "      <td>1</td>\n",
       "      <td>0.0</td>\n",
       "      <td>False</td>\n",
       "      <td>2</td>\n",
       "      <td>False</td>\n",
       "      <td>True</td>\n",
       "      <td>3</td>\n",
       "      <td>False</td>\n",
       "      <td>False</td>\n",
       "      <td>False</td>\n",
       "      <td>True</td>\n",
       "      <td>True</td>\n",
       "      <td>2</td>\n",
       "      <td>True</td>\n",
       "      <td>True</td>\n",
       "    </tr>\n",
       "    <tr>\n",
       "      <th>18</th>\n",
       "      <td>4</td>\n",
       "      <td>False</td>\n",
       "      <td>29</td>\n",
       "      <td>True</td>\n",
       "      <td>True</td>\n",
       "      <td>1</td>\n",
       "      <td>1.0</td>\n",
       "      <td>True</td>\n",
       "      <td>1</td>\n",
       "      <td>False</td>\n",
       "      <td>False</td>\n",
       "      <td>0</td>\n",
       "      <td>False</td>\n",
       "      <td>False</td>\n",
       "      <td>False</td>\n",
       "      <td>False</td>\n",
       "      <td>False</td>\n",
       "      <td>0</td>\n",
       "      <td>False</td>\n",
       "      <td>False</td>\n",
       "    </tr>\n",
       "    <tr>\n",
       "      <th>19</th>\n",
       "      <td>1</td>\n",
       "      <td>False</td>\n",
       "      <td>60</td>\n",
       "      <td>True</td>\n",
       "      <td>True</td>\n",
       "      <td>2</td>\n",
       "      <td>0.0</td>\n",
       "      <td>True</td>\n",
       "      <td>1</td>\n",
       "      <td>False</td>\n",
       "      <td>False</td>\n",
       "      <td>1</td>\n",
       "      <td>False</td>\n",
       "      <td>False</td>\n",
       "      <td>True</td>\n",
       "      <td>False</td>\n",
       "      <td>False</td>\n",
       "      <td>0</td>\n",
       "      <td>False</td>\n",
       "      <td>False</td>\n",
       "    </tr>\n",
       "  </tbody>\n",
       "</table>\n",
       "</div>"
      ],
      "text/plain": [
       "    country  is_urban  age  female  married  religion  education_level  \\\n",
       "0         0     False   57    True     True         1              3.0   \n",
       "1         1     False   40   False     True         2              0.0   \n",
       "2         2     False   35    True     True         0              1.0   \n",
       "3         2      True   19    True    False         0              3.0   \n",
       "4         3     False   61    True     True         0              0.0   \n",
       "5         3      True   16    True    False         0              2.0   \n",
       "6         0     False   40   False     True         0              0.0   \n",
       "7         1     False   27    True     True         2              0.0   \n",
       "8         3      True   35   False     True         0              3.0   \n",
       "9         4     False   72    True    False         1              1.0   \n",
       "10        1     False   22   False     True         2              0.0   \n",
       "11        0     False   27   False    False         0              3.0   \n",
       "12        2     False   45   False     True         0              3.0   \n",
       "13        5     False   36   False     True         1              2.0   \n",
       "14        1     False   62   False     True         0              0.0   \n",
       "15        5     False   21   False    False         1              2.0   \n",
       "16        3     False   69   False     True         0              1.0   \n",
       "17        5     False   52    True    False         1              0.0   \n",
       "18        4     False   29    True     True         1              1.0   \n",
       "19        1     False   60    True     True         2              0.0   \n",
       "\n",
       "    can_calc_percents  employment_type_last_year  income_government_last_year  \\\n",
       "0                True                          0                         True   \n",
       "1               False                          0                        False   \n",
       "2               False                          1                        False   \n",
       "3               False                          0                        False   \n",
       "4               False                          1                        False   \n",
       "5               False                          1                         True   \n",
       "6               False                          2                        False   \n",
       "7               False                          1                        False   \n",
       "8                True                          0                        False   \n",
       "9               False                          2                        False   \n",
       "10              False                          1                        False   \n",
       "11               True                          3                         True   \n",
       "12              False                          0                        False   \n",
       "13              False                          2                        False   \n",
       "14              False                          4                         True   \n",
       "15              False                          1                        False   \n",
       "16              False                          1                        False   \n",
       "17              False                          2                        False   \n",
       "18               True                          1                        False   \n",
       "19               True                          1                        False   \n",
       "\n",
       "    income_own_business_last_year  num_times_borrowed_last_year  \\\n",
       "0                           False                             1   \n",
       "1                           False                             1   \n",
       "2                           False                             1   \n",
       "3                           False                             0   \n",
       "4                           False                             1   \n",
       "5                           False                             1   \n",
       "6                           False                             0   \n",
       "7                           False                             0   \n",
       "8                           False                             0   \n",
       "9                           False                             2   \n",
       "10                          False                             0   \n",
       "11                          False                             0   \n",
       "12                          False                             0   \n",
       "13                           True                             1   \n",
       "14                          False                             0   \n",
       "15                          False                             2   \n",
       "16                          False                             0   \n",
       "17                           True                             3   \n",
       "18                          False                             0   \n",
       "19                          False                             1   \n",
       "\n",
       "    active_bank_user  cash_property_savings  has_insurance  can_call  \\\n",
       "0              False                  False          False      True   \n",
       "1              False                  False          False     False   \n",
       "2              False                   True          False      True   \n",
       "3              False                  False          False      True   \n",
       "4              False                  False          False     False   \n",
       "5              False                  False          False      True   \n",
       "6              False                   True          False     False   \n",
       "7              False                  False          False     False   \n",
       "8               True                   True          False      True   \n",
       "9              False                  False          False     False   \n",
       "10              True                  False          False     False   \n",
       "11             False                  False          False      True   \n",
       "12              True                  False          False      True   \n",
       "13             False                  False           True      True   \n",
       "14             False                  False           True     False   \n",
       "15             False                   True           True      True   \n",
       "16             False                   True          False     False   \n",
       "17             False                  False          False      True   \n",
       "18             False                  False          False     False   \n",
       "19             False                  False           True     False   \n",
       "\n",
       "    can_make_transaction  phone_ownership  has_investment  formal_savings (Y)  \n",
       "0                   True                2           False               False  \n",
       "1                  False                2           False                True  \n",
       "2                  False                2           False               False  \n",
       "3                  False                1           False               False  \n",
       "4                  False                1           False               False  \n",
       "5                   True                1           False               False  \n",
       "6                  False                0            True               False  \n",
       "7                  False                0           False                True  \n",
       "8                   True                2            True                True  \n",
       "9                  False                2           False                True  \n",
       "10                 False                2           False               False  \n",
       "11                 False                2           False               False  \n",
       "12                 False                0           False               False  \n",
       "13                  True                2            True                True  \n",
       "14                 False                0           False                True  \n",
       "15                  True                2           False                True  \n",
       "16                 False                2           False               False  \n",
       "17                  True                2            True                True  \n",
       "18                 False                0           False               False  \n",
       "19                 False                0           False               False  "
      ]
     },
     "execution_count": 2,
     "metadata": {},
     "output_type": "execute_result"
    }
   ],
   "source": [
    "# Importing the dataset\n",
    "df = pd.read_csv('invest_prep.csv', sep=';')\n",
    "df.head(20)"
   ]
  },
  {
   "cell_type": "markdown",
   "id": "a82f1641",
   "metadata": {},
   "source": [
    "* загрузка подготовленного раннее датасета."
   ]
  },
  {
   "cell_type": "code",
   "execution_count": 3,
   "id": "343a6eba",
   "metadata": {},
   "outputs": [
    {
     "data": {
      "text/plain": [
       "(8400, 20)"
      ]
     },
     "execution_count": 3,
     "metadata": {},
     "output_type": "execute_result"
    }
   ],
   "source": [
    "df.shape"
   ]
  },
  {
   "cell_type": "markdown",
   "id": "558da9d7",
   "metadata": {},
   "source": [
    "* датасет содержит 8400 наблюдений и 20 переменных (поскольку наиболее коррелируемые были удалены из модели)"
   ]
  },
  {
   "cell_type": "markdown",
   "id": "0028fbf3",
   "metadata": {},
   "source": [
    "# Correlations"
   ]
  },
  {
   "cell_type": "code",
   "execution_count": 4,
   "id": "87905a15",
   "metadata": {
    "scrolled": false
   },
   "outputs": [
    {
     "data": {
      "image/png": "[encoded data removed]",
      "text/plain": [
       "<Figure size 1440x1440 with 2 Axes>"
      ]
     },
     "metadata": {
      "needs_background": "light"
     },
     "output_type": "display_data"
    }
   ],
   "source": [
    "# Cheking correlations\n",
    "import seaborn as sns\n",
    "corrmat = df.corr()\n",
    "f, ax = plt.subplots(figsize=(20, 20))\n",
    "sns.heatmap(corrmat, annot=True)\n",
    "plt.show()"
   ]
  },
  {
   "cell_type": "markdown",
   "id": "789431a6",
   "metadata": {},
   "source": [
    "* наибольшее влияние на зависимую переменную (country) имеет переменная can_make_transaction "
   ]
  },
  {
   "cell_type": "markdown",
   "id": "275ac3c0",
   "metadata": {},
   "source": [
    "# Splitting"
   ]
  },
  {
   "cell_type": "code",
   "execution_count": 5,
   "id": "526c2f5a",
   "metadata": {},
   "outputs": [],
   "source": [
    "# Splitting the dataset into the Training set and Test set\n",
    "X = df.iloc[:, 1:]\n",
    "y = df['country']\n",
    "from sklearn.model_selection import train_test_split\n",
    "X_train, X_test, y_train, y_test = train_test_split(X, y, test_size=0.2, random_state=10)"
   ]
  },
  {
   "cell_type": "markdown",
   "id": "cd47842f",
   "metadata": {},
   "source": [
    "* разделение датасета на обучающую и тестовую выборку (в процентом соотношении 80 на 20)."
   ]
  },
  {
   "cell_type": "markdown",
   "id": "da0d7c79",
   "metadata": {},
   "source": [
    "# Simple Linear Regression"
   ]
  },
  {
   "cell_type": "code",
   "execution_count": 6,
   "id": "b79aeacd",
   "metadata": {},
   "outputs": [
    {
     "data": {
      "text/plain": [
       "(array([1.54041269]), 2.525659671722418)"
      ]
     },
     "execution_count": 6,
     "metadata": {},
     "output_type": "execute_result"
    }
   ],
   "source": [
    "# Fitting Simple Linear Regression to the Training set \n",
    "f1 = ['can_make_transaction']\n",
    "\n",
    "from sklearn.linear_model import LinearRegression\n",
    "sr = LinearRegression().fit(X_train[f1], y_train)\n",
    "\n",
    "# Getting parameters\n",
    "sr.coef_, sr.intercept_"
   ]
  },
  {
   "cell_type": "markdown",
   "id": "38e9252f",
   "metadata": {},
   "source": [
    "* как было сказано ранее - для просто линейной регрессии будет использоваться переменная can_make_transaction. Для модели соответственно получены значения коэффициента и свободного члена. "
   ]
  },
  {
   "cell_type": "code",
   "execution_count": 7,
   "id": "cf3f7667",
   "metadata": {},
   "outputs": [
    {
     "data": {
      "text/plain": [
       "0.12"
      ]
     },
     "execution_count": 7,
     "metadata": {},
     "output_type": "execute_result"
    }
   ],
   "source": [
    "# Predicting the Test set results\n",
    "y_pred = sr.predict(X_test[f1])\n",
    "\n",
    "# Coefficient of determination R^2\n",
    "sr.score(X_train[f1], y_train).round(3)"
   ]
  },
  {
   "cell_type": "markdown",
   "id": "48db58e6",
   "metadata": {},
   "source": [
    "* Получено значение R^2 = 0,12. Модель слабо описано, низкое качество. "
   ]
  },
  {
   "cell_type": "code",
   "execution_count": 8,
   "id": "f857f157",
   "metadata": {},
   "outputs": [
    {
     "data": {
      "text/plain": [
       "(1.88, 1.85)"
      ]
     },
     "execution_count": 8,
     "metadata": {},
     "output_type": "execute_result"
    }
   ],
   "source": [
    "# Mean squared error\n",
    "from sklearn.metrics import mean_squared_error\n",
    "mse1 = mean_squared_error(y_train, sr.predict(X_train[f1]), squared=False).round(2), mean_squared_error(y_test, y_pred, squared=False).round(2)\n",
    "mse1"
   ]
  },
  {
   "cell_type": "markdown",
   "id": "83d3b07f",
   "metadata": {},
   "source": [
    "Значение на обучающий выборке больше, что означает факт того, что модель не переобучена. Однако в целом качество такой модели на очень низком уровне."
   ]
  },
  {
   "cell_type": "markdown",
   "id": "448f7154",
   "metadata": {},
   "source": [
    "# Multiple Linear Regression"
   ]
  },
  {
   "cell_type": "code",
   "execution_count": 37,
   "id": "dbfcae01",
   "metadata": {},
   "outputs": [],
   "source": [
    "#!pip install statsmodels"
   ]
  },
  {
   "cell_type": "code",
   "execution_count": 10,
   "id": "189631e0",
   "metadata": {},
   "outputs": [
    {
     "data": {
      "text/plain": [
       "0.298"
      ]
     },
     "execution_count": 10,
     "metadata": {},
     "output_type": "execute_result"
    }
   ],
   "source": [
    "# Fitting Multiple Regression\n",
    "mr = LinearRegression().fit(X_train, y_train)\n",
    "\n",
    "# Coefficient of determination R^2\n",
    "mr.score(X_train, y_train).round(3)"
   ]
  },
  {
   "cell_type": "markdown",
   "id": "21768e40",
   "metadata": {},
   "source": [
    "* Значение R^2 значительно увеличилось, однако все также остается на низком уровне. Модели слабо описана. Для дальнейшей работы целесообразно отобрать наиболее значимые переменные."
   ]
  },
  {
   "cell_type": "markdown",
   "id": "c8bd38c8",
   "metadata": {},
   "source": [
    "# Checking p-values"
   ]
  },
  {
   "cell_type": "code",
   "execution_count": 11,
   "id": "d59a26b1",
   "metadata": {},
   "outputs": [
    {
     "data": {
      "text/html": [
       "<table class=\"simpletable\">\n",
       "<caption>OLS Regression Results</caption>\n",
       "<tr>\n",
       "  <th>Dep. Variable:</th>         <td>country</td>     <th>  R-squared:         </th> <td>   0.298</td> \n",
       "</tr>\n",
       "<tr>\n",
       "  <th>Model:</th>                   <td>OLS</td>       <th>  Adj. R-squared:    </th> <td>   0.296</td> \n",
       "</tr>\n",
       "<tr>\n",
       "  <th>Method:</th>             <td>Least Squares</td>  <th>  F-statistic:       </th> <td>   149.9</td> \n",
       "</tr>\n",
       "<tr>\n",
       "  <th>Date:</th>             <td>Mon, 11 Oct 2021</td> <th>  Prob (F-statistic):</th>  <td>  0.00</td>  \n",
       "</tr>\n",
       "<tr>\n",
       "  <th>Time:</th>                 <td>19:27:25</td>     <th>  Log-Likelihood:    </th> <td> -13014.</td> \n",
       "</tr>\n",
       "<tr>\n",
       "  <th>No. Observations:</th>      <td>  6720</td>      <th>  AIC:               </th> <td>2.607e+04</td>\n",
       "</tr>\n",
       "<tr>\n",
       "  <th>Df Residuals:</th>          <td>  6700</td>      <th>  BIC:               </th> <td>2.620e+04</td>\n",
       "</tr>\n",
       "<tr>\n",
       "  <th>Df Model:</th>              <td>    19</td>      <th>                     </th>     <td> </td>    \n",
       "</tr>\n",
       "<tr>\n",
       "  <th>Covariance Type:</th>      <td>nonrobust</td>    <th>                     </th>     <td> </td>    \n",
       "</tr>\n",
       "</table>\n",
       "<table class=\"simpletable\">\n",
       "<tr>\n",
       "                <td></td>                   <th>coef</th>     <th>std err</th>      <th>t</th>      <th>P>|t|</th>  <th>[0.025</th>    <th>0.975]</th>  \n",
       "</tr>\n",
       "<tr>\n",
       "  <th>const</th>                         <td>    1.8438</td> <td>    0.103</td> <td>   17.910</td> <td> 0.000</td> <td>    1.642</td> <td>    2.046</td>\n",
       "</tr>\n",
       "<tr>\n",
       "  <th>is_urban</th>                      <td>   -0.1857</td> <td>    0.046</td> <td>   -4.053</td> <td> 0.000</td> <td>   -0.276</td> <td>   -0.096</td>\n",
       "</tr>\n",
       "<tr>\n",
       "  <th>age</th>                           <td>    0.0081</td> <td>    0.002</td> <td>    5.380</td> <td> 0.000</td> <td>    0.005</td> <td>    0.011</td>\n",
       "</tr>\n",
       "<tr>\n",
       "  <th>female</th>                        <td>    0.3899</td> <td>    0.043</td> <td>    9.063</td> <td> 0.000</td> <td>    0.306</td> <td>    0.474</td>\n",
       "</tr>\n",
       "<tr>\n",
       "  <th>married</th>                       <td>   -0.5452</td> <td>    0.045</td> <td>  -12.033</td> <td> 0.000</td> <td>   -0.634</td> <td>   -0.456</td>\n",
       "</tr>\n",
       "<tr>\n",
       "  <th>religion</th>                      <td>   -0.1042</td> <td>    0.029</td> <td>   -3.624</td> <td> 0.000</td> <td>   -0.161</td> <td>   -0.048</td>\n",
       "</tr>\n",
       "<tr>\n",
       "  <th>education_level</th>               <td>   -0.2186</td> <td>    0.028</td> <td>   -7.836</td> <td> 0.000</td> <td>   -0.273</td> <td>   -0.164</td>\n",
       "</tr>\n",
       "<tr>\n",
       "  <th>can_calc_percents</th>             <td>    0.2998</td> <td>    0.043</td> <td>    7.022</td> <td> 0.000</td> <td>    0.216</td> <td>    0.384</td>\n",
       "</tr>\n",
       "<tr>\n",
       "  <th>employment_type_last_year</th>     <td>    0.1955</td> <td>    0.017</td> <td>   11.690</td> <td> 0.000</td> <td>    0.163</td> <td>    0.228</td>\n",
       "</tr>\n",
       "<tr>\n",
       "  <th>income_government_last_year</th>   <td>   -0.1589</td> <td>    0.091</td> <td>   -1.746</td> <td> 0.081</td> <td>   -0.337</td> <td>    0.019</td>\n",
       "</tr>\n",
       "<tr>\n",
       "  <th>income_own_business_last_year</th> <td>    0.1879</td> <td>    0.054</td> <td>    3.452</td> <td> 0.001</td> <td>    0.081</td> <td>    0.295</td>\n",
       "</tr>\n",
       "<tr>\n",
       "  <th>num_times_borrowed_last_year</th>  <td>    0.2469</td> <td>    0.023</td> <td>   10.790</td> <td> 0.000</td> <td>    0.202</td> <td>    0.292</td>\n",
       "</tr>\n",
       "<tr>\n",
       "  <th>active_bank_user</th>              <td>   -1.2164</td> <td>    0.060</td> <td>  -20.144</td> <td> 0.000</td> <td>   -1.335</td> <td>   -1.098</td>\n",
       "</tr>\n",
       "<tr>\n",
       "  <th>cash_property_savings</th>         <td>    0.3015</td> <td>    0.043</td> <td>    6.953</td> <td> 0.000</td> <td>    0.216</td> <td>    0.386</td>\n",
       "</tr>\n",
       "<tr>\n",
       "  <th>has_insurance</th>                 <td>    0.9524</td> <td>    0.065</td> <td>   14.598</td> <td> 0.000</td> <td>    0.825</td> <td>    1.080</td>\n",
       "</tr>\n",
       "<tr>\n",
       "  <th>can_call</th>                      <td>    0.4145</td> <td>    0.056</td> <td>    7.429</td> <td> 0.000</td> <td>    0.305</td> <td>    0.524</td>\n",
       "</tr>\n",
       "<tr>\n",
       "  <th>can_make_transaction</th>          <td>    1.4171</td> <td>    0.053</td> <td>   26.982</td> <td> 0.000</td> <td>    1.314</td> <td>    1.520</td>\n",
       "</tr>\n",
       "<tr>\n",
       "  <th>phone_ownership</th>               <td>    0.0312</td> <td>    0.031</td> <td>    0.996</td> <td> 0.319</td> <td>   -0.030</td> <td>    0.093</td>\n",
       "</tr>\n",
       "<tr>\n",
       "  <th>has_investment</th>                <td>   -0.3089</td> <td>    0.056</td> <td>   -5.553</td> <td> 0.000</td> <td>   -0.418</td> <td>   -0.200</td>\n",
       "</tr>\n",
       "<tr>\n",
       "  <th>formal_savings (Y)</th>            <td>    0.2422</td> <td>    0.055</td> <td>    4.389</td> <td> 0.000</td> <td>    0.134</td> <td>    0.350</td>\n",
       "</tr>\n",
       "</table>\n",
       "<table class=\"simpletable\">\n",
       "<tr>\n",
       "  <th>Omnibus:</th>       <td>49.519</td> <th>  Durbin-Watson:     </th> <td>   1.997</td>\n",
       "</tr>\n",
       "<tr>\n",
       "  <th>Prob(Omnibus):</th> <td> 0.000</td> <th>  Jarque-Bera (JB):  </th> <td>  33.879</td>\n",
       "</tr>\n",
       "<tr>\n",
       "  <th>Skew:</th>          <td>-0.017</td> <th>  Prob(JB):          </th> <td>4.40e-08</td>\n",
       "</tr>\n",
       "<tr>\n",
       "  <th>Kurtosis:</th>      <td> 2.654</td> <th>  Cond. No.          </th> <td>    208.</td>\n",
       "</tr>\n",
       "</table><br/><br/>Notes:<br/>[1] Standard Errors assume that the covariance matrix of the errors is correctly specified."
      ],
      "text/plain": [
       "<class 'statsmodels.iolib.summary.Summary'>\n",
       "\"\"\"\n",
       "                            OLS Regression Results                            \n",
       "==============================================================================\n",
       "Dep. Variable:                country   R-squared:                       0.298\n",
       "Model:                            OLS   Adj. R-squared:                  0.296\n",
       "Method:                 Least Squares   F-statistic:                     149.9\n",
       "Date:                Mon, 11 Oct 2021   Prob (F-statistic):               0.00\n",
       "Time:                        19:27:25   Log-Likelihood:                -13014.\n",
       "No. Observations:                6720   AIC:                         2.607e+04\n",
       "Df Residuals:                    6700   BIC:                         2.620e+04\n",
       "Df Model:                          19                                         \n",
       "Covariance Type:            nonrobust                                         \n",
       "=================================================================================================\n",
       "                                    coef    std err          t      P>|t|      [0.025      0.975]\n",
       "-------------------------------------------------------------------------------------------------\n",
       "const                             1.8438      0.103     17.910      0.000       1.642       2.046\n",
       "is_urban                         -0.1857      0.046     -4.053      0.000      -0.276      -0.096\n",
       "age                               0.0081      0.002      5.380      0.000       0.005       0.011\n",
       "female                            0.3899      0.043      9.063      0.000       0.306       0.474\n",
       "married                          -0.5452      0.045    -12.033      0.000      -0.634      -0.456\n",
       "religion                         -0.1042      0.029     -3.624      0.000      -0.161      -0.048\n",
       "education_level                  -0.2186      0.028     -7.836      0.000      -0.273      -0.164\n",
       "can_calc_percents                 0.2998      0.043      7.022      0.000       0.216       0.384\n",
       "employment_type_last_year         0.1955      0.017     11.690      0.000       0.163       0.228\n",
       "income_government_last_year      -0.1589      0.091     -1.746      0.081      -0.337       0.019\n",
       "income_own_business_last_year     0.1879      0.054      3.452      0.001       0.081       0.295\n",
       "num_times_borrowed_last_year      0.2469      0.023     10.790      0.000       0.202       0.292\n",
       "active_bank_user                 -1.2164      0.060    -20.144      0.000      -1.335      -1.098\n",
       "cash_property_savings             0.3015      0.043      6.953      0.000       0.216       0.386\n",
       "has_insurance                     0.9524      0.065     14.598      0.000       0.825       1.080\n",
       "can_call                          0.4145      0.056      7.429      0.000       0.305       0.524\n",
       "can_make_transaction              1.4171      0.053     26.982      0.000       1.314       1.520\n",
       "phone_ownership                   0.0312      0.031      0.996      0.319      -0.030       0.093\n",
       "has_investment                   -0.3089      0.056     -5.553      0.000      -0.418      -0.200\n",
       "formal_savings (Y)                0.2422      0.055      4.389      0.000       0.134       0.350\n",
       "==============================================================================\n",
       "Omnibus:                       49.519   Durbin-Watson:                   1.997\n",
       "Prob(Omnibus):                  0.000   Jarque-Bera (JB):               33.879\n",
       "Skew:                          -0.017   Prob(JB):                     4.40e-08\n",
       "Kurtosis:                       2.654   Cond. No.                         208.\n",
       "==============================================================================\n",
       "\n",
       "Notes:\n",
       "[1] Standard Errors assume that the covariance matrix of the errors is correctly specified.\n",
       "\"\"\""
      ]
     },
     "execution_count": 11,
     "metadata": {},
     "output_type": "execute_result"
    }
   ],
   "source": [
    "# Checking p-values\n",
    "import statsmodels.api as sm\n",
    "X1 = sm.add_constant(X_train)\n",
    "mr1 = sm.OLS(y_train.astype(float), X1.astype(float)).fit()\n",
    "#mr1.pvalues\n",
    "mr1.summary()"
   ]
  },
  {
   "cell_type": "markdown",
   "id": "6466b716",
   "metadata": {},
   "source": [
    "# Recursive feature elimination"
   ]
  },
  {
   "cell_type": "code",
   "execution_count": 49,
   "id": "9ee73ab7",
   "metadata": {},
   "outputs": [],
   "source": [
    "# Feature ranking with recursive feature elimination\n",
    "from sklearn.feature_selection import RFE\n",
    "n_features = X.shape[1]\n",
    "estimator = LinearRegression()\n",
    "selector = RFE(estimator,  n_features_to_select = 17)\n",
    "selector = selector.fit(X, y)\n",
    "\n",
    "# Selected Features\n",
    "selected_columns=[]\n",
    "for i in range(n_features):\n",
    "    if selector.support_[i] == True:\n",
    "        selected_columns.append(i)\n",
    "        \n",
    "f_lm = []\n",
    "for column in selected_columns:\n",
    "    f_lm.append(X.columns[column])"
   ]
  },
  {
   "cell_type": "markdown",
   "id": "0051f612",
   "metadata": {},
   "source": [
    "* По значимости P-value отобраны переменные для включения в модель (17) и продолжаем работу с множественной регрссиией на наиболее значимых переменных."
   ]
  },
  {
   "cell_type": "code",
   "execution_count": 50,
   "id": "cf58ca09",
   "metadata": {},
   "outputs": [
    {
     "data": {
      "text/plain": [
       "(array([-0.17482379,  0.36301422, -0.49894952, -0.10387073, -0.25010759,\n",
       "         0.29832194,  0.20076361, -0.11039433,  0.19645271,  0.24894704,\n",
       "        -1.18579137,  0.30182905,  0.97872845,  0.38475984,  1.40168258,\n",
       "        -0.29692002,  0.25470777]),\n",
       " 2.2004991088990264)"
      ]
     },
     "execution_count": 50,
     "metadata": {},
     "output_type": "execute_result"
    }
   ],
   "source": [
    "# Fitting Optimized Multiple Regression\n",
    "mr_rfe = LinearRegression().fit(X_train[f_lm], y_train)\n",
    "\n",
    "# Getting parameters\n",
    "mr_rfe.coef_, mr_rfe.intercept_"
   ]
  },
  {
   "cell_type": "code",
   "execution_count": 47,
   "id": "9de8ad60",
   "metadata": {},
   "outputs": [
    {
     "data": {
      "text/plain": [
       "0.295"
      ]
     },
     "execution_count": 47,
     "metadata": {},
     "output_type": "execute_result"
    }
   ],
   "source": [
    "\n",
    "# Predicting the Test set results\n",
    "y_pred = mr_rfe.predict(X_test[f_lm])\n",
    "\n",
    "# Coefficient of determination R^2\n",
    "mr_rfe.score(X_train[f_lm], y_train).round(3)"
   ]
  },
  {
   "cell_type": "code",
   "execution_count": 48,
   "id": "6b14a28c",
   "metadata": {},
   "outputs": [
    {
     "data": {
      "text/plain": [
       "(1.68, 1.68)"
      ]
     },
     "execution_count": 48,
     "metadata": {},
     "output_type": "execute_result"
    }
   ],
   "source": [
    "# Mean squared error\n",
    "mse2 = mean_squared_error(y_train, mr_rfe.predict(X_train[f_lm]), squared=False).round(2), mean_squared_error(y_test, y_pred, squared=False).round(2)\n",
    "mse2"
   ]
  },
  {
   "cell_type": "code",
   "execution_count": 16,
   "id": "98f8c93b",
   "metadata": {},
   "outputs": [],
   "source": [
    "# Feature ranking with recursive feature elimination\n",
    "from sklearn.feature_selection import RFE\n",
    "n_features = X.shape[1]\n",
    "estimator = LinearRegression()\n",
    "selector = RFE(estimator, n_features_to_select = 13)\n",
    "selector = selector.fit(X, y)\n",
    "\n",
    "# Selected Features\n",
    "selected_columns=[]\n",
    "for i in range(n_features):\n",
    "    if selector.support_[i] == True:\n",
    "        selected_columns.append(i)\n",
    "        \n",
    "f_lm1 = []\n",
    "for column in selected_columns:\n",
    "    f_lm1.append(X.columns[column])"
   ]
  },
  {
   "cell_type": "code",
   "execution_count": 17,
   "id": "4443fcfd",
   "metadata": {},
   "outputs": [
    {
     "data": {
      "text/plain": [
       "(array([ 0.34098462, -0.47197153, -0.2583939 ,  0.29304249,  0.20689079,\n",
       "         0.25036869, -1.24062987,  0.31872525,  0.94626192,  0.39480719,\n",
       "         1.39941179, -0.18993525,  0.22305561]),\n",
       " 2.0951056707874196)"
      ]
     },
     "execution_count": 17,
     "metadata": {},
     "output_type": "execute_result"
    }
   ],
   "source": [
    "# Fitting Optimized Multiple Regression\n",
    "mr_rfe1 = LinearRegression().fit(X_train[f_lm1], y_train)\n",
    "\n",
    "# Getting parameters\n",
    "mr_rfe1.coef_, mr_rfe1.intercept_"
   ]
  },
  {
   "cell_type": "code",
   "execution_count": 18,
   "id": "498d9f84",
   "metadata": {},
   "outputs": [
    {
     "data": {
      "text/plain": [
       "0.291"
      ]
     },
     "execution_count": 18,
     "metadata": {},
     "output_type": "execute_result"
    }
   ],
   "source": [
    "\n",
    "# Predicting the Test set results\n",
    "y_pred = mr_rfe1.predict(X_test[f_lm1])\n",
    "\n",
    "# Coefficient of determination R^2\n",
    "mr_rfe1.score(X_train[f_lm1], y_train).round(3)"
   ]
  },
  {
   "cell_type": "code",
   "execution_count": 19,
   "id": "1eba10cd",
   "metadata": {},
   "outputs": [
    {
     "data": {
      "text/plain": [
       "(1.69, 1.69)"
      ]
     },
     "execution_count": 19,
     "metadata": {},
     "output_type": "execute_result"
    }
   ],
   "source": [
    "# Mean squared error\n",
    "mse3 = mean_squared_error(y_train, mr_rfe1.predict(X_train[f_lm1]), squared=False).round(2), mean_squared_error(y_test, y_pred, squared=False).round(2)\n",
    "mse3"
   ]
  },
  {
   "cell_type": "markdown",
   "id": "f3384525",
   "metadata": {},
   "source": [
    "* По сравнению с простой линейной регрессией - данная модель имеет лучшие показатели. Значение R^2 на всех переменных и на наиболее значимых практически не отличается, а значение MSE уменьшилось и переобучения модели не произошло."
   ]
  },
  {
   "cell_type": "code",
   "execution_count": 60,
   "id": "ec1fda17",
   "metadata": {},
   "outputs": [],
   "source": [
    "\n",
    "# Backward Elimination with p-values\n",
    "def backwardElimination(x, y, sl):\n",
    "    x = sm.add_constant(x)\n",
    "    numVars = x.shape[1]\n",
    "    for i in range(0, numVars):\n",
    "        regressor_OLS = sm.OLS(y.astype(float), x.astype(float)).fit()\n",
    "        maxVar = max(regressor_OLS.pvalues)\n",
    "        if maxVar > sl:\n",
    "            for j in range(0, numVars - i):\n",
    "                if (regressor_OLS.pvalues[j] == maxVar):\n",
    "                    x = x.drop(x.columns[j], axis=1)\n",
    "    regressor_OLS.summary()\n",
    "    return x\n",
    "\n",
    "SL = 0.01\n",
    "X_Modeled = backwardElimination(X_train, y_train, SL)"
   ]
  },
  {
   "cell_type": "markdown",
   "id": "d5e01883",
   "metadata": {},
   "source": [
    "* Отбор соответсвующих значимых переменных по критерию порогового значения (SL). Данный метод удобен для большого числа переменных, когда сложно посчитать сколько именно по критерию p-value значимых предикторов. Таким образом подобрано наиболее оптимальное пороговое значение (0.01)."
   ]
  },
  {
   "cell_type": "code",
   "execution_count": 61,
   "id": "b3483e73",
   "metadata": {},
   "outputs": [
    {
     "data": {
      "text/plain": [
       "0.298"
      ]
     },
     "execution_count": 61,
     "metadata": {},
     "output_type": "execute_result"
    }
   ],
   "source": [
    "# Fitting Optimized Multiple Regression\n",
    "mr_be = LinearRegression().fit(X_Modeled, y_train)\n",
    "\n",
    "# Coefficient of determination R^2\n",
    "mr_be.score(X_Modeled, y_train).round(3)"
   ]
  },
  {
   "cell_type": "code",
   "execution_count": null,
   "id": "3f1a72e8",
   "metadata": {},
   "outputs": [],
   "source": [
    "* Значение R^2 не изменилось по сравнению с моделью множественной регрессии (построенной на всех переменных)."
   ]
  },
  {
   "cell_type": "markdown",
   "id": "1a145678",
   "metadata": {},
   "source": [
    "# Polynomial Regression"
   ]
  },
  {
   "cell_type": "code",
   "execution_count": 22,
   "id": "2318dfc8",
   "metadata": {},
   "outputs": [
    {
     "data": {
      "text/plain": [
       "(array([-4.99431634e+01,  4.36113830e-02,  2.51667134e+09, -1.31887092e+09,\n",
       "         9.63070934e-01,  6.71444777e-01,  6.81305334e+08, -1.81507887e-02,\n",
       "         2.87830081e+08, -3.02611745e+08,  2.21600344e-01, -2.66956177e+08,\n",
       "        -4.96847083e+08,  6.62931449e+08, -8.78123913e+08,  1.29699101e+08,\n",
       "         1.77293938e-01, -7.78133702e+08, -9.09316353e+08,  4.99527424e+01,\n",
       "        -3.95584106e-03, -1.10675126e-01,  1.11857951e-01, -2.49167383e-02,\n",
       "         8.97598267e-03,  5.99231571e-02,  2.44525373e-02, -2.34585450e-01,\n",
       "        -2.19478205e-01,  4.38898653e-02, -1.92548923e-01,  1.08773932e-02,\n",
       "        -1.04240600e-01, -4.83475477e-02,  1.79339819e-01, -1.47230029e-02,\n",
       "         2.10105866e-01, -7.46095404e-02, -1.09434128e-04, -1.00722462e-02,\n",
       "        -1.34816542e-02, -1.66049898e-02,  1.05738640e-04, -9.46015120e-04,\n",
       "         1.22895837e-03,  1.83929503e-03,  5.94681501e-03, -1.01768970e-03,\n",
       "         6.48871064e-03, -6.27936423e-03,  1.11766681e-02, -9.14765894e-03,\n",
       "        -6.92959130e-03,  3.82632017e-03, -2.78335810e-03, -1.16679072e-03,\n",
       "        -2.51667134e+09,  8.89413152e-03, -6.80753435e-02, -3.13625038e-02,\n",
       "        -1.17557608e-01,  1.04470653e-01, -6.05326470e-02,  1.90076614e-01,\n",
       "        -8.07180107e-02,  1.12879507e-01, -1.26724635e-01,  1.26122023e-01,\n",
       "        -2.27478910e-02,  1.07589571e-01,  4.73922491e-03, -9.22957798e-02,\n",
       "        -1.38552116e-01,  1.31887092e+09,  2.43206105e-01,  3.81065663e-02,\n",
       "        -8.09184453e-02,  9.65411030e-02, -2.93545941e-01, -3.66874023e-01,\n",
       "        -9.47854314e-02,  3.27016540e-01,  6.97230785e-02, -4.22958376e-01,\n",
       "        -4.15973589e-02, -3.74903776e-02,  1.85934776e-01,  3.49549449e-02,\n",
       "        -4.16665417e-02, -2.52692239e-01, -7.93389566e-02,  2.96571366e-02,\n",
       "         8.56634155e-02,  1.56533252e-01,  2.53740623e-01,  1.49558062e-01,\n",
       "        -8.61815340e-02,  3.40948474e-01, -3.63052554e-01, -2.47206333e-01,\n",
       "         2.12452605e-01, -1.35403056e-01,  3.53349048e-01, -2.12467128e-01,\n",
       "        -3.00166011e-01,  7.25779794e-02, -3.63835543e-02,  9.58409051e-02,\n",
       "        -1.77671138e-01,  3.29732057e-02,  2.32037861e-01, -1.08512729e-01,\n",
       "         1.88897669e-01, -1.11819737e-01,  5.69850951e-03,  5.13748825e-02,\n",
       "        -1.68741226e-01,  6.01218194e-02, -6.81305333e+08, -4.81018256e-02,\n",
       "         6.20899894e-02, -1.46403016e-01,  5.71281153e-02,  1.10875214e-01,\n",
       "        -1.47312636e-01, -2.73629894e-01, -2.91851724e-01, -2.02778261e-03,\n",
       "        -2.70086862e-02,  2.82954101e-01, -4.15566713e-02,  2.01590359e-03,\n",
       "         1.10772659e-01, -5.00342436e-03, -4.89471257e-02, -1.42983111e-01,\n",
       "         2.29465198e-02,  8.08632416e-02,  3.79392691e-02,  2.11035609e-02,\n",
       "        -5.25274873e-03,  6.67261239e-02, -5.06191812e-02, -2.87830082e+08,\n",
       "        -2.42011598e-01,  5.62052112e-02, -2.72631851e-02,  1.97004445e-01,\n",
       "        -4.09380275e-02,  2.51626444e-01,  7.61496680e-02,  6.73848973e-03,\n",
       "         8.56827880e-02, -3.97159906e-01,  3.02611745e+08, -1.84642598e-02,\n",
       "        -6.51775198e-02,  2.37313509e-01,  1.80453048e-01,  1.38754605e-01,\n",
       "         2.69559340e-01,  8.67163278e-02, -3.33953244e-01,  6.87281676e-02,\n",
       "        -1.06555484e-02,  1.24629923e-01,  7.35147446e-02,  1.69337878e-02,\n",
       "         1.57340895e-02, -1.37837415e-01,  2.38279141e-02, -1.07254622e-01,\n",
       "        -2.22770697e-02,  2.66956176e+08,  3.80073376e-02,  3.60970771e-01,\n",
       "        -3.28613445e-04, -2.56372504e-02, -2.33730637e-02,  1.10763855e-01,\n",
       "        -5.34763185e-01,  4.96847084e+08,  6.92436690e-02, -1.47637440e-01,\n",
       "        -1.10713357e-01, -2.17387117e-02, -7.67818727e-02, -3.25755402e-02,\n",
       "        -6.62931448e+08,  7.18583651e-02, -1.08178120e-01, -1.62890147e-01,\n",
       "         8.52613579e-02,  1.17223067e-02,  8.78123915e+08,  8.15092482e-01,\n",
       "        -2.26831011e-01,  7.29106013e-02,  3.17786261e-03, -1.29699101e+08,\n",
       "         9.36749391e-02,  3.23285522e-01,  2.16170587e-01, -1.40001327e-01,\n",
       "         2.03276243e-01,  1.40416943e-01,  7.78133701e+08, -3.48243117e-03,\n",
       "         9.09316354e+08]),\n",
       " 0.8089670204670516)"
      ]
     },
     "execution_count": 22,
     "metadata": {},
     "output_type": "execute_result"
    }
   ],
   "source": [
    "\n",
    "# Fitting Polynomial Regression to the dataset\n",
    "from sklearn.preprocessing import PolynomialFeatures\n",
    "X_train_p = PolynomialFeatures().fit_transform(X_train)\n",
    "X_test_p = PolynomialFeatures().fit_transform(X_test)\n",
    "\n",
    "pr = LinearRegression().fit(X_train_p[:,1:], y_train)\n",
    "\n",
    "# Getting parameters\n",
    "pr.coef_, pr.intercept_"
   ]
  },
  {
   "cell_type": "markdown",
   "id": "629ab182",
   "metadata": {},
   "source": [
    "*Построена модель полиномиальной регрессии. Следует отметить, что в нулевую степень переменные не были возведены (столбец единиц был исключен для большего качества)."
   ]
  },
  {
   "cell_type": "code",
   "execution_count": 23,
   "id": "a1f8eb68",
   "metadata": {},
   "outputs": [
    {
     "data": {
      "text/plain": [
       "0.401"
      ]
     },
     "execution_count": 23,
     "metadata": {},
     "output_type": "execute_result"
    }
   ],
   "source": [
    "\n",
    "# Predicting the Test set results\n",
    "y_pred = pr.predict(X_test_p[:,1:])\n",
    "\n",
    "# Coefficient of determination R^2\n",
    "pr.score(X_train_p[:,1:], y_train).round(3)"
   ]
  },
  {
   "cell_type": "code",
   "execution_count": 24,
   "id": "21d0ee56",
   "metadata": {},
   "outputs": [
    {
     "data": {
      "text/plain": [
       "(1.55, 1.59)"
      ]
     },
     "execution_count": 24,
     "metadata": {},
     "output_type": "execute_result"
    }
   ],
   "source": [
    "# Mean squared error\n",
    "mse4 = mean_squared_error(y_train, pr.predict(X_train_p[:,1:]), squared=False).round(2), mean_squared_error(y_test, y_pred, squared=False).round(2)\n",
    "mse4"
   ]
  },
  {
   "cell_type": "markdown",
   "id": "42bcafbe",
   "metadata": {},
   "source": [
    "Значение R^2 вышло на максимальный уровень, что указывает на улучшение качества модели. Значение MSE на тестовой выборке несколько больше, чем на обучающей, однако в целом они сопастовимы. Таким образом, данная процедура дает нам наилучшую модель из полученных нами."
   ]
  },
  {
   "cell_type": "markdown",
   "id": "c5031452",
   "metadata": {},
   "source": [
    "# RESULTS"
   ]
  },
  {
   "cell_type": "markdown",
   "id": "ed036f9b",
   "metadata": {},
   "source": [
    "# ! ЛИНЕЙНАЯ РЕГРЕССИЯ !"
   ]
  },
  {
   "cell_type": "code",
   "execution_count": 25,
   "id": "0461f3bf",
   "metadata": {},
   "outputs": [
    {
     "data": {
      "text/plain": [
       "0.12"
      ]
     },
     "execution_count": 25,
     "metadata": {},
     "output_type": "execute_result"
    }
   ],
   "source": [
    " sr.score(X_train[f1], y_train).round(3)"
   ]
  },
  {
   "cell_type": "code",
   "execution_count": 26,
   "id": "83f7067d",
   "metadata": {},
   "outputs": [
    {
     "data": {
      "text/plain": [
       "(1.88, 1.85)"
      ]
     },
     "execution_count": 26,
     "metadata": {},
     "output_type": "execute_result"
    }
   ],
   "source": [
    "mse1"
   ]
  },
  {
   "cell_type": "markdown",
   "id": "7a881272",
   "metadata": {},
   "source": [
    "# ! МНОЖЕСТВЕННАЯ РЕГРЕССИЯ !"
   ]
  },
  {
   "cell_type": "code",
   "execution_count": 27,
   "id": "69d3ec03",
   "metadata": {},
   "outputs": [
    {
     "data": {
      "text/plain": [
       "0.298"
      ]
     },
     "execution_count": 27,
     "metadata": {},
     "output_type": "execute_result"
    }
   ],
   "source": [
    "mr.score(X_train, y_train).round(3)\n",
    "#Множественная регрессия"
   ]
  },
  {
   "cell_type": "markdown",
   "id": "15de2f93",
   "metadata": {},
   "source": [
    "# ! 11 переменных !"
   ]
  },
  {
   "cell_type": "code",
   "execution_count": 28,
   "id": "dcb0cb72",
   "metadata": {},
   "outputs": [
    {
     "data": {
      "text/plain": [
       "0.288"
      ]
     },
     "execution_count": 28,
     "metadata": {},
     "output_type": "execute_result"
    }
   ],
   "source": [
    "mr_rfe.score(X_train[f_lm], y_train).round(3)"
   ]
  },
  {
   "cell_type": "code",
   "execution_count": 29,
   "id": "ac5f39b6",
   "metadata": {},
   "outputs": [
    {
     "data": {
      "text/plain": [
       "(1.69, 1.69)"
      ]
     },
     "execution_count": 29,
     "metadata": {},
     "output_type": "execute_result"
    }
   ],
   "source": [
    "mse2"
   ]
  },
  {
   "cell_type": "markdown",
   "id": "39101c29",
   "metadata": {},
   "source": [
    "# ! 13 переменных !"
   ]
  },
  {
   "cell_type": "code",
   "execution_count": 30,
   "id": "f82e5640",
   "metadata": {},
   "outputs": [
    {
     "data": {
      "text/plain": [
       "0.291"
      ]
     },
     "execution_count": 30,
     "metadata": {},
     "output_type": "execute_result"
    }
   ],
   "source": [
    "mr_rfe1.score(X_train[f_lm1], y_train).round(3)\n",
    "#20 переменных - множественная регрессия"
   ]
  },
  {
   "cell_type": "code",
   "execution_count": 31,
   "id": "a5d48a8a",
   "metadata": {},
   "outputs": [
    {
     "data": {
      "text/plain": [
       "(1.69, 1.69)"
      ]
     },
     "execution_count": 31,
     "metadata": {},
     "output_type": "execute_result"
    }
   ],
   "source": [
    "mse3"
   ]
  },
  {
   "cell_type": "markdown",
   "id": "cbcd7bd6",
   "metadata": {},
   "source": [
    "# ОТБОР P-VALUES"
   ]
  },
  {
   "cell_type": "code",
   "execution_count": 32,
   "id": "0cdde701",
   "metadata": {},
   "outputs": [
    {
     "data": {
      "text/plain": [
       "0.298"
      ]
     },
     "execution_count": 32,
     "metadata": {},
     "output_type": "execute_result"
    }
   ],
   "source": [
    "mr_be.score(X_Modeled, y_train).round(3)\n",
    "#на основе отбора p-values"
   ]
  },
  {
   "cell_type": "markdown",
   "id": "3155fcc8",
   "metadata": {},
   "source": [
    "# ПОЛИНОМИАЛЬНАЯ РЕГРЕССИЯ"
   ]
  },
  {
   "cell_type": "code",
   "execution_count": 33,
   "id": "b18af9e4",
   "metadata": {},
   "outputs": [
    {
     "data": {
      "text/plain": [
       "0.401"
      ]
     },
     "execution_count": 33,
     "metadata": {},
     "output_type": "execute_result"
    }
   ],
   "source": [
    "pr.score(X_train_p[:,1:], y_train).round(3)\n",
    "#Полиномиальная регрессия"
   ]
  },
  {
   "cell_type": "code",
   "execution_count": 34,
   "id": "aa67ed8f",
   "metadata": {},
   "outputs": [
    {
     "data": {
      "text/plain": [
       "(1.55, 1.59)"
      ]
     },
     "execution_count": 34,
     "metadata": {},
     "output_type": "execute_result"
    }
   ],
   "source": [
    "mse4"
   ]
  },
  {
   "cell_type": "markdown",
   "id": "0925d96c",
   "metadata": {},
   "source": [
    "# Pickle"
   ]
  },
  {
   "cell_type": "code",
   "execution_count": 35,
   "id": "54b62208",
   "metadata": {},
   "outputs": [],
   "source": [
    "import pickle\n",
    "obj = {'X_train': X_train, 'X_test': X_test,'y_train': y_train,'y_test': y_test}\n",
    "output = open('data_reg.pkl', 'wb')\n",
    "pickle.dump(obj, output, 2)\n",
    "output.close()"
   ]
  },
  {
   "cell_type": "markdown",
   "id": "18567cc5",
   "metadata": {},
   "source": [
    "\"консервация\" полученных данных для дальнейшего их использования"
   ]
  }
 ],
 "metadata": {
  "kernelspec": {
   "display_name": "Python 3",
   "language": "python",
   "name": "python3"
  },
  "language_info": {
   "codemirror_mode": {
    "name": "ipython",
    "version": 3
   },
   "file_extension": ".py",
   "mimetype": "text/x-python",
   "name": "python",
   "nbconvert_exporter": "python",
   "pygments_lexer": "ipython3",
   "version": "3.8.8"
  }
 },
 "nbformat": 4,
 "nbformat_minor": 5
}
