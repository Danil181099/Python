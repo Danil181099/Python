{
 "cells": [
  {
   "cell_type": "markdown",
   "id": "57c16a00",
   "metadata": {},
   "source": [
    "# Linear Regression"
   ]
  },
  {
   "cell_type": "markdown",
   "id": "aa1b4008",
   "metadata": {},
   "source": [
    "Importing data"
   ]
  },
  {
   "cell_type": "code",
   "execution_count": 1,
   "id": "6f7d59ec",
   "metadata": {},
   "outputs": [],
   "source": [
    "# Importing the libraries\n",
    "import numpy as np\n",
    "import matplotlib.pyplot as plt\n",
    "import pandas as pd"
   ]
  },
  {
   "cell_type": "markdown",
   "id": "f5beab09",
   "metadata": {},
   "source": [
    "* импорт необходимых библиотек для дальйнейшей работы"
   ]
  },
  {
   "cell_type": "code",
   "execution_count": 2,
   "id": "5849937b",
   "metadata": {
    "scrolled": true
   },
   "outputs": [
    {
     "data": {
      "text/html": [
       "<div>\n",
       "<style scoped>\n",
       "    .dataframe tbody tr th:only-of-type {\n",
       "        vertical-align: middle;\n",
       "    }\n",
       "\n",
       "    .dataframe tbody tr th {\n",
       "        vertical-align: top;\n",
       "    }\n",
       "\n",
       "    .dataframe thead th {\n",
       "        text-align: right;\n",
       "    }\n",
       "</style>\n",
       "<table border=\"1\" class=\"dataframe\">\n",
       "  <thead>\n",
       "    <tr style=\"text-align: right;\">\n",
       "      <th></th>\n",
       "      <th>country</th>\n",
       "      <th>is_urban</th>\n",
       "      <th>age</th>\n",
       "      <th>female</th>\n",
       "      <th>married</th>\n",
       "      <th>religion</th>\n",
       "      <th>can_calc_percents</th>\n",
       "      <th>employment_type_last_year</th>\n",
       "      <th>income_government_last_year</th>\n",
       "      <th>income_own_business_last_year</th>\n",
       "      <th>num_times_borrowed_last_year</th>\n",
       "      <th>active_bank_user</th>\n",
       "      <th>cash_property_savings</th>\n",
       "      <th>has_insurance</th>\n",
       "      <th>can_call</th>\n",
       "      <th>can_make_transaction</th>\n",
       "      <th>phone_ownership</th>\n",
       "      <th>has_investment</th>\n",
       "      <th>num_financial_activities_last_year</th>\n",
       "      <th>literacy</th>\n",
       "    </tr>\n",
       "  </thead>\n",
       "  <tbody>\n",
       "    <tr>\n",
       "      <th>0</th>\n",
       "      <td>0</td>\n",
       "      <td>False</td>\n",
       "      <td>57</td>\n",
       "      <td>True</td>\n",
       "      <td>True</td>\n",
       "      <td>1</td>\n",
       "      <td>True</td>\n",
       "      <td>0</td>\n",
       "      <td>True</td>\n",
       "      <td>False</td>\n",
       "      <td>1</td>\n",
       "      <td>False</td>\n",
       "      <td>False</td>\n",
       "      <td>False</td>\n",
       "      <td>True</td>\n",
       "      <td>True</td>\n",
       "      <td>2</td>\n",
       "      <td>False</td>\n",
       "      <td>0</td>\n",
       "      <td>True</td>\n",
       "    </tr>\n",
       "    <tr>\n",
       "      <th>1</th>\n",
       "      <td>1</td>\n",
       "      <td>False</td>\n",
       "      <td>40</td>\n",
       "      <td>False</td>\n",
       "      <td>True</td>\n",
       "      <td>2</td>\n",
       "      <td>False</td>\n",
       "      <td>0</td>\n",
       "      <td>False</td>\n",
       "      <td>False</td>\n",
       "      <td>1</td>\n",
       "      <td>False</td>\n",
       "      <td>False</td>\n",
       "      <td>False</td>\n",
       "      <td>False</td>\n",
       "      <td>False</td>\n",
       "      <td>2</td>\n",
       "      <td>False</td>\n",
       "      <td>0</td>\n",
       "      <td>True</td>\n",
       "    </tr>\n",
       "    <tr>\n",
       "      <th>2</th>\n",
       "      <td>2</td>\n",
       "      <td>False</td>\n",
       "      <td>35</td>\n",
       "      <td>True</td>\n",
       "      <td>True</td>\n",
       "      <td>0</td>\n",
       "      <td>False</td>\n",
       "      <td>1</td>\n",
       "      <td>False</td>\n",
       "      <td>False</td>\n",
       "      <td>1</td>\n",
       "      <td>False</td>\n",
       "      <td>True</td>\n",
       "      <td>False</td>\n",
       "      <td>True</td>\n",
       "      <td>False</td>\n",
       "      <td>2</td>\n",
       "      <td>False</td>\n",
       "      <td>2</td>\n",
       "      <td>False</td>\n",
       "    </tr>\n",
       "    <tr>\n",
       "      <th>3</th>\n",
       "      <td>2</td>\n",
       "      <td>True</td>\n",
       "      <td>19</td>\n",
       "      <td>True</td>\n",
       "      <td>False</td>\n",
       "      <td>0</td>\n",
       "      <td>False</td>\n",
       "      <td>0</td>\n",
       "      <td>False</td>\n",
       "      <td>False</td>\n",
       "      <td>0</td>\n",
       "      <td>False</td>\n",
       "      <td>False</td>\n",
       "      <td>False</td>\n",
       "      <td>True</td>\n",
       "      <td>False</td>\n",
       "      <td>1</td>\n",
       "      <td>False</td>\n",
       "      <td>0</td>\n",
       "      <td>True</td>\n",
       "    </tr>\n",
       "    <tr>\n",
       "      <th>4</th>\n",
       "      <td>3</td>\n",
       "      <td>False</td>\n",
       "      <td>61</td>\n",
       "      <td>True</td>\n",
       "      <td>True</td>\n",
       "      <td>0</td>\n",
       "      <td>False</td>\n",
       "      <td>1</td>\n",
       "      <td>False</td>\n",
       "      <td>False</td>\n",
       "      <td>1</td>\n",
       "      <td>False</td>\n",
       "      <td>False</td>\n",
       "      <td>False</td>\n",
       "      <td>False</td>\n",
       "      <td>False</td>\n",
       "      <td>1</td>\n",
       "      <td>False</td>\n",
       "      <td>0</td>\n",
       "      <td>False</td>\n",
       "    </tr>\n",
       "    <tr>\n",
       "      <th>5</th>\n",
       "      <td>3</td>\n",
       "      <td>True</td>\n",
       "      <td>16</td>\n",
       "      <td>True</td>\n",
       "      <td>False</td>\n",
       "      <td>0</td>\n",
       "      <td>False</td>\n",
       "      <td>1</td>\n",
       "      <td>True</td>\n",
       "      <td>False</td>\n",
       "      <td>1</td>\n",
       "      <td>False</td>\n",
       "      <td>False</td>\n",
       "      <td>False</td>\n",
       "      <td>True</td>\n",
       "      <td>True</td>\n",
       "      <td>1</td>\n",
       "      <td>False</td>\n",
       "      <td>0</td>\n",
       "      <td>True</td>\n",
       "    </tr>\n",
       "    <tr>\n",
       "      <th>6</th>\n",
       "      <td>0</td>\n",
       "      <td>False</td>\n",
       "      <td>40</td>\n",
       "      <td>False</td>\n",
       "      <td>True</td>\n",
       "      <td>0</td>\n",
       "      <td>False</td>\n",
       "      <td>2</td>\n",
       "      <td>False</td>\n",
       "      <td>False</td>\n",
       "      <td>0</td>\n",
       "      <td>False</td>\n",
       "      <td>True</td>\n",
       "      <td>False</td>\n",
       "      <td>False</td>\n",
       "      <td>False</td>\n",
       "      <td>0</td>\n",
       "      <td>True</td>\n",
       "      <td>0</td>\n",
       "      <td>False</td>\n",
       "    </tr>\n",
       "    <tr>\n",
       "      <th>7</th>\n",
       "      <td>1</td>\n",
       "      <td>False</td>\n",
       "      <td>27</td>\n",
       "      <td>True</td>\n",
       "      <td>True</td>\n",
       "      <td>2</td>\n",
       "      <td>False</td>\n",
       "      <td>1</td>\n",
       "      <td>False</td>\n",
       "      <td>False</td>\n",
       "      <td>0</td>\n",
       "      <td>False</td>\n",
       "      <td>False</td>\n",
       "      <td>False</td>\n",
       "      <td>False</td>\n",
       "      <td>False</td>\n",
       "      <td>0</td>\n",
       "      <td>False</td>\n",
       "      <td>1</td>\n",
       "      <td>False</td>\n",
       "    </tr>\n",
       "    <tr>\n",
       "      <th>8</th>\n",
       "      <td>3</td>\n",
       "      <td>True</td>\n",
       "      <td>35</td>\n",
       "      <td>False</td>\n",
       "      <td>True</td>\n",
       "      <td>0</td>\n",
       "      <td>True</td>\n",
       "      <td>0</td>\n",
       "      <td>False</td>\n",
       "      <td>False</td>\n",
       "      <td>0</td>\n",
       "      <td>True</td>\n",
       "      <td>True</td>\n",
       "      <td>False</td>\n",
       "      <td>True</td>\n",
       "      <td>True</td>\n",
       "      <td>2</td>\n",
       "      <td>True</td>\n",
       "      <td>2</td>\n",
       "      <td>True</td>\n",
       "    </tr>\n",
       "    <tr>\n",
       "      <th>9</th>\n",
       "      <td>4</td>\n",
       "      <td>False</td>\n",
       "      <td>72</td>\n",
       "      <td>True</td>\n",
       "      <td>False</td>\n",
       "      <td>1</td>\n",
       "      <td>False</td>\n",
       "      <td>2</td>\n",
       "      <td>False</td>\n",
       "      <td>False</td>\n",
       "      <td>2</td>\n",
       "      <td>False</td>\n",
       "      <td>False</td>\n",
       "      <td>False</td>\n",
       "      <td>False</td>\n",
       "      <td>False</td>\n",
       "      <td>2</td>\n",
       "      <td>False</td>\n",
       "      <td>4</td>\n",
       "      <td>False</td>\n",
       "    </tr>\n",
       "    <tr>\n",
       "      <th>10</th>\n",
       "      <td>1</td>\n",
       "      <td>False</td>\n",
       "      <td>22</td>\n",
       "      <td>False</td>\n",
       "      <td>True</td>\n",
       "      <td>2</td>\n",
       "      <td>False</td>\n",
       "      <td>1</td>\n",
       "      <td>False</td>\n",
       "      <td>False</td>\n",
       "      <td>0</td>\n",
       "      <td>True</td>\n",
       "      <td>False</td>\n",
       "      <td>False</td>\n",
       "      <td>False</td>\n",
       "      <td>False</td>\n",
       "      <td>2</td>\n",
       "      <td>False</td>\n",
       "      <td>0</td>\n",
       "      <td>False</td>\n",
       "    </tr>\n",
       "    <tr>\n",
       "      <th>11</th>\n",
       "      <td>0</td>\n",
       "      <td>False</td>\n",
       "      <td>27</td>\n",
       "      <td>False</td>\n",
       "      <td>False</td>\n",
       "      <td>0</td>\n",
       "      <td>True</td>\n",
       "      <td>3</td>\n",
       "      <td>True</td>\n",
       "      <td>False</td>\n",
       "      <td>0</td>\n",
       "      <td>False</td>\n",
       "      <td>False</td>\n",
       "      <td>False</td>\n",
       "      <td>True</td>\n",
       "      <td>False</td>\n",
       "      <td>2</td>\n",
       "      <td>False</td>\n",
       "      <td>0</td>\n",
       "      <td>True</td>\n",
       "    </tr>\n",
       "    <tr>\n",
       "      <th>12</th>\n",
       "      <td>2</td>\n",
       "      <td>False</td>\n",
       "      <td>45</td>\n",
       "      <td>False</td>\n",
       "      <td>True</td>\n",
       "      <td>0</td>\n",
       "      <td>False</td>\n",
       "      <td>0</td>\n",
       "      <td>False</td>\n",
       "      <td>False</td>\n",
       "      <td>0</td>\n",
       "      <td>True</td>\n",
       "      <td>False</td>\n",
       "      <td>False</td>\n",
       "      <td>True</td>\n",
       "      <td>False</td>\n",
       "      <td>0</td>\n",
       "      <td>False</td>\n",
       "      <td>5</td>\n",
       "      <td>True</td>\n",
       "    </tr>\n",
       "    <tr>\n",
       "      <th>13</th>\n",
       "      <td>5</td>\n",
       "      <td>False</td>\n",
       "      <td>36</td>\n",
       "      <td>False</td>\n",
       "      <td>True</td>\n",
       "      <td>1</td>\n",
       "      <td>False</td>\n",
       "      <td>2</td>\n",
       "      <td>False</td>\n",
       "      <td>True</td>\n",
       "      <td>1</td>\n",
       "      <td>False</td>\n",
       "      <td>False</td>\n",
       "      <td>True</td>\n",
       "      <td>True</td>\n",
       "      <td>True</td>\n",
       "      <td>2</td>\n",
       "      <td>True</td>\n",
       "      <td>6</td>\n",
       "      <td>True</td>\n",
       "    </tr>\n",
       "    <tr>\n",
       "      <th>14</th>\n",
       "      <td>1</td>\n",
       "      <td>False</td>\n",
       "      <td>62</td>\n",
       "      <td>False</td>\n",
       "      <td>True</td>\n",
       "      <td>0</td>\n",
       "      <td>False</td>\n",
       "      <td>4</td>\n",
       "      <td>True</td>\n",
       "      <td>False</td>\n",
       "      <td>0</td>\n",
       "      <td>False</td>\n",
       "      <td>False</td>\n",
       "      <td>True</td>\n",
       "      <td>False</td>\n",
       "      <td>False</td>\n",
       "      <td>0</td>\n",
       "      <td>False</td>\n",
       "      <td>1</td>\n",
       "      <td>False</td>\n",
       "    </tr>\n",
       "    <tr>\n",
       "      <th>15</th>\n",
       "      <td>5</td>\n",
       "      <td>False</td>\n",
       "      <td>21</td>\n",
       "      <td>False</td>\n",
       "      <td>False</td>\n",
       "      <td>1</td>\n",
       "      <td>False</td>\n",
       "      <td>1</td>\n",
       "      <td>False</td>\n",
       "      <td>False</td>\n",
       "      <td>2</td>\n",
       "      <td>False</td>\n",
       "      <td>True</td>\n",
       "      <td>True</td>\n",
       "      <td>True</td>\n",
       "      <td>True</td>\n",
       "      <td>2</td>\n",
       "      <td>False</td>\n",
       "      <td>5</td>\n",
       "      <td>True</td>\n",
       "    </tr>\n",
       "    <tr>\n",
       "      <th>16</th>\n",
       "      <td>3</td>\n",
       "      <td>False</td>\n",
       "      <td>69</td>\n",
       "      <td>False</td>\n",
       "      <td>True</td>\n",
       "      <td>0</td>\n",
       "      <td>False</td>\n",
       "      <td>1</td>\n",
       "      <td>False</td>\n",
       "      <td>False</td>\n",
       "      <td>0</td>\n",
       "      <td>False</td>\n",
       "      <td>True</td>\n",
       "      <td>False</td>\n",
       "      <td>False</td>\n",
       "      <td>False</td>\n",
       "      <td>2</td>\n",
       "      <td>False</td>\n",
       "      <td>0</td>\n",
       "      <td>True</td>\n",
       "    </tr>\n",
       "    <tr>\n",
       "      <th>17</th>\n",
       "      <td>5</td>\n",
       "      <td>False</td>\n",
       "      <td>52</td>\n",
       "      <td>True</td>\n",
       "      <td>False</td>\n",
       "      <td>1</td>\n",
       "      <td>False</td>\n",
       "      <td>2</td>\n",
       "      <td>False</td>\n",
       "      <td>True</td>\n",
       "      <td>3</td>\n",
       "      <td>False</td>\n",
       "      <td>False</td>\n",
       "      <td>False</td>\n",
       "      <td>True</td>\n",
       "      <td>True</td>\n",
       "      <td>2</td>\n",
       "      <td>True</td>\n",
       "      <td>2</td>\n",
       "      <td>False</td>\n",
       "    </tr>\n",
       "    <tr>\n",
       "      <th>18</th>\n",
       "      <td>4</td>\n",
       "      <td>False</td>\n",
       "      <td>29</td>\n",
       "      <td>True</td>\n",
       "      <td>True</td>\n",
       "      <td>1</td>\n",
       "      <td>True</td>\n",
       "      <td>1</td>\n",
       "      <td>False</td>\n",
       "      <td>False</td>\n",
       "      <td>0</td>\n",
       "      <td>False</td>\n",
       "      <td>False</td>\n",
       "      <td>False</td>\n",
       "      <td>False</td>\n",
       "      <td>False</td>\n",
       "      <td>0</td>\n",
       "      <td>False</td>\n",
       "      <td>0</td>\n",
       "      <td>False</td>\n",
       "    </tr>\n",
       "    <tr>\n",
       "      <th>19</th>\n",
       "      <td>1</td>\n",
       "      <td>False</td>\n",
       "      <td>60</td>\n",
       "      <td>True</td>\n",
       "      <td>True</td>\n",
       "      <td>2</td>\n",
       "      <td>True</td>\n",
       "      <td>1</td>\n",
       "      <td>False</td>\n",
       "      <td>False</td>\n",
       "      <td>1</td>\n",
       "      <td>False</td>\n",
       "      <td>False</td>\n",
       "      <td>True</td>\n",
       "      <td>False</td>\n",
       "      <td>False</td>\n",
       "      <td>0</td>\n",
       "      <td>False</td>\n",
       "      <td>1</td>\n",
       "      <td>False</td>\n",
       "    </tr>\n",
       "  </tbody>\n",
       "</table>\n",
       "</div>"
      ],
      "text/plain": [
       "    country  is_urban  age  female  married  religion  can_calc_percents  \\\n",
       "0         0     False   57    True     True         1               True   \n",
       "1         1     False   40   False     True         2              False   \n",
       "2         2     False   35    True     True         0              False   \n",
       "3         2      True   19    True    False         0              False   \n",
       "4         3     False   61    True     True         0              False   \n",
       "5         3      True   16    True    False         0              False   \n",
       "6         0     False   40   False     True         0              False   \n",
       "7         1     False   27    True     True         2              False   \n",
       "8         3      True   35   False     True         0               True   \n",
       "9         4     False   72    True    False         1              False   \n",
       "10        1     False   22   False     True         2              False   \n",
       "11        0     False   27   False    False         0               True   \n",
       "12        2     False   45   False     True         0              False   \n",
       "13        5     False   36   False     True         1              False   \n",
       "14        1     False   62   False     True         0              False   \n",
       "15        5     False   21   False    False         1              False   \n",
       "16        3     False   69   False     True         0              False   \n",
       "17        5     False   52    True    False         1              False   \n",
       "18        4     False   29    True     True         1               True   \n",
       "19        1     False   60    True     True         2               True   \n",
       "\n",
       "    employment_type_last_year  income_government_last_year  \\\n",
       "0                           0                         True   \n",
       "1                           0                        False   \n",
       "2                           1                        False   \n",
       "3                           0                        False   \n",
       "4                           1                        False   \n",
       "5                           1                         True   \n",
       "6                           2                        False   \n",
       "7                           1                        False   \n",
       "8                           0                        False   \n",
       "9                           2                        False   \n",
       "10                          1                        False   \n",
       "11                          3                         True   \n",
       "12                          0                        False   \n",
       "13                          2                        False   \n",
       "14                          4                         True   \n",
       "15                          1                        False   \n",
       "16                          1                        False   \n",
       "17                          2                        False   \n",
       "18                          1                        False   \n",
       "19                          1                        False   \n",
       "\n",
       "    income_own_business_last_year  num_times_borrowed_last_year  \\\n",
       "0                           False                             1   \n",
       "1                           False                             1   \n",
       "2                           False                             1   \n",
       "3                           False                             0   \n",
       "4                           False                             1   \n",
       "5                           False                             1   \n",
       "6                           False                             0   \n",
       "7                           False                             0   \n",
       "8                           False                             0   \n",
       "9                           False                             2   \n",
       "10                          False                             0   \n",
       "11                          False                             0   \n",
       "12                          False                             0   \n",
       "13                           True                             1   \n",
       "14                          False                             0   \n",
       "15                          False                             2   \n",
       "16                          False                             0   \n",
       "17                           True                             3   \n",
       "18                          False                             0   \n",
       "19                          False                             1   \n",
       "\n",
       "    active_bank_user  cash_property_savings  has_insurance  can_call  \\\n",
       "0              False                  False          False      True   \n",
       "1              False                  False          False     False   \n",
       "2              False                   True          False      True   \n",
       "3              False                  False          False      True   \n",
       "4              False                  False          False     False   \n",
       "5              False                  False          False      True   \n",
       "6              False                   True          False     False   \n",
       "7              False                  False          False     False   \n",
       "8               True                   True          False      True   \n",
       "9              False                  False          False     False   \n",
       "10              True                  False          False     False   \n",
       "11             False                  False          False      True   \n",
       "12              True                  False          False      True   \n",
       "13             False                  False           True      True   \n",
       "14             False                  False           True     False   \n",
       "15             False                   True           True      True   \n",
       "16             False                   True          False     False   \n",
       "17             False                  False          False      True   \n",
       "18             False                  False          False     False   \n",
       "19             False                  False           True     False   \n",
       "\n",
       "    can_make_transaction  phone_ownership  has_investment  \\\n",
       "0                   True                2           False   \n",
       "1                  False                2           False   \n",
       "2                  False                2           False   \n",
       "3                  False                1           False   \n",
       "4                  False                1           False   \n",
       "5                   True                1           False   \n",
       "6                  False                0            True   \n",
       "7                  False                0           False   \n",
       "8                   True                2            True   \n",
       "9                  False                2           False   \n",
       "10                 False                2           False   \n",
       "11                 False                2           False   \n",
       "12                 False                0           False   \n",
       "13                  True                2            True   \n",
       "14                 False                0           False   \n",
       "15                  True                2           False   \n",
       "16                 False                2           False   \n",
       "17                  True                2            True   \n",
       "18                 False                0           False   \n",
       "19                 False                0           False   \n",
       "\n",
       "    num_financial_activities_last_year  literacy  \n",
       "0                                    0      True  \n",
       "1                                    0      True  \n",
       "2                                    2     False  \n",
       "3                                    0      True  \n",
       "4                                    0     False  \n",
       "5                                    0      True  \n",
       "6                                    0     False  \n",
       "7                                    1     False  \n",
       "8                                    2      True  \n",
       "9                                    4     False  \n",
       "10                                   0     False  \n",
       "11                                   0      True  \n",
       "12                                   5      True  \n",
       "13                                   6      True  \n",
       "14                                   1     False  \n",
       "15                                   5      True  \n",
       "16                                   0      True  \n",
       "17                                   2     False  \n",
       "18                                   0     False  \n",
       "19                                   1     False  "
      ]
     },
     "execution_count": 2,
     "metadata": {},
     "output_type": "execute_result"
    }
   ],
   "source": [
    "# Importing the dataset\n",
    "df = pd.read_csv('invest_prep.csv', sep=';')\n",
    "df.head(20)"
   ]
  },
  {
   "cell_type": "markdown",
   "id": "a82f1641",
   "metadata": {},
   "source": [
    "* загрузка подготовленного раннее датасета."
   ]
  },
  {
   "cell_type": "code",
   "execution_count": 3,
   "id": "343a6eba",
   "metadata": {},
   "outputs": [
    {
     "data": {
      "text/plain": [
       "(8400, 20)"
      ]
     },
     "execution_count": 3,
     "metadata": {},
     "output_type": "execute_result"
    }
   ],
   "source": [
    "df.shape"
   ]
  },
  {
   "cell_type": "markdown",
   "id": "558da9d7",
   "metadata": {},
   "source": [
    "* датасет содержит 8400 наблюдений и 20 переменных (поскольку наиболее коррелируемые были удалены из модели)"
   ]
  },
  {
   "cell_type": "markdown",
   "id": "0028fbf3",
   "metadata": {},
   "source": [
    "# Correlations"
   ]
  },
  {
   "cell_type": "code",
   "execution_count": 4,
   "id": "87905a15",
   "metadata": {
    "scrolled": false
   },
   "outputs": [
    {
     "data": {
      "image/png": "[encoded data removed]",
      "text/plain": [
       "<Figure size 1440x1440 with 2 Axes>"
      ]
     },
     "metadata": {
      "needs_background": "light"
     },
     "output_type": "display_data"
    }
   ],
   "source": [
    "# Cheking correlations\n",
    "import seaborn as sns\n",
    "corrmat = df.corr()\n",
    "f, ax = plt.subplots(figsize=(20, 20))\n",
    "sns.heatmap(corrmat, annot=True)\n",
    "plt.show()"
   ]
  },
  {
   "cell_type": "markdown",
   "id": "789431a6",
   "metadata": {},
   "source": [
    "* наибольшее влияние на зависимую переменную (country) имеет переменная can_make_transaction и num_financial_activities_last_year. Для построения простой линейной регрессии выбираем первую из них. А так же делаем вывод, что у этих показателей прямая зависимость (в случае положительного ответа можно сделать предположение о экономическом состоянии страны)."
   ]
  },
  {
   "cell_type": "markdown",
   "id": "275ac3c0",
   "metadata": {},
   "source": [
    "# Splitting"
   ]
  },
  {
   "cell_type": "code",
   "execution_count": 5,
   "id": "526c2f5a",
   "metadata": {},
   "outputs": [],
   "source": [
    "# Splitting the dataset into the Training set and Test set\n",
    "X = df.iloc[:, 1:]\n",
    "y = df['country']\n",
    "from sklearn.model_selection import train_test_split\n",
    "X_train, X_test, y_train, y_test = train_test_split(X, y, test_size=0.2, random_state=10)"
   ]
  },
  {
   "cell_type": "markdown",
   "id": "cd47842f",
   "metadata": {},
   "source": [
    "* разделение датасета на обучающую и тестовую выборку (в процентом соотношении 80 на 20)."
   ]
  },
  {
   "cell_type": "markdown",
   "id": "da0d7c79",
   "metadata": {},
   "source": [
    "# Simple Linear Regression"
   ]
  },
  {
   "cell_type": "code",
   "execution_count": 6,
   "id": "b79aeacd",
   "metadata": {},
   "outputs": [
    {
     "data": {
      "text/plain": [
       "(array([1.54041269]), 2.5256596717224116)"
      ]
     },
     "execution_count": 6,
     "metadata": {},
     "output_type": "execute_result"
    }
   ],
   "source": [
    "# Fitting Simple Linear Regression to the Training set \n",
    "f1 = ['can_make_transaction']\n",
    "\n",
    "from sklearn.linear_model import LinearRegression\n",
    "sr = LinearRegression().fit(X_train[f1], y_train)\n",
    "\n",
    "# Getting parameters\n",
    "sr.coef_, sr.intercept_"
   ]
  },
  {
   "cell_type": "markdown",
   "id": "38e9252f",
   "metadata": {},
   "source": [
    "* как было сказано ранее - для просто линейной регрессии будет использоваться переменная can_make_transaction. Для модели соответственно получены значения коэффициента и свободного члена. "
   ]
  },
  {
   "cell_type": "code",
   "execution_count": 7,
   "id": "cf3f7667",
   "metadata": {},
   "outputs": [
    {
     "data": {
      "text/plain": [
       "0.12"
      ]
     },
     "execution_count": 7,
     "metadata": {},
     "output_type": "execute_result"
    }
   ],
   "source": [
    "# Predicting the Test set results\n",
    "y_pred = sr.predict(X_test[f1])\n",
    "\n",
    "# Coefficient of determination R^2\n",
    "sr.score(X_train[f1], y_train).round(3)"
   ]
  },
  {
   "cell_type": "markdown",
   "id": "48db58e6",
   "metadata": {},
   "source": [
    "* Получено значение R^2 = 0,12. Модель слабо описано, низкое качество. "
   ]
  },
  {
   "cell_type": "code",
   "execution_count": 8,
   "id": "f857f157",
   "metadata": {},
   "outputs": [
    {
     "data": {
      "text/plain": [
       "(1.88, 1.85)"
      ]
     },
     "execution_count": 8,
     "metadata": {},
     "output_type": "execute_result"
    }
   ],
   "source": [
    "# Mean squared error\n",
    "from sklearn.metrics import mean_squared_error\n",
    "mse1 = mean_squared_error(y_train, sr.predict(X_train[f1]), squared=False).round(2), mean_squared_error(y_test, y_pred, squared=False).round(2)\n",
    "mse1"
   ]
  },
  {
   "cell_type": "markdown",
   "id": "83d3b07f",
   "metadata": {},
   "source": [
    "Значение на обучающий выборке больше, что означает факт того, что модель не переобучена. Однако в целом качество такой модели на очень низком уровне."
   ]
  },
  {
   "cell_type": "markdown",
   "id": "448f7154",
   "metadata": {},
   "source": [
    "# Multiple Linear Regression"
   ]
  },
  {
   "cell_type": "code",
   "execution_count": 9,
   "id": "dbfcae01",
   "metadata": {},
   "outputs": [],
   "source": [
    "#!pip install statsmodels"
   ]
  },
  {
   "cell_type": "code",
   "execution_count": 10,
   "id": "6dd77dc5",
   "metadata": {},
   "outputs": [
    {
     "data": {
      "text/plain": [
       "(array([-0.27690231,  0.01269069,  0.41849439, -0.44967449, -0.11549442,\n",
       "         0.23248598,  0.22270133, -0.31132759,  0.15814103,  0.15766678,\n",
       "        -1.55265049,  0.23935553,  0.5616361 ,  0.23019463,  0.84856529,\n",
       "        -0.12445584, -0.43805063,  0.31059405,  0.3191116 ]),\n",
       " 1.5129272282057433)"
      ]
     },
     "execution_count": 10,
     "metadata": {},
     "output_type": "execute_result"
    }
   ],
   "source": [
    "# Fitting Simple Linear Regression to the Training set \n",
    "f_all = ['is_urban','age', 'female', 'married', 'religion', 'can_calc_percents', 'employment_type_last_year', 'income_government_last_year', 'income_own_business_last_year', 'num_times_borrowed_last_year', 'active_bank_user', 'cash_property_savings', 'has_insurance', 'can_call', 'can_make_transaction', 'phone_ownership', 'has_investment', 'num_financial_activities_last_year','literacy']\n",
    "from sklearn.linear_model import LinearRegression\n",
    "sr = LinearRegression().fit(X_train[f_all], y_train)\n",
    "\n",
    "# Getting parameters\n",
    "sr.coef_, sr.intercept_"
   ]
  },
  {
   "cell_type": "code",
   "execution_count": 11,
   "id": "189631e0",
   "metadata": {},
   "outputs": [
    {
     "data": {
      "text/plain": [
       "0.347"
      ]
     },
     "execution_count": 11,
     "metadata": {},
     "output_type": "execute_result"
    }
   ],
   "source": [
    "# Predicting the Test set results\n",
    "y_pred = sr.predict(X_test[f_all])\n",
    "\n",
    "# Coefficient of determination R^2\n",
    "sr.score(X_train[f_all], y_train).round(3)"
   ]
  },
  {
   "cell_type": "markdown",
   "id": "21768e40",
   "metadata": {},
   "source": [
    "* Значение R^2 значительно увеличилось, однако все также остается на низком уровне. Модель слабо описана. Для дальнейшей работы целесообразно отобрать наиболее значимые переменные."
   ]
  },
  {
   "cell_type": "code",
   "execution_count": 12,
   "id": "4d02247d",
   "metadata": {},
   "outputs": [
    {
     "data": {
      "text/plain": [
       "(1.62, 1.6)"
      ]
     },
     "execution_count": 12,
     "metadata": {},
     "output_type": "execute_result"
    }
   ],
   "source": [
    "# Mean squared error\n",
    "from sklearn.metrics import mean_squared_error\n",
    "mse_all = mean_squared_error(y_train, sr.predict(X_train[f_all]), squared=False).round(2), mean_squared_error(y_test, y_pred, squared=False).round(2)\n",
    "mse_all"
   ]
  },
  {
   "cell_type": "markdown",
   "id": "c8bd38c8",
   "metadata": {},
   "source": [
    "# Checking p-values"
   ]
  },
  {
   "cell_type": "code",
   "execution_count": 13,
   "id": "d59a26b1",
   "metadata": {},
   "outputs": [
    {
     "name": "stderr",
     "output_type": "stream",
     "text": [
      "D:\\Python_Anaconda\\envs\\LAB\\lib\\site-packages\\statsmodels\\tsa\\tsatools.py:142: FutureWarning: In a future version of pandas all arguments of concat except for the argument 'objs' will be keyword-only\n",
      "  x = pd.concat(x[::order], 1)\n"
     ]
    },
    {
     "data": {
      "text/html": [
       "<table class=\"simpletable\">\n",
       "<caption>OLS Regression Results</caption>\n",
       "<tr>\n",
       "  <th>Dep. Variable:</th>         <td>country</td>     <th>  R-squared:         </th> <td>   0.347</td> \n",
       "</tr>\n",
       "<tr>\n",
       "  <th>Model:</th>                   <td>OLS</td>       <th>  Adj. R-squared:    </th> <td>   0.345</td> \n",
       "</tr>\n",
       "<tr>\n",
       "  <th>Method:</th>             <td>Least Squares</td>  <th>  F-statistic:       </th> <td>   187.1</td> \n",
       "</tr>\n",
       "<tr>\n",
       "  <th>Date:</th>             <td>Sun, 12 Dec 2021</td> <th>  Prob (F-statistic):</th>  <td>  0.00</td>  \n",
       "</tr>\n",
       "<tr>\n",
       "  <th>Time:</th>                 <td>10:07:55</td>     <th>  Log-Likelihood:    </th> <td> -12774.</td> \n",
       "</tr>\n",
       "<tr>\n",
       "  <th>No. Observations:</th>      <td>  6720</td>      <th>  AIC:               </th> <td>2.559e+04</td>\n",
       "</tr>\n",
       "<tr>\n",
       "  <th>Df Residuals:</th>          <td>  6700</td>      <th>  BIC:               </th> <td>2.572e+04</td>\n",
       "</tr>\n",
       "<tr>\n",
       "  <th>Df Model:</th>              <td>    19</td>      <th>                     </th>     <td> </td>    \n",
       "</tr>\n",
       "<tr>\n",
       "  <th>Covariance Type:</th>      <td>nonrobust</td>    <th>                     </th>     <td> </td>    \n",
       "</tr>\n",
       "</table>\n",
       "<table class=\"simpletable\">\n",
       "<tr>\n",
       "                   <td></td>                     <th>coef</th>     <th>std err</th>      <th>t</th>      <th>P>|t|</th>  <th>[0.025</th>    <th>0.975]</th>  \n",
       "</tr>\n",
       "<tr>\n",
       "  <th>const</th>                              <td>    1.5129</td> <td>    0.096</td> <td>   15.743</td> <td> 0.000</td> <td>    1.325</td> <td>    1.701</td>\n",
       "</tr>\n",
       "<tr>\n",
       "  <th>is_urban</th>                           <td>   -0.2769</td> <td>    0.044</td> <td>   -6.284</td> <td> 0.000</td> <td>   -0.363</td> <td>   -0.191</td>\n",
       "</tr>\n",
       "<tr>\n",
       "  <th>age</th>                                <td>    0.0127</td> <td>    0.001</td> <td>    8.891</td> <td> 0.000</td> <td>    0.010</td> <td>    0.015</td>\n",
       "</tr>\n",
       "<tr>\n",
       "  <th>female</th>                             <td>    0.4185</td> <td>    0.041</td> <td>   10.087</td> <td> 0.000</td> <td>    0.337</td> <td>    0.500</td>\n",
       "</tr>\n",
       "<tr>\n",
       "  <th>married</th>                            <td>   -0.4497</td> <td>    0.044</td> <td>  -10.332</td> <td> 0.000</td> <td>   -0.535</td> <td>   -0.364</td>\n",
       "</tr>\n",
       "<tr>\n",
       "  <th>religion</th>                           <td>   -0.1155</td> <td>    0.028</td> <td>   -4.192</td> <td> 0.000</td> <td>   -0.170</td> <td>   -0.061</td>\n",
       "</tr>\n",
       "<tr>\n",
       "  <th>can_calc_percents</th>                  <td>    0.2325</td> <td>    0.041</td> <td>    5.653</td> <td> 0.000</td> <td>    0.152</td> <td>    0.313</td>\n",
       "</tr>\n",
       "<tr>\n",
       "  <th>employment_type_last_year</th>          <td>    0.2227</td> <td>    0.016</td> <td>   13.830</td> <td> 0.000</td> <td>    0.191</td> <td>    0.254</td>\n",
       "</tr>\n",
       "<tr>\n",
       "  <th>income_government_last_year</th>        <td>   -0.3113</td> <td>    0.088</td> <td>   -3.540</td> <td> 0.000</td> <td>   -0.484</td> <td>   -0.139</td>\n",
       "</tr>\n",
       "<tr>\n",
       "  <th>income_own_business_last_year</th>      <td>    0.1581</td> <td>    0.053</td> <td>    3.010</td> <td> 0.003</td> <td>    0.055</td> <td>    0.261</td>\n",
       "</tr>\n",
       "<tr>\n",
       "  <th>num_times_borrowed_last_year</th>       <td>    0.1577</td> <td>    0.022</td> <td>    7.020</td> <td> 0.000</td> <td>    0.114</td> <td>    0.202</td>\n",
       "</tr>\n",
       "<tr>\n",
       "  <th>active_bank_user</th>                   <td>   -1.5527</td> <td>    0.056</td> <td>  -27.645</td> <td> 0.000</td> <td>   -1.663</td> <td>   -1.443</td>\n",
       "</tr>\n",
       "<tr>\n",
       "  <th>cash_property_savings</th>              <td>    0.2394</td> <td>    0.042</td> <td>    5.716</td> <td> 0.000</td> <td>    0.157</td> <td>    0.321</td>\n",
       "</tr>\n",
       "<tr>\n",
       "  <th>has_insurance</th>                      <td>    0.5616</td> <td>    0.064</td> <td>    8.719</td> <td> 0.000</td> <td>    0.435</td> <td>    0.688</td>\n",
       "</tr>\n",
       "<tr>\n",
       "  <th>can_call</th>                           <td>    0.2302</td> <td>    0.054</td> <td>    4.272</td> <td> 0.000</td> <td>    0.125</td> <td>    0.336</td>\n",
       "</tr>\n",
       "<tr>\n",
       "  <th>can_make_transaction</th>               <td>    0.8486</td> <td>    0.054</td> <td>   15.604</td> <td> 0.000</td> <td>    0.742</td> <td>    0.955</td>\n",
       "</tr>\n",
       "<tr>\n",
       "  <th>phone_ownership</th>                    <td>   -0.1245</td> <td>    0.030</td> <td>   -4.114</td> <td> 0.000</td> <td>   -0.184</td> <td>   -0.065</td>\n",
       "</tr>\n",
       "<tr>\n",
       "  <th>has_investment</th>                     <td>   -0.4381</td> <td>    0.054</td> <td>   -8.170</td> <td> 0.000</td> <td>   -0.543</td> <td>   -0.333</td>\n",
       "</tr>\n",
       "<tr>\n",
       "  <th>num_financial_activities_last_year</th> <td>    0.3106</td> <td>    0.014</td> <td>   22.599</td> <td> 0.000</td> <td>    0.284</td> <td>    0.338</td>\n",
       "</tr>\n",
       "<tr>\n",
       "  <th>literacy</th>                           <td>    0.3191</td> <td>    0.047</td> <td>    6.766</td> <td> 0.000</td> <td>    0.227</td> <td>    0.412</td>\n",
       "</tr>\n",
       "</table>\n",
       "<table class=\"simpletable\">\n",
       "<tr>\n",
       "  <th>Omnibus:</th>       <td>19.311</td> <th>  Durbin-Watson:     </th> <td>   1.993</td>\n",
       "</tr>\n",
       "<tr>\n",
       "  <th>Prob(Omnibus):</th> <td> 0.000</td> <th>  Jarque-Bera (JB):  </th> <td>  15.706</td>\n",
       "</tr>\n",
       "<tr>\n",
       "  <th>Skew:</th>          <td> 0.036</td> <th>  Prob(JB):          </th> <td>0.000388</td>\n",
       "</tr>\n",
       "<tr>\n",
       "  <th>Kurtosis:</th>      <td> 2.775</td> <th>  Cond. No.          </th> <td>    203.</td>\n",
       "</tr>\n",
       "</table><br/><br/>Notes:<br/>[1] Standard Errors assume that the covariance matrix of the errors is correctly specified."
      ],
      "text/plain": [
       "<class 'statsmodels.iolib.summary.Summary'>\n",
       "\"\"\"\n",
       "                            OLS Regression Results                            \n",
       "==============================================================================\n",
       "Dep. Variable:                country   R-squared:                       0.347\n",
       "Model:                            OLS   Adj. R-squared:                  0.345\n",
       "Method:                 Least Squares   F-statistic:                     187.1\n",
       "Date:                Sun, 12 Dec 2021   Prob (F-statistic):               0.00\n",
       "Time:                        10:07:55   Log-Likelihood:                -12774.\n",
       "No. Observations:                6720   AIC:                         2.559e+04\n",
       "Df Residuals:                    6700   BIC:                         2.572e+04\n",
       "Df Model:                          19                                         \n",
       "Covariance Type:            nonrobust                                         \n",
       "======================================================================================================\n",
       "                                         coef    std err          t      P>|t|      [0.025      0.975]\n",
       "------------------------------------------------------------------------------------------------------\n",
       "const                                  1.5129      0.096     15.743      0.000       1.325       1.701\n",
       "is_urban                              -0.2769      0.044     -6.284      0.000      -0.363      -0.191\n",
       "age                                    0.0127      0.001      8.891      0.000       0.010       0.015\n",
       "female                                 0.4185      0.041     10.087      0.000       0.337       0.500\n",
       "married                               -0.4497      0.044    -10.332      0.000      -0.535      -0.364\n",
       "religion                              -0.1155      0.028     -4.192      0.000      -0.170      -0.061\n",
       "can_calc_percents                      0.2325      0.041      5.653      0.000       0.152       0.313\n",
       "employment_type_last_year              0.2227      0.016     13.830      0.000       0.191       0.254\n",
       "income_government_last_year           -0.3113      0.088     -3.540      0.000      -0.484      -0.139\n",
       "income_own_business_last_year          0.1581      0.053      3.010      0.003       0.055       0.261\n",
       "num_times_borrowed_last_year           0.1577      0.022      7.020      0.000       0.114       0.202\n",
       "active_bank_user                      -1.5527      0.056    -27.645      0.000      -1.663      -1.443\n",
       "cash_property_savings                  0.2394      0.042      5.716      0.000       0.157       0.321\n",
       "has_insurance                          0.5616      0.064      8.719      0.000       0.435       0.688\n",
       "can_call                               0.2302      0.054      4.272      0.000       0.125       0.336\n",
       "can_make_transaction                   0.8486      0.054     15.604      0.000       0.742       0.955\n",
       "phone_ownership                       -0.1245      0.030     -4.114      0.000      -0.184      -0.065\n",
       "has_investment                        -0.4381      0.054     -8.170      0.000      -0.543      -0.333\n",
       "num_financial_activities_last_year     0.3106      0.014     22.599      0.000       0.284       0.338\n",
       "literacy                               0.3191      0.047      6.766      0.000       0.227       0.412\n",
       "==============================================================================\n",
       "Omnibus:                       19.311   Durbin-Watson:                   1.993\n",
       "Prob(Omnibus):                  0.000   Jarque-Bera (JB):               15.706\n",
       "Skew:                           0.036   Prob(JB):                     0.000388\n",
       "Kurtosis:                       2.775   Cond. No.                         203.\n",
       "==============================================================================\n",
       "\n",
       "Notes:\n",
       "[1] Standard Errors assume that the covariance matrix of the errors is correctly specified.\n",
       "\"\"\""
      ]
     },
     "execution_count": 13,
     "metadata": {},
     "output_type": "execute_result"
    }
   ],
   "source": [
    "# Checking p-values\n",
    "import statsmodels.api as sm\n",
    "X1 = sm.add_constant(X_train)\n",
    "mr1 = sm.OLS(y_train.astype(float), X1.astype(float)).fit()\n",
    "#mr1.pvalues\n",
    "mr1.summary()"
   ]
  },
  {
   "cell_type": "markdown",
   "id": "6466b716",
   "metadata": {},
   "source": [
    "# Recursive feature elimination"
   ]
  },
  {
   "cell_type": "code",
   "execution_count": 14,
   "id": "9ee73ab7",
   "metadata": {},
   "outputs": [],
   "source": [
    "# Feature ranking with recursive feature elimination\n",
    "from sklearn.feature_selection import RFE\n",
    "n_features = X.shape[1]\n",
    "estimator = LinearRegression()\n",
    "selector = RFE(estimator,  n_features_to_select = 19)\n",
    "selector = selector.fit(X, y)\n",
    "\n",
    "# Selected Features\n",
    "selected_columns=[]\n",
    "for i in range(n_features):\n",
    "    if selector.support_[i] == True:\n",
    "        selected_columns.append(i)\n",
    "        \n",
    "f_lm = []\n",
    "for column in selected_columns:\n",
    "    f_lm.append(X.columns[column])"
   ]
  },
  {
   "cell_type": "markdown",
   "id": "0051f612",
   "metadata": {},
   "source": [
    "* По значимости P-value отобраны переменные для включения в модель (19) и продолжаем работу с множественной регрссиией на наиболее значимых переменных."
   ]
  },
  {
   "cell_type": "code",
   "execution_count": 15,
   "id": "cf58ca09",
   "metadata": {},
   "outputs": [
    {
     "data": {
      "text/plain": [
       "(array([-0.27690231,  0.01269069,  0.41849439, -0.44967449, -0.11549442,\n",
       "         0.23248598,  0.22270133, -0.31132759,  0.15814103,  0.15766678,\n",
       "        -1.55265049,  0.23935553,  0.5616361 ,  0.23019463,  0.84856529,\n",
       "        -0.12445584, -0.43805063,  0.31059405,  0.3191116 ]),\n",
       " 1.5129272282057433)"
      ]
     },
     "execution_count": 15,
     "metadata": {},
     "output_type": "execute_result"
    }
   ],
   "source": [
    "# Fitting Optimized Multiple Regression\n",
    "mr_rfe = LinearRegression().fit(X_train[f_lm], y_train)\n",
    "\n",
    "# Getting parameters\n",
    "mr_rfe.coef_, mr_rfe.intercept_"
   ]
  },
  {
   "cell_type": "code",
   "execution_count": 16,
   "id": "9de8ad60",
   "metadata": {},
   "outputs": [
    {
     "data": {
      "text/plain": [
       "0.347"
      ]
     },
     "execution_count": 16,
     "metadata": {},
     "output_type": "execute_result"
    }
   ],
   "source": [
    "\n",
    "# Predicting the Test set results\n",
    "y_pred = mr_rfe.predict(X_test[f_lm])\n",
    "\n",
    "# Coefficient of determination R^2\n",
    "mr_rfe.score(X_train[f_lm], y_train).round(3)"
   ]
  },
  {
   "cell_type": "code",
   "execution_count": 17,
   "id": "6b14a28c",
   "metadata": {},
   "outputs": [
    {
     "data": {
      "text/plain": [
       "(1.62, 1.6)"
      ]
     },
     "execution_count": 17,
     "metadata": {},
     "output_type": "execute_result"
    }
   ],
   "source": [
    "# Mean squared error\n",
    "mse2 = mean_squared_error(y_train, mr_rfe.predict(X_train[f_lm]), squared=False).round(2), mean_squared_error(y_test, y_pred, squared=False).round(2)\n",
    "mse2"
   ]
  },
  {
   "cell_type": "code",
   "execution_count": 18,
   "id": "98f8c93b",
   "metadata": {},
   "outputs": [],
   "source": [
    "# Feature ranking with recursive feature elimination\n",
    "from sklearn.feature_selection import RFE\n",
    "n_features = X.shape[1]\n",
    "estimator = LinearRegression()\n",
    "selector = RFE(estimator, n_features_to_select = 18)\n",
    "selector = selector.fit(X, y)\n",
    "\n",
    "# Selected Features\n",
    "selected_columns=[]\n",
    "for i in range(n_features):\n",
    "    if selector.support_[i] == True:\n",
    "        selected_columns.append(i)\n",
    "        \n",
    "f_lm1 = []\n",
    "for column in selected_columns:\n",
    "    f_lm1.append(X.columns[column])"
   ]
  },
  {
   "cell_type": "code",
   "execution_count": 19,
   "id": "4443fcfd",
   "metadata": {},
   "outputs": [
    {
     "data": {
      "text/plain": [
       "(array([-0.26720043,  0.38895425, -0.37445346, -0.11084521,  0.22312761,\n",
       "         0.23365159, -0.2351416 ,  0.1710363 ,  0.15745681, -1.5223281 ,\n",
       "         0.23921686,  0.60261968,  0.14574321,  0.81317806, -0.11575941,\n",
       "        -0.43071084,  0.31172136,  0.24549542]),\n",
       " 2.003442983034947)"
      ]
     },
     "execution_count": 19,
     "metadata": {},
     "output_type": "execute_result"
    }
   ],
   "source": [
    "# Fitting Optimized Multiple Regression\n",
    "mr_rfe1 = LinearRegression().fit(X_train[f_lm1], y_train)\n",
    "\n",
    "# Getting parameters\n",
    "mr_rfe1.coef_, mr_rfe1.intercept_"
   ]
  },
  {
   "cell_type": "code",
   "execution_count": 20,
   "id": "498d9f84",
   "metadata": {},
   "outputs": [
    {
     "data": {
      "text/plain": [
       "0.339"
      ]
     },
     "execution_count": 20,
     "metadata": {},
     "output_type": "execute_result"
    }
   ],
   "source": [
    "\n",
    "# Predicting the Test set results\n",
    "y_pred = mr_rfe1.predict(X_test[f_lm1])\n",
    "\n",
    "# Coefficient of determination R^2\n",
    "mr_rfe1.score(X_train[f_lm1], y_train).round(3)"
   ]
  },
  {
   "cell_type": "code",
   "execution_count": 21,
   "id": "1eba10cd",
   "metadata": {},
   "outputs": [
    {
     "data": {
      "text/plain": [
       "(1.63, 1.62)"
      ]
     },
     "execution_count": 21,
     "metadata": {},
     "output_type": "execute_result"
    }
   ],
   "source": [
    "# Mean squared error\n",
    "mse3 = mean_squared_error(y_train, mr_rfe1.predict(X_train[f_lm1]), squared=False).round(2), mean_squared_error(y_test, y_pred, squared=False).round(2)\n",
    "mse3"
   ]
  },
  {
   "cell_type": "markdown",
   "id": "f3384525",
   "metadata": {},
   "source": [
    "* По сравнению с простой линейной регрессией - данная модель имеет лучшие показатели. Значение R^2 на всех переменных и на наиболее значимых практически не отличается, а значение MSE уменьшилось и переобучения модели не произошло."
   ]
  },
  {
   "cell_type": "code",
   "execution_count": 22,
   "id": "ec1fda17",
   "metadata": {},
   "outputs": [
    {
     "name": "stderr",
     "output_type": "stream",
     "text": [
      "D:\\Python_Anaconda\\envs\\LAB\\lib\\site-packages\\statsmodels\\tsa\\tsatools.py:142: FutureWarning: In a future version of pandas all arguments of concat except for the argument 'objs' will be keyword-only\n",
      "  x = pd.concat(x[::order], 1)\n"
     ]
    }
   ],
   "source": [
    "\n",
    "# Backward Elimination with p-values\n",
    "def backwardElimination(x, y, sl):\n",
    "    x = sm.add_constant(x)\n",
    "    numVars = x.shape[1]\n",
    "    for i in range(0, numVars):\n",
    "        regressor_OLS = sm.OLS(y.astype(float), x.astype(float)).fit()\n",
    "        maxVar = max(regressor_OLS.pvalues)\n",
    "        if maxVar > sl:\n",
    "            for j in range(0, numVars - i):\n",
    "                if (regressor_OLS.pvalues[j] == maxVar):\n",
    "                    x = x.drop(x.columns[j], axis=1)\n",
    "    regressor_OLS.summary()\n",
    "    return x\n",
    "\n",
    "SL = 0.01\n",
    "X_Modeled = backwardElimination(X_train, y_train, SL)"
   ]
  },
  {
   "cell_type": "markdown",
   "id": "d5e01883",
   "metadata": {},
   "source": [
    "* Отбор соответсвующих значимых переменных по критерию порогового значения (SL). Данный метод удобен для большого числа переменных, когда сложно посчитать сколько именно по критерию p-value значимых предикторов. Таким образом подобрано наиболее оптимальное пороговое значение (0.01)."
   ]
  },
  {
   "cell_type": "code",
   "execution_count": 23,
   "id": "b3483e73",
   "metadata": {},
   "outputs": [
    {
     "data": {
      "text/plain": [
       "0.347"
      ]
     },
     "execution_count": 23,
     "metadata": {},
     "output_type": "execute_result"
    }
   ],
   "source": [
    "# Fitting Optimized Multiple Regression\n",
    "mr_be = LinearRegression().fit(X_Modeled, y_train)\n",
    "\n",
    "# Coefficient of determination R^2\n",
    "mr_be.score(X_Modeled, y_train).round(3)"
   ]
  },
  {
   "cell_type": "markdown",
   "id": "dc8b3a52",
   "metadata": {},
   "source": [
    "* Значение R^2 не изменилось по сравнению с моделью множественной регрессии (построенной на всех переменных)."
   ]
  },
  {
   "cell_type": "markdown",
   "id": "1a145678",
   "metadata": {},
   "source": [
    "# Polynomial Regression"
   ]
  },
  {
   "cell_type": "code",
   "execution_count": 24,
   "id": "2318dfc8",
   "metadata": {},
   "outputs": [
    {
     "data": {
      "text/plain": [
       "(array([ 6.33842353e+03,  3.88991453e-02, -5.83153388e+08,  3.45949756e+08,\n",
       "         9.98318801e-01,  3.29271065e+08, -1.14203687e-02,  2.38565426e+08,\n",
       "        -3.26902220e+08,  6.36140289e-02,  1.70656335e+07,  1.36819979e+06,\n",
       "        -4.54992546e+07,  2.42276281e+07, -1.61384248e+08,  3.80849657e-01,\n",
       "         6.71798412e+08,  4.60123259e-01,  2.27273298e+08, -6.33840946e+03,\n",
       "        -1.41961108e-03, -1.56210676e-01,  1.63598414e-01, -2.30504163e-02,\n",
       "         5.07282262e-02,  4.64350468e-03, -1.33511247e-01, -2.32843841e-01,\n",
       "         9.12280067e-02, -2.48982314e-01, -6.21360190e-02, -1.39120366e-01,\n",
       "        -1.24223103e-01,  1.59610800e-01, -4.10923064e-02,  9.77509478e-02,\n",
       "         2.90461592e-02, -1.04255423e-01, -8.46385956e-05, -6.12810254e-03,\n",
       "        -1.34897977e-02, -1.74693167e-02, -2.20298767e-03,  1.40985847e-03,\n",
       "         1.03342533e-03,  4.11975384e-03,  5.43683767e-04,  2.63541937e-03,\n",
       "        -4.69029695e-03,  7.01060891e-03, -7.17365742e-03, -2.26536393e-03,\n",
       "         4.24221158e-03,  1.89352781e-04, -1.21742487e-04, -1.63912773e-05,\n",
       "         5.83153388e+08,  1.96769545e-02, -1.70811397e-01, -8.87013255e-02,\n",
       "         1.12173937e-01, -2.90433448e-02,  1.75536145e-01, -8.62714965e-02,\n",
       "         3.09361378e-02, -1.19787439e-01,  3.76328188e-02, -3.42599116e-02,\n",
       "         1.06213356e-01, -3.09477039e-02,  6.23551756e-03, -4.68801707e-03,\n",
       "         1.25095785e-01, -3.45949757e+08,  2.19033008e-01, -5.51116932e-02,\n",
       "         9.36491778e-02, -3.22221803e-01, -3.54740221e-01, -7.14110546e-02,\n",
       "         4.06154769e-01,  7.14669973e-02, -4.06319935e-01,  4.08431045e-02,\n",
       "        -5.88204144e-02,  2.16330720e-01,  2.41730949e-02, -4.00498509e-03,\n",
       "        -7.93919247e-02, -1.91879254e-01,  5.17189354e-02,  6.40205881e-02,\n",
       "         1.05512884e-01,  2.00401250e-01,  1.17234752e-01,  1.10153202e-02,\n",
       "         3.18787670e-01, -3.32757932e-01, -1.88613985e-01,  2.41943626e-01,\n",
       "        -1.41908348e-01,  2.98149965e-01, -3.96143049e-02, -2.84086976e-01,\n",
       "        -3.29271064e+08, -6.83726892e-02,  1.14735618e-01, -1.61515396e-01,\n",
       "         6.04837276e-02,  2.37095227e-01, -1.28442010e-01, -2.26929762e-01,\n",
       "        -2.97562610e-01,  1.25448784e-01,  5.68228588e-03,  2.83306619e-01,\n",
       "        -1.69620514e-02, -1.85852081e-01,  1.07139349e-03,  1.41954448e-01,\n",
       "         9.12706554e-03, -4.48460672e-02, -1.42696850e-01,  2.32232241e-02,\n",
       "         5.68093471e-02,  5.73600419e-02, -3.97041813e-03, -3.29001136e-02,\n",
       "         1.00573044e-01, -1.55020952e-02,  7.06012771e-02, -2.38565426e+08,\n",
       "        -1.38405276e-01,  9.34103299e-02, -8.37223744e-03,  3.50769463e-01,\n",
       "        -8.44361403e-02,  2.94995287e-01,  6.67009100e-02, -1.56709401e-01,\n",
       "         4.20576064e-02, -3.24982945e-02,  1.30784536e-01,  3.26902220e+08,\n",
       "        -2.48723701e-02, -1.86207388e-01,  1.72670639e-01,  8.74015503e-03,\n",
       "         9.03205033e-02,  1.55536641e-01,  1.43171139e-02, -3.68696587e-01,\n",
       "         4.06657383e-02,  3.66437079e-01,  2.45837867e-02,  1.11308132e-01,\n",
       "         5.77933155e-02,  3.11704725e-03,  3.27046327e-02, -1.31793577e-01,\n",
       "        -1.34192333e-02, -7.74708427e-02, -1.34719610e-02,  9.94106196e-02,\n",
       "        -1.70656354e+07, -1.96512396e-01,  4.06818710e-01,  2.04697713e-01,\n",
       "         1.50960321e-02, -3.80703462e-02, -1.30637267e-01,  7.81673081e-02,\n",
       "        -8.75669606e-02, -1.36819947e+06,  6.77039525e-02, -2.11881925e-01,\n",
       "        -1.62132873e-01, -9.87771153e-03, -5.48590170e-02, -1.94691867e-02,\n",
       "         1.14817504e-01,  4.54992556e+07,  1.68414827e-01, -1.47290125e-01,\n",
       "        -1.64983969e-01,  6.41802419e-02, -1.67206246e-02,  3.52972914e-02,\n",
       "        -2.42276273e+07,  7.44183527e-01, -2.46673474e-01,  5.52661098e-02,\n",
       "        -4.21942286e-02,  1.97268818e-02,  1.61384248e+08, -1.30491527e-01,\n",
       "         2.57704062e-01,  4.48519140e-02, -9.00843553e-02, -2.63653904e-01,\n",
       "         1.32456491e-01,  1.06146067e-01,  6.08618557e-02, -6.71798413e+08,\n",
       "         5.47094643e-03,  2.75702290e-02, -4.18442786e-02, -5.51691055e-02,\n",
       "        -2.27273298e+08]),\n",
       " 0.9400941814473343)"
      ]
     },
     "execution_count": 24,
     "metadata": {},
     "output_type": "execute_result"
    }
   ],
   "source": [
    "\n",
    "# Fitting Polynomial Regression to the dataset\n",
    "from sklearn.preprocessing import PolynomialFeatures\n",
    "X_train_p = PolynomialFeatures().fit_transform(X_train)\n",
    "X_test_p = PolynomialFeatures().fit_transform(X_test)\n",
    "\n",
    "pr = LinearRegression().fit(X_train_p[:,1:], y_train)\n",
    "\n",
    "# Getting parameters\n",
    "pr.coef_, pr.intercept_"
   ]
  },
  {
   "cell_type": "markdown",
   "id": "629ab182",
   "metadata": {},
   "source": [
    "*Построена модель полиномиальной регрессии. Следует отметить, что в нулевую степень переменные не были возведены (столбец единиц был исключен для большего качества)."
   ]
  },
  {
   "cell_type": "code",
   "execution_count": 25,
   "id": "a1f8eb68",
   "metadata": {},
   "outputs": [
    {
     "data": {
      "text/plain": [
       "0.429"
      ]
     },
     "execution_count": 25,
     "metadata": {},
     "output_type": "execute_result"
    }
   ],
   "source": [
    "\n",
    "# Predicting the Test set results\n",
    "y_pred = pr.predict(X_test_p[:,1:])\n",
    "\n",
    "# Coefficient of determination R^2\n",
    "pr.score(X_train_p[:,1:], y_train).round(3)"
   ]
  },
  {
   "cell_type": "code",
   "execution_count": 26,
   "id": "21d0ee56",
   "metadata": {},
   "outputs": [
    {
     "data": {
      "text/plain": [
       "(1.51, 1.55)"
      ]
     },
     "execution_count": 26,
     "metadata": {},
     "output_type": "execute_result"
    }
   ],
   "source": [
    "# Mean squared error\n",
    "mse4 = mean_squared_error(y_train, pr.predict(X_train_p[:,1:]), squared=False).round(2), mean_squared_error(y_test, y_pred, squared=False).round(2)\n",
    "mse4"
   ]
  },
  {
   "cell_type": "markdown",
   "id": "42bcafbe",
   "metadata": {},
   "source": [
    "Значение R^2 вышло на максимальный уровень, что указывает на улучшение качества модели. Значение MSE на тестовой выборке несколько больше, чем на обучающей, однако в целом они сопастовимы. Таким образом, данная процедура дает нам наилучшую модель из полученных нами."
   ]
  },
  {
   "cell_type": "markdown",
   "id": "c5031452",
   "metadata": {},
   "source": [
    "# RESULTS"
   ]
  },
  {
   "cell_type": "markdown",
   "id": "ed036f9b",
   "metadata": {},
   "source": [
    "# ! ЛИНЕЙНАЯ РЕГРЕССИЯ !"
   ]
  },
  {
   "cell_type": "code",
   "execution_count": 28,
   "id": "9154e5c3",
   "metadata": {},
   "outputs": [
    {
     "data": {
      "text/plain": [
       "0.12"
      ]
     },
     "execution_count": 28,
     "metadata": {},
     "output_type": "execute_result"
    }
   ],
   "source": [
    "# Predicting the Test set results\n",
    "y_pred = sr.predict(X_test[f1])\n",
    "\n",
    "# Coefficient of determination R^2\n",
    "sr.score(X_train[f1], y_train).round(3)"
   ]
  },
  {
   "cell_type": "code",
   "execution_count": 29,
   "id": "83f7067d",
   "metadata": {},
   "outputs": [
    {
     "data": {
      "text/plain": [
       "(1.88, 1.85)"
      ]
     },
     "execution_count": 29,
     "metadata": {},
     "output_type": "execute_result"
    }
   ],
   "source": [
    "mse1"
   ]
  },
  {
   "cell_type": "markdown",
   "id": "7a881272",
   "metadata": {},
   "source": [
    "# ! МНОЖЕСТВЕННАЯ РЕГРЕССИЯ !"
   ]
  },
  {
   "cell_type": "code",
   "execution_count": 31,
   "id": "8c055370",
   "metadata": {},
   "outputs": [
    {
     "data": {
      "text/plain": [
       "0.347"
      ]
     },
     "execution_count": 31,
     "metadata": {},
     "output_type": "execute_result"
    }
   ],
   "source": [
    "# Predicting the Test set results\n",
    "y_pred = sr.predict(X_test[f_all])\n",
    "\n",
    "# Coefficient of determination R^2\n",
    "sr.score(X_train[f_all], y_train).round(3)"
   ]
  },
  {
   "cell_type": "code",
   "execution_count": 32,
   "id": "e05577a0",
   "metadata": {},
   "outputs": [
    {
     "data": {
      "text/plain": [
       "(1.62, 1.6)"
      ]
     },
     "execution_count": 32,
     "metadata": {},
     "output_type": "execute_result"
    }
   ],
   "source": [
    "mse_all"
   ]
  },
  {
   "cell_type": "markdown",
   "id": "15de2f93",
   "metadata": {},
   "source": [
    "# ! 19 переменных !"
   ]
  },
  {
   "cell_type": "code",
   "execution_count": 33,
   "id": "dcb0cb72",
   "metadata": {},
   "outputs": [
    {
     "data": {
      "text/plain": [
       "0.347"
      ]
     },
     "execution_count": 33,
     "metadata": {},
     "output_type": "execute_result"
    }
   ],
   "source": [
    "mr_rfe.score(X_train[f_lm], y_train).round(3)"
   ]
  },
  {
   "cell_type": "code",
   "execution_count": 34,
   "id": "ac5f39b6",
   "metadata": {},
   "outputs": [
    {
     "data": {
      "text/plain": [
       "(1.62, 1.6)"
      ]
     },
     "execution_count": 34,
     "metadata": {},
     "output_type": "execute_result"
    }
   ],
   "source": [
    "mse2"
   ]
  },
  {
   "cell_type": "markdown",
   "id": "39101c29",
   "metadata": {},
   "source": [
    "# ! 18 переменных !"
   ]
  },
  {
   "cell_type": "code",
   "execution_count": 35,
   "id": "f82e5640",
   "metadata": {},
   "outputs": [
    {
     "data": {
      "text/plain": [
       "0.339"
      ]
     },
     "execution_count": 35,
     "metadata": {},
     "output_type": "execute_result"
    }
   ],
   "source": [
    "mr_rfe1.score(X_train[f_lm1], y_train).round(3)\n",
    "#20 переменных - множественная регрессия"
   ]
  },
  {
   "cell_type": "code",
   "execution_count": 36,
   "id": "a5d48a8a",
   "metadata": {},
   "outputs": [
    {
     "data": {
      "text/plain": [
       "(1.63, 1.62)"
      ]
     },
     "execution_count": 36,
     "metadata": {},
     "output_type": "execute_result"
    }
   ],
   "source": [
    "mse3"
   ]
  },
  {
   "cell_type": "markdown",
   "id": "cbcd7bd6",
   "metadata": {},
   "source": [
    "# ОТБОР P-VALUES"
   ]
  },
  {
   "cell_type": "code",
   "execution_count": 37,
   "id": "0cdde701",
   "metadata": {},
   "outputs": [
    {
     "data": {
      "text/plain": [
       "0.347"
      ]
     },
     "execution_count": 37,
     "metadata": {},
     "output_type": "execute_result"
    }
   ],
   "source": [
    "mr_be.score(X_Modeled, y_train).round(3)\n",
    "#на основе отбора p-values"
   ]
  },
  {
   "cell_type": "markdown",
   "id": "3155fcc8",
   "metadata": {},
   "source": [
    "# ПОЛИНОМИАЛЬНАЯ РЕГРЕССИЯ"
   ]
  },
  {
   "cell_type": "code",
   "execution_count": 38,
   "id": "b18af9e4",
   "metadata": {},
   "outputs": [
    {
     "data": {
      "text/plain": [
       "0.429"
      ]
     },
     "execution_count": 38,
     "metadata": {},
     "output_type": "execute_result"
    }
   ],
   "source": [
    "pr.score(X_train_p[:,1:], y_train).round(3)\n",
    "#Полиномиальная регрессия"
   ]
  },
  {
   "cell_type": "code",
   "execution_count": 39,
   "id": "aa67ed8f",
   "metadata": {},
   "outputs": [
    {
     "data": {
      "text/plain": [
       "(1.51, 1.55)"
      ]
     },
     "execution_count": 39,
     "metadata": {},
     "output_type": "execute_result"
    }
   ],
   "source": [
    "mse4"
   ]
  },
  {
   "cell_type": "markdown",
   "id": "4718e4c1",
   "metadata": {},
   "source": [
    " ВЫВОД: несмотря, на добавленные в модель переменные - значительного улучшения по качеству не наблюдалось. Модель была построена, как на всех переменных, так и на исключенных по корреляционной таблице. Значение R^2 при этом на том же уровне, поэтому нет смысла оставлять коррелирующие переменные. Исходя из всех методов- полиномиальная регрессия справилась наилучшим образом. Однако модель описана не на высоком уровне и качество желает оставлять лучшего. Поэтому делаем вывод, что тех исходных данных, которые были выбраны для модели с возможностью дальнейшей интерпретации и возможного корректного описаниян - их недостаточно. Далее следует попробовать методы нелинейной регресси и сделать окончательный вывод. \n",
    "Так же следует заметить, что отталкиваясь от значения p-value - можно сказать, что все переменные значимы. Значит делаем вывод, что для работы были корректно отобраны предикторы, которые наилучшим образом влияют на модель. Однако чтобы добиться максимального результата в дальнейшей работе исключим income_own_business_last_year, поскольку значимость несколько хуже, среди остальных переменных."
   ]
  },
  {
   "cell_type": "markdown",
   "id": "0925d96c",
   "metadata": {},
   "source": [
    "# Pickle"
   ]
  },
  {
   "cell_type": "code",
   "execution_count": 40,
   "id": "54b62208",
   "metadata": {},
   "outputs": [],
   "source": [
    "import pickle\n",
    "obj = {'X_train': X_train, 'X_test': X_test,'y_train': y_train,'y_test': y_test}\n",
    "output = open('data_reg.pkl', 'wb')\n",
    "pickle.dump(obj, output, 2)\n",
    "output.close()"
   ]
  },
  {
   "cell_type": "markdown",
   "id": "18567cc5",
   "metadata": {},
   "source": [
    "\"консервация\" полученных данных для дальнейшего их использования"
   ]
  }
 ],
 "metadata": {
  "kernelspec": {
   "display_name": "Python 3 (ipykernel)",
   "language": "python",
   "name": "python3"
  },
  "language_info": {
   "codemirror_mode": {
    "name": "ipython",
    "version": 3
   },
   "file_extension": ".py",
   "mimetype": "text/x-python",
   "name": "python",
   "nbconvert_exporter": "python",
   "pygments_lexer": "ipython3",
   "version": "3.8.11"
  }
 },
 "nbformat": 4,
 "nbformat_minor": 5
}
