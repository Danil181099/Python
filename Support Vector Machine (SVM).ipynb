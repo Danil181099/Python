{
 "cells": [
  {
   "cell_type": "markdown",
   "id": "d8fe267b",
   "metadata": {},
   "source": [
    "# Support Vector Machine (SVM)"
   ]
  },
  {
   "cell_type": "code",
   "execution_count": 1,
   "id": "1d28e258",
   "metadata": {},
   "outputs": [],
   "source": [
    "\n",
    "# Importing the libraries\n",
    "import numpy as np\n",
    "import matplotlib.pyplot as plt\n",
    "import pandas as pd"
   ]
  },
  {
   "cell_type": "code",
   "execution_count": 2,
   "id": "dc9bbbf2",
   "metadata": {},
   "outputs": [],
   "source": [
    "# Importing prepared dataset\n",
    "import pickle\n",
    "input = open('data_LogRegr.pkl', 'rb')\n",
    "obj = pickle.load(input)\n",
    "input.close()\n",
    "X_train = obj[\"X_train\"]\n",
    "X_test = obj[\"X_test\"]\n",
    "y_train = obj[\"y_train\"]\n",
    "y_test = obj[\"y_test\"]"
   ]
  },
  {
   "cell_type": "code",
   "execution_count": 3,
   "id": "6a163976",
   "metadata": {},
   "outputs": [],
   "source": [
    "\n",
    "# Fitting SVM to the Training set \n",
    "from sklearn.svm import SVC\n",
    "svm = SVC(kernel = 'rbf', random_state = 10).fit(X_train, y_train)"
   ]
  },
  {
   "cell_type": "code",
   "execution_count": 4,
   "id": "ab4ac025",
   "metadata": {},
   "outputs": [
    {
     "data": {
      "text/plain": [
       "0.8416666666666667"
      ]
     },
     "execution_count": 4,
     "metadata": {},
     "output_type": "execute_result"
    }
   ],
   "source": [
    "\n",
    "# Predicting the Test set results\n",
    "y_pred = svm.predict(X_test)\n",
    "svm.score(X_test,y_test)"
   ]
  },
  {
   "cell_type": "code",
   "execution_count": 5,
   "id": "690d6ba3",
   "metadata": {},
   "outputs": [
    {
     "name": "stdout",
     "output_type": "stream",
     "text": [
      "[[1076  116]\n",
      " [ 150  338]]\n"
     ]
    }
   ],
   "source": [
    "# Making the Confusion Matrix\n",
    "from sklearn.metrics import confusion_matrix\n",
    "cm = confusion_matrix(y_test, y_pred)\n",
    "print(cm)"
   ]
  },
  {
   "cell_type": "markdown",
   "id": "d274cdad",
   "metadata": {},
   "source": [
    "Распознано неверно 266 обьектов (при радиальном ядре)"
   ]
  },
  {
   "cell_type": "code",
   "execution_count": 6,
   "id": "a4a83bec",
   "metadata": {},
   "outputs": [],
   "source": [
    "# Fitting SVM to the Training set\n",
    "from sklearn.svm import SVC\n",
    "svm2 = SVC(kernel = 'sigmoid', random_state = 10).fit(X_train, y_train)"
   ]
  },
  {
   "cell_type": "code",
   "execution_count": 7,
   "id": "e286e281",
   "metadata": {},
   "outputs": [
    {
     "data": {
      "text/plain": [
       "0.7964285714285714"
      ]
     },
     "execution_count": 7,
     "metadata": {},
     "output_type": "execute_result"
    }
   ],
   "source": [
    "# Predicting the Test set results\n",
    "y_pred = svm2.predict(X_test)\n",
    "svm2.score(X_test,y_test)"
   ]
  },
  {
   "cell_type": "code",
   "execution_count": 8,
   "id": "d2210d66",
   "metadata": {},
   "outputs": [
    {
     "name": "stdout",
     "output_type": "stream",
     "text": [
      "[[1019  173]\n",
      " [ 169  319]]\n"
     ]
    }
   ],
   "source": [
    "# Making the Confusion Matrix\n",
    "from sklearn.metrics import confusion_matrix\n",
    "cm2 = confusion_matrix(y_test, y_pred)\n",
    "print(cm2)"
   ]
  },
  {
   "cell_type": "markdown",
   "id": "ae551555",
   "metadata": {},
   "source": [
    "Распознано неверно 342 обьектов (при сигмоидальном ядре)"
   ]
  },
  {
   "cell_type": "code",
   "execution_count": 9,
   "id": "34c5e794",
   "metadata": {},
   "outputs": [],
   "source": [
    "# Fitting SVM to the Training set \n",
    "from sklearn.svm import SVC\n",
    "svm3 = SVC(kernel = 'poly', random_state = 10).fit(X_train, y_train)"
   ]
  },
  {
   "cell_type": "code",
   "execution_count": 10,
   "id": "59ce6382",
   "metadata": {},
   "outputs": [
    {
     "data": {
      "text/plain": [
       "0.8422619047619048"
      ]
     },
     "execution_count": 10,
     "metadata": {},
     "output_type": "execute_result"
    }
   ],
   "source": [
    "# Predicting the Test set results\n",
    "y_pred = svm3.predict(X_test)\n",
    "svm3.score(X_test,y_test)"
   ]
  },
  {
   "cell_type": "code",
   "execution_count": 11,
   "id": "6c70922f",
   "metadata": {},
   "outputs": [
    {
     "name": "stdout",
     "output_type": "stream",
     "text": [
      "[[1106   86]\n",
      " [ 179  309]]\n"
     ]
    }
   ],
   "source": [
    "# Making the Confusion Matrix\n",
    "from sklearn.metrics import confusion_matrix\n",
    "cm3 = confusion_matrix(y_test, y_pred)\n",
    "print(cm3)"
   ]
  },
  {
   "cell_type": "markdown",
   "id": "d51411fb",
   "metadata": {},
   "source": [
    "Распознано неверно 265 обьектов (при полиномиальном ядре)"
   ]
  },
  {
   "cell_type": "code",
   "execution_count": 12,
   "id": "5edd19db",
   "metadata": {},
   "outputs": [],
   "source": [
    "# Fitting SVM to the Training set\n",
    "from sklearn.svm import SVC\n",
    "svm4 = SVC(kernel = 'linear', random_state = 10).fit(X_train, y_train)"
   ]
  },
  {
   "cell_type": "code",
   "execution_count": 13,
   "id": "9b736494",
   "metadata": {},
   "outputs": [
    {
     "data": {
      "text/plain": [
       "0.8505952380952381"
      ]
     },
     "execution_count": 13,
     "metadata": {},
     "output_type": "execute_result"
    }
   ],
   "source": [
    "# Predicting the Test set results\n",
    "y_pred = svm4.predict(X_test)\n",
    "svm4.score(X_test,y_test)"
   ]
  },
  {
   "cell_type": "code",
   "execution_count": 14,
   "id": "a2b9098f",
   "metadata": {},
   "outputs": [
    {
     "name": "stdout",
     "output_type": "stream",
     "text": [
      "[[1070  122]\n",
      " [ 129  359]]\n"
     ]
    }
   ],
   "source": [
    "# Making the Confusion Matrix\n",
    "from sklearn.metrics import confusion_matrix\n",
    "cm4 = confusion_matrix(y_test, y_pred)\n",
    "print(cm4)"
   ]
  },
  {
   "cell_type": "markdown",
   "id": "9ae9f6d3",
   "metadata": {},
   "source": [
    "Распознано неверно 251 обьект (линейное ядро). "
   ]
  },
  {
   "cell_type": "markdown",
   "id": "f7b8f39b",
   "metadata": {},
   "source": [
    "Для данной модели проведены эксперименты с ядрами. "
   ]
  },
  {
   "cell_type": "markdown",
   "id": "e563abbd",
   "metadata": {},
   "source": [
    "ВЫВОДЫ: обратим внимание на модель с полиномиальным ядром. Как мы видим, в ней верно распознано 1106 людей, которые проживают за чертой бедности (иневерно - 86). Получен лучше результат, чем в модели K-NN.Таким образом, на данном этапе отдаем предпочтение данной моделе."
   ]
  }
 ],
 "metadata": {
  "kernelspec": {
   "display_name": "Python 3 (ipykernel)",
   "language": "python",
   "name": "python3"
  },
  "language_info": {
   "codemirror_mode": {
    "name": "ipython",
    "version": 3
   },
   "file_extension": ".py",
   "mimetype": "text/x-python",
   "name": "python",
   "nbconvert_exporter": "python",
   "pygments_lexer": "ipython3",
   "version": "3.8.11"
  }
 },
 "nbformat": 4,
 "nbformat_minor": 5
}
