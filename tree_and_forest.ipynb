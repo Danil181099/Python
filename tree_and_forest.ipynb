{
 "cells": [
  {
   "cell_type": "markdown",
   "id": "e3d7708c",
   "metadata": {},
   "source": [
    "# Non-linear Regression"
   ]
  },
  {
   "cell_type": "code",
   "execution_count": 1,
   "id": "3a0cd942",
   "metadata": {},
   "outputs": [],
   "source": [
    "# Importing the libraries\n",
    "import numpy as np\n",
    "import matplotlib.pyplot as plt\n",
    "import pandas as pd"
   ]
  },
  {
   "cell_type": "code",
   "execution_count": 2,
   "id": "2f0cd169",
   "metadata": {},
   "outputs": [],
   "source": [
    "\n",
    "# Importing prepared dataset\n",
    "import pickle\n",
    "input = open('data_reg.pkl', 'rb')\n",
    "obj = pickle.load(input)\n",
    "input.close()\n",
    "X_train = obj[\"X_train\"]\n",
    "X_test = obj[\"X_test\"]\n",
    "y_train = obj[\"y_train\"]\n",
    "y_test = obj[\"y_test\"]"
   ]
  },
  {
   "cell_type": "markdown",
   "id": "789b1656",
   "metadata": {},
   "source": [
    "* загрузка данных, которые были \"законсервированы\" ранее"
   ]
  },
  {
   "cell_type": "code",
   "execution_count": 3,
   "id": "b6ff32f5",
   "metadata": {},
   "outputs": [],
   "source": [
    "# Metrics\n",
    "def metrics(X_train, X_test, y_train, y_test, y_pred, model):\n",
    "    RMSE = [mean_squared_error(y_train, model.predict(X_train),squared=False), mean_squared_error(y_test, y_pred, squared=False)]\n",
    "    R2 = [model.score(X_train, y_train), model.score(X_test, y_test)]\n",
    "    results = {'RMSE': RMSE, 'R2':R2}\n",
    "    return pd.DataFrame(results, index=['Train', 'Test'])"
   ]
  },
  {
   "cell_type": "markdown",
   "id": "d46b040c",
   "metadata": {},
   "source": [
    "* создана функция чтобы одновременно вычислять соответствующие метрики."
   ]
  },
  {
   "cell_type": "code",
   "execution_count": 4,
   "id": "3b834a39",
   "metadata": {},
   "outputs": [],
   "source": [
    "f = ['is_urban','age','female','married','religion','can_calc_percents','employment_type_last_year','income_government_last_year','num_times_borrowed_last_year','active_bank_user','cash_property_savings','has_insurance','can_call','can_make_transaction','phone_ownership','has_investment','num_financial_activities_last_year','literacy']"
   ]
  },
  {
   "cell_type": "markdown",
   "id": "6c682a92",
   "metadata": {},
   "source": [
    "* переменная f содержит в себе наиболее значимые предикторы."
   ]
  },
  {
   "cell_type": "markdown",
   "id": "f415dd07",
   "metadata": {},
   "source": [
    "# Regression Tree"
   ]
  },
  {
   "cell_type": "code",
   "execution_count": 5,
   "id": "59c39c17",
   "metadata": {},
   "outputs": [],
   "source": [
    "def max_leaf_nodes(X_train, X_test, y_train, y_test, n):\n",
    "    mse_train = []\n",
    "    mse_test = []\n",
    "    for i in n:\n",
    "        dt = DecisionTreeRegressor(max_leaf_nodes = i, random_state=10).fit(X_train, y_train)\n",
    "        mse_train.append(mean_squared_error(y_train, dt.predict(X_train)))\n",
    "        mse_test.append(mean_squared_error(y_test, dt.predict(X_test)))\n",
    "    fig, ax = plt.subplots(figsize=(8, 4))\n",
    "    ax.plot(n, mse_train, alpha=0.5, color='blue', label='train')\n",
    "    ax.plot(n, mse_test, alpha=0.5, color='red', label='test')\n",
    "    ax.set_ylabel(\"MSE\")\n",
    "    ax.set_xlabel(\"max_leaf_nodes\")"
   ]
  },
  {
   "cell_type": "code",
   "execution_count": 6,
   "id": "bb4898e7",
   "metadata": {
    "scrolled": true
   },
   "outputs": [
    {
     "data": {
      "image/png": "[encoded data removed]",
      "text/plain": [
       "<Figure size 576x288 with 1 Axes>"
      ]
     },
     "metadata": {
      "needs_background": "light"
     },
     "output_type": "display_data"
    }
   ],
   "source": [
    "# The optimal number of max_leaf_nodes\n",
    "from sklearn.tree import DecisionTreeRegressor\n",
    "from sklearn.metrics import mean_squared_error\n",
    "max_leaf_nodes(X_train[f], X_test[f], y_train, y_test, [2, 4, 6, 8, 10])"
   ]
  },
  {
   "cell_type": "markdown",
   "id": "130609b3",
   "metadata": {},
   "source": [
    "* функция, которая позволяет строить множество деревьев и визуализировать их показатели. График показывает зависиомсть MSE от глубины самого дерева."
   ]
  },
  {
   "cell_type": "code",
   "execution_count": 21,
   "id": "b9ff8900",
   "metadata": {},
   "outputs": [
    {
     "data": {
      "text/html": [
       "<div>\n",
       "<style scoped>\n",
       "    .dataframe tbody tr th:only-of-type {\n",
       "        vertical-align: middle;\n",
       "    }\n",
       "\n",
       "    .dataframe tbody tr th {\n",
       "        vertical-align: top;\n",
       "    }\n",
       "\n",
       "    .dataframe thead th {\n",
       "        text-align: right;\n",
       "    }\n",
       "</style>\n",
       "<table border=\"1\" class=\"dataframe\">\n",
       "  <thead>\n",
       "    <tr style=\"text-align: right;\">\n",
       "      <th></th>\n",
       "      <th>RMSE</th>\n",
       "      <th>R2</th>\n",
       "    </tr>\n",
       "  </thead>\n",
       "  <tbody>\n",
       "    <tr>\n",
       "      <th>Train</th>\n",
       "      <td>1.64</td>\n",
       "      <td>0.33</td>\n",
       "    </tr>\n",
       "    <tr>\n",
       "      <th>Test</th>\n",
       "      <td>1.57</td>\n",
       "      <td>0.38</td>\n",
       "    </tr>\n",
       "  </tbody>\n",
       "</table>\n",
       "</div>"
      ],
      "text/plain": [
       "       RMSE    R2\n",
       "Train  1.64  0.33\n",
       "Test   1.57  0.38"
      ]
     },
     "execution_count": 21,
     "metadata": {},
     "output_type": "execute_result"
    }
   ],
   "source": [
    "\n",
    "# Fitting Tree to the Training set\n",
    "dt = DecisionTreeRegressor(max_leaf_nodes = 9).fit(X_train[f], y_train)\n",
    "\n",
    "# Predicting the Test set results\n",
    "dt_y_pred = dt.predict(X_test[f])\n",
    "\n",
    "# Metrics\n",
    "metrics(X_train[f], X_test[f], y_train, y_test, dt_y_pred, dt).round(2)"
   ]
  },
  {
   "cell_type": "markdown",
   "id": "aa80a7ea",
   "metadata": {},
   "source": [
    "* экспериментальным путем было выявлено, что оптимальная глубина дерева = 9. При этом R^2 33% на обучающей выборке и  38% на тестовой. Модель не переобучена. Однако все также качество модели остается не на высоком уровне."
   ]
  },
  {
   "cell_type": "code",
   "execution_count": 22,
   "id": "94ad3911",
   "metadata": {},
   "outputs": [
    {
     "data": {
      "text/plain": [
       "Text(0.5, 1.0, 'Tree. Feature Importance')"
      ]
     },
     "execution_count": 22,
     "metadata": {},
     "output_type": "execute_result"
    },
    {
     "data": {
      "image/png": "[encoded data removed]",
      "text/plain": [
       "<Figure size 720x504 with 1 Axes>"
      ]
     },
     "metadata": {
      "needs_background": "light"
     },
     "output_type": "display_data"
    }
   ],
   "source": [
    "# Features importances\n",
    "dt_imp = pd.DataFrame({'imp': dt.feature_importances_, 'col': X_train[f].columns})\n",
    "dt_imp = dt_imp.sort_values(['imp', 'col'], ascending=[True, False]).iloc[-10:]\n",
    "dt_imp.plot(kind='barh', x='col', y='imp', figsize=(10, 7), legend=None)\n",
    "plt.title('Tree. Feature Importance')"
   ]
  },
  {
   "cell_type": "markdown",
   "id": "f20a4fd1",
   "metadata": {},
   "source": [
    "* делаем вывод, что только 4 переменные были значимы при построении дерева. Наибольшее влияния при этом оказывает religion и can_make_transaction (напомним, что эта переменная имеет наибольшее влияния на У).  Однако для нашего исследования эта переменная не имеют сильного влияния, поскольку не показывает уровень экономического состояния, а логично предположить, что в соответствующей стране преобладает определенная религия. Такм образом нужно отобрать те, которые будут интерпретируемы для результатов. Последующие 2 предиктора на прямую связаны с экономической сферой и могут влиять на благосостояние человека. Поэтому по сути поставленной задачи переменные can_make_transaction и active_bank_user наиболее влиятельны и напрямую не связаны со странами (по данной переменной сложно выявить тип страны, нежели по религии)."
   ]
  },
  {
   "cell_type": "markdown",
   "id": "4399a43a",
   "metadata": {},
   "source": [
    "# Random Forest"
   ]
  },
  {
   "cell_type": "code",
   "execution_count": 9,
   "id": "b1a8f250",
   "metadata": {},
   "outputs": [],
   "source": [
    "def rf_best_n_estimator(X_train, X_test, y_train, y_test, n):\n",
    "    mse_train = []\n",
    "    mse_test = []\n",
    "    for i in n:\n",
    "        rf = RandomForestRegressor(n_estimators=i, random_state=10).fit(X_train, y_train)\n",
    "        mse_train.append(mean_squared_error(y_train, rf.predict(X_train)))\n",
    "        mse_test.append(mean_squared_error(y_test, rf.predict(X_test)))\n",
    "    fig, ax = plt.subplots(figsize=(8, 4))\n",
    "    ax.plot(n, mse_train, alpha=0.5, color='blue', label='train')\n",
    "    ax.plot(n, mse_test, alpha=0.5, color='red', label='test')\n",
    "    ax.set_ylabel(\"MSE\")\n",
    "    ax.set_xlabel(\"N_estimators\")"
   ]
  },
  {
   "cell_type": "markdown",
   "id": "fa6f6604",
   "metadata": {},
   "source": [
    "* в этом методе следует учесть, как количество деревьев, так их и сложность. Далее определим наилучшее число деревьев."
   ]
  },
  {
   "cell_type": "code",
   "execution_count": 10,
   "id": "ce9e21f6",
   "metadata": {},
   "outputs": [
    {
     "data": {
      "image/png": "[encoded data removed]",
      "text/plain": [
       "<Figure size 576x288 with 1 Axes>"
      ]
     },
     "metadata": {
      "needs_background": "light"
     },
     "output_type": "display_data"
    }
   ],
   "source": [
    "# The optimal number of trees \n",
    "from sklearn.ensemble import RandomForestRegressor    \n",
    "rf_best_n_estimator(X_train[f], X_test[f], y_train, y_test, [5, 10, 15, 20, 25, 30, 35, 40, 45, 50])"
   ]
  },
  {
   "cell_type": "markdown",
   "id": "c453c0ed",
   "metadata": {},
   "source": [
    "* при любом чилсле деревьев от 5 до 50 - ошибка тестирования сильно преувеличивает ошибку обучения. Модель будет переобучна в любом случае. Минимум ошибки тестирования - примерно при 15 деревьях."
   ]
  },
  {
   "cell_type": "code",
   "execution_count": 11,
   "id": "34612836",
   "metadata": {},
   "outputs": [
    {
     "data": {
      "image/png": "[encoded data removed]",
      "text/plain": [
       "<Figure size 576x288 with 1 Axes>"
      ]
     },
     "metadata": {
      "needs_background": "light"
     },
     "output_type": "display_data"
    }
   ],
   "source": [
    "def rf_max_leaf_nodes(X_train, X_test, y_train, y_test, n):\n",
    "    mse_train = []\n",
    "    mse_test = []\n",
    "    for i in n:\n",
    "        rf = RandomForestRegressor(n_estimators=15, max_leaf_nodes =i, random_state=10).fit(X_train, y_train)\n",
    "        mse_train.append(mean_squared_error(y_train, rf.predict(X_train)))\n",
    "        mse_test.append(mean_squared_error(y_test, rf.predict(X_test)))\n",
    "    fig, ax = plt.subplots(figsize=(8, 4))\n",
    "    ax.plot(n, mse_train, alpha=0.5, color='blue', label='train')\n",
    "    ax.plot(n, mse_test, alpha=0.5, color='red', label='test')\n",
    "    ax.set_ylabel(\"MSE\")\n",
    "    ax.set_xlabel(\"max_leaf_nodes\")\n",
    "    \n",
    "# The optimal number of max_leaf_nodes\n",
    "rf_max_leaf_nodes(X_train[f], X_test[f], y_train, y_test, [5, 10, 15, 20])"
   ]
  },
  {
   "cell_type": "code",
   "execution_count": 12,
   "id": "1b500aa8",
   "metadata": {},
   "outputs": [
    {
     "data": {
      "text/html": [
       "<div>\n",
       "<style scoped>\n",
       "    .dataframe tbody tr th:only-of-type {\n",
       "        vertical-align: middle;\n",
       "    }\n",
       "\n",
       "    .dataframe tbody tr th {\n",
       "        vertical-align: top;\n",
       "    }\n",
       "\n",
       "    .dataframe thead th {\n",
       "        text-align: right;\n",
       "    }\n",
       "</style>\n",
       "<table border=\"1\" class=\"dataframe\">\n",
       "  <thead>\n",
       "    <tr style=\"text-align: right;\">\n",
       "      <th></th>\n",
       "      <th>RMSE</th>\n",
       "      <th>R2</th>\n",
       "    </tr>\n",
       "  </thead>\n",
       "  <tbody>\n",
       "    <tr>\n",
       "      <th>Train</th>\n",
       "      <td>1.50</td>\n",
       "      <td>0.44</td>\n",
       "    </tr>\n",
       "    <tr>\n",
       "      <th>Test</th>\n",
       "      <td>1.47</td>\n",
       "      <td>0.46</td>\n",
       "    </tr>\n",
       "  </tbody>\n",
       "</table>\n",
       "</div>"
      ],
      "text/plain": [
       "       RMSE    R2\n",
       "Train  1.50  0.44\n",
       "Test   1.47  0.46"
      ]
     },
     "execution_count": 12,
     "metadata": {},
     "output_type": "execute_result"
    }
   ],
   "source": [
    "# Fitting Random Forest to the Training set\n",
    "from sklearn.ensemble import RandomForestRegressor\n",
    "rf = RandomForestRegressor(n_estimators = 15, max_leaf_nodes = 19, random_state = 10).fit(X_train[f], y_train)\n",
    "\n",
    "# Predicting the Test set results\n",
    "rf_y_pred = rf.predict(X_test[f])\n",
    "\n",
    "# Metrics\n",
    "metrics(X_train[f], X_test[f], y_train, y_test, rf_y_pred, rf).round(2)"
   ]
  },
  {
   "cell_type": "markdown",
   "id": "64889875",
   "metadata": {},
   "source": [
    "По графику видно, что минимальная разница между тестовой и обучающей выборкой начинается после глубины дерева = 15. Экспериментальным путем вычислено, что наиболее оптимально выбрать 19.\n",
    "При этом мы получили максимальное значение R^2 среди всех моделей, переобучение не произошло. Делаем вывод, что модель улучшилась."
   ]
  },
  {
   "cell_type": "code",
   "execution_count": 13,
   "id": "47c592f5",
   "metadata": {},
   "outputs": [
    {
     "data": {
      "text/plain": [
       "Text(0.5, 1.0, 'Random Forest. Feature Importance')"
      ]
     },
     "execution_count": 13,
     "metadata": {},
     "output_type": "execute_result"
    },
    {
     "data": {
      "image/png": "[encoded data removed]",
      "text/plain": [
       "<Figure size 720x504 with 1 Axes>"
      ]
     },
     "metadata": {
      "needs_background": "light"
     },
     "output_type": "display_data"
    }
   ],
   "source": [
    "\n",
    "# Features importances\n",
    "rf_imp = pd.DataFrame({'imp': rf.feature_importances_, 'col': X_train[f].columns})\n",
    "rf_imp = rf_imp.sort_values(['imp', 'col'], ascending=[True, False]).iloc[-20:]\n",
    "rf_imp.plot(kind='barh', x='col', y='imp', figsize=(10, 7), legend=None)\n",
    "plt.title('Random Forest. Feature Importance')"
   ]
  },
  {
   "cell_type": "markdown",
   "id": "1f85b4d1",
   "metadata": {},
   "source": [
    "* для данной модели большее число переменных стало значимо. Так же наибольшее влияние имеет religion, однако существенными стали таки переменные, как is_urban, age, literacy... То есть данный метод расширил число предикторов, что способствует улучшению качества модели.\n",
    "Однако, исходя из предыдущих рассуждений - по этой модели делаем вывод, что на экономическое состояние страны с точки зрения интерпретации переменных имеют num_financial_activities_last_year и 2 переменные из прошлой модели (can_make_transaction и active_bank_user)."
   ]
  },
  {
   "cell_type": "markdown",
   "id": "89df5f77",
   "metadata": {},
   "source": [
    "# CatBoost"
   ]
  },
  {
   "cell_type": "markdown",
   "id": "ad71fafc",
   "metadata": {},
   "source": [
    "* данный метод рекомендуется использовать в случаях, если датасет содержит большое количество категориальных переменных. Как раз такой случай наблюдается в моем датасете."
   ]
  },
  {
   "cell_type": "code",
   "execution_count": 14,
   "id": "9a351402",
   "metadata": {},
   "outputs": [],
   "source": [
    "#! pip install catboost"
   ]
  },
  {
   "cell_type": "code",
   "execution_count": 15,
   "id": "72375e5f",
   "metadata": {},
   "outputs": [
    {
     "data": {
      "image/png": "[encoded data removed]",
      "text/plain": [
       "<Figure size 576x288 with 1 Axes>"
      ]
     },
     "metadata": {
      "needs_background": "light"
     },
     "output_type": "display_data"
    }
   ],
   "source": [
    "def catboost_best_n_estimator(X_train, X_test, y_train, y_test, n):\n",
    "    mse_train = []\n",
    "    mse_test = []\n",
    "    for i in n:\n",
    "        catboost = CatBoostRegressor(iterations=i,random_state=10,eval_metric='RMSE',loss_function='RMSE').fit(X_train, y_train,eval_set=(X_test, y_test),logging_level='Silent')\n",
    "        mse_train.append(mean_squared_error(y_train, catboost.predict(X_train)))\n",
    "        mse_test.append(mean_squared_error(y_test, catboost.predict(X_test)))\n",
    "    fig, ax = plt.subplots(figsize=(8, 4))\n",
    "    ax.plot(n, mse_train, alpha=0.5, color='blue', label='train')\n",
    "    ax.plot(n, mse_test, alpha=0.5, color='red', label='test')\n",
    "    ax.set_ylabel('\"MSE')\n",
    "    ax.set_xlabel('Iterations')\n",
    "    ax.legend(framealpha=1, frameon=True);\n",
    "    \n",
    "from catboost import CatBoostRegressor\n",
    "catboost_best_n_estimator(X_train[f], X_test[f], y_train, y_test, list(range(1,13)))"
   ]
  },
  {
   "cell_type": "markdown",
   "id": "2c147403",
   "metadata": {},
   "source": [
    "* При значении количества итераций 10 значения на тестовой и обучающей выборке совпадают. При 9 и 11 они также особо не отличаются. Однако, экспериментальным путем выбираем 10. "
   ]
  },
  {
   "cell_type": "code",
   "execution_count": 23,
   "id": "7ce05b14",
   "metadata": {},
   "outputs": [
    {
     "data": {
      "image/png": "[encoded data removed]",
      "text/plain": [
       "<Figure size 576x288 with 1 Axes>"
      ]
     },
     "metadata": {
      "needs_background": "light"
     },
     "output_type": "display_data"
    }
   ],
   "source": [
    "\n",
    "def catboost_max_depth(X_train, X_test, y_train, y_test, n):\n",
    "    mse_train = []\n",
    "    mse_test = []\n",
    "    for i in n:\n",
    "        catboost = CatBoostRegressor(iterations=10,max_depth=i,random_state=10,eval_metric='RMSE',loss_function='RMSE').fit(X_train,y_train,eval_set=(X_test, y_test),logging_level='Silent')\n",
    "        mse_train.append(mean_squared_error(y_train, catboost.predict(X_train)))\n",
    "        mse_test.append(mean_squared_error(y_test, catboost.predict(X_test)))\n",
    "    fig, ax = plt.subplots(figsize=(8, 4))\n",
    "    ax.plot(n, mse_train, alpha=0.5, color='blue', label='train')\n",
    "    ax.plot(n, mse_test, alpha=0.5, color='red', label='test')\n",
    "    ax.set_ylabel(\"MSE\")\n",
    "    ax.set_xlabel(\"max_depth\")\n",
    "    ax.legend(framealpha=1, frameon=True);\n",
    "\n",
    "catboost_max_depth(X_train[f], X_test[f], y_train, y_test, list(range(1,15)))"
   ]
  },
  {
   "cell_type": "code",
   "execution_count": 29,
   "id": "dc52e336",
   "metadata": {},
   "outputs": [
    {
     "data": {
      "text/html": [
       "<div>\n",
       "<style scoped>\n",
       "    .dataframe tbody tr th:only-of-type {\n",
       "        vertical-align: middle;\n",
       "    }\n",
       "\n",
       "    .dataframe tbody tr th {\n",
       "        vertical-align: top;\n",
       "    }\n",
       "\n",
       "    .dataframe thead th {\n",
       "        text-align: right;\n",
       "    }\n",
       "</style>\n",
       "<table border=\"1\" class=\"dataframe\">\n",
       "  <thead>\n",
       "    <tr style=\"text-align: right;\">\n",
       "      <th></th>\n",
       "      <th>RMSE</th>\n",
       "      <th>R2</th>\n",
       "    </tr>\n",
       "  </thead>\n",
       "  <tbody>\n",
       "    <tr>\n",
       "      <th>Train</th>\n",
       "      <td>1.36</td>\n",
       "      <td>0.54</td>\n",
       "    </tr>\n",
       "    <tr>\n",
       "      <th>Test</th>\n",
       "      <td>1.43</td>\n",
       "      <td>0.49</td>\n",
       "    </tr>\n",
       "  </tbody>\n",
       "</table>\n",
       "</div>"
      ],
      "text/plain": [
       "       RMSE    R2\n",
       "Train  1.36  0.54\n",
       "Test   1.43  0.49"
      ]
     },
     "execution_count": 29,
     "metadata": {},
     "output_type": "execute_result"
    }
   ],
   "source": [
    "# Fitting CatBoost to the Training set\n",
    "cb = CatBoostRegressor(iterations=7,max_depth=9,random_state=10,eval_metric='RMSE',loss_function='RMSE').fit(X_train[f], y_train,eval_set=(X_test[f], y_test),logging_level='Silent')\n",
    "\n",
    "# Predicting the Test set results\n",
    "cb_y_pred = cb.predict(X_test[f])\n",
    "\n",
    "# Metrics\n",
    "metrics(X_train[f], X_test[f], y_train, y_test, cb_y_pred, cb).round(2)"
   ]
  },
  {
   "cell_type": "markdown",
   "id": "f331c88b",
   "metadata": {},
   "source": [
    "* Снова проэкспериментировав с глубиной дерева, выбираем 9. Модель улучшилась. Значение MSE на тестовой немного больше, однако данные сопоставимы. Нам удалось добиться значения R^2 = 0.54 (на тестовой) и 0.49 (на обучающей). "
   ]
  },
  {
   "cell_type": "code",
   "execution_count": 30,
   "id": "8b69accb",
   "metadata": {},
   "outputs": [
    {
     "data": {
      "text/plain": [
       "Text(0.5, 1.0, 'Boosting. Feature Importance')"
      ]
     },
     "execution_count": 30,
     "metadata": {},
     "output_type": "execute_result"
    },
    {
     "data": {
      "image/png": "[encoded data removed]",
      "text/plain": [
       "<Figure size 720x504 with 1 Axes>"
      ]
     },
     "metadata": {
      "needs_background": "light"
     },
     "output_type": "display_data"
    }
   ],
   "source": [
    "# Features importances\n",
    "cb_imp = pd.DataFrame({'imp': cb.get_feature_importance(), 'col': X_train[f].columns})\n",
    "cb_imp = cb_imp.sort_values(['imp', 'col'], ascending=[True, False]).iloc[-25:]\n",
    "cb_imp.plot(kind='barh', x='col', y='imp', figsize=(10, 7), legend=None)\n",
    "plt.title('Boosting. Feature Importance')"
   ]
  },
  {
   "cell_type": "markdown",
   "id": "12a75421",
   "metadata": {},
   "source": [
    "* все переменные, добавленные в модель стали значимы. Аналогично предыдущему исселодованию - наиболее значимы такие же предикторы."
   ]
  },
  {
   "cell_type": "markdown",
   "id": "bc912707",
   "metadata": {},
   "source": [
    "# RESULTS"
   ]
  },
  {
   "cell_type": "code",
   "execution_count": 32,
   "id": "50198ae8",
   "metadata": {},
   "outputs": [
    {
     "data": {
      "text/html": [
       "<div>\n",
       "<style scoped>\n",
       "    .dataframe tbody tr th:only-of-type {\n",
       "        vertical-align: middle;\n",
       "    }\n",
       "\n",
       "    .dataframe tbody tr th {\n",
       "        vertical-align: top;\n",
       "    }\n",
       "\n",
       "    .dataframe thead th {\n",
       "        text-align: right;\n",
       "    }\n",
       "</style>\n",
       "<table border=\"1\" class=\"dataframe\">\n",
       "  <thead>\n",
       "    <tr style=\"text-align: right;\">\n",
       "      <th></th>\n",
       "      <th>RMSE</th>\n",
       "      <th>R2</th>\n",
       "      <th>Type</th>\n",
       "    </tr>\n",
       "  </thead>\n",
       "  <tbody>\n",
       "    <tr>\n",
       "      <th>Train</th>\n",
       "      <td>1.64</td>\n",
       "      <td>0.33</td>\n",
       "      <td>Tree</td>\n",
       "    </tr>\n",
       "    <tr>\n",
       "      <th>Test</th>\n",
       "      <td>1.57</td>\n",
       "      <td>0.38</td>\n",
       "      <td>Tree</td>\n",
       "    </tr>\n",
       "    <tr>\n",
       "      <th>Train</th>\n",
       "      <td>1.50</td>\n",
       "      <td>0.44</td>\n",
       "      <td>Random forest</td>\n",
       "    </tr>\n",
       "    <tr>\n",
       "      <th>Test</th>\n",
       "      <td>1.47</td>\n",
       "      <td>0.46</td>\n",
       "      <td>Random forest</td>\n",
       "    </tr>\n",
       "    <tr>\n",
       "      <th>Train</th>\n",
       "      <td>1.36</td>\n",
       "      <td>0.54</td>\n",
       "      <td>Catboost</td>\n",
       "    </tr>\n",
       "    <tr>\n",
       "      <th>Test</th>\n",
       "      <td>1.43</td>\n",
       "      <td>0.49</td>\n",
       "      <td>Catboost</td>\n",
       "    </tr>\n",
       "  </tbody>\n",
       "</table>\n",
       "</div>"
      ],
      "text/plain": [
       "       RMSE    R2           Type\n",
       "Train  1.64  0.33           Tree\n",
       "Test   1.57  0.38           Tree\n",
       "Train  1.50  0.44  Random forest\n",
       "Test   1.47  0.46  Random forest\n",
       "Train  1.36  0.54       Catboost\n",
       "Test   1.43  0.49       Catboost"
      ]
     },
     "execution_count": 32,
     "metadata": {},
     "output_type": "execute_result"
    }
   ],
   "source": [
    "# Metrics\n",
    "metric_dt = metrics(X_train[f], X_test[f], y_train,y_test, dt_y_pred, dt).round(2).abs()\n",
    "metric_dt['Type'] = 'Tree'\n",
    "\n",
    "metric_rf = metrics(X_train[f], X_test[f], y_train,y_test,  rf_y_pred, rf).round(2).abs()\n",
    "metric_rf['Type'] = 'Random forest'\n",
    "\n",
    "metric_cb = metrics(X_train[f], X_test[f], y_train,y_test, cb_y_pred, cb).round(2)\n",
    "metric_cb['Type'] = 'Catboost'\n",
    "\n",
    "metric = pd.concat([metric_dt,metric_rf,metric_cb])\n",
    "metric"
   ]
  },
  {
   "cell_type": "markdown",
   "id": "dac6e6f8",
   "metadata": {},
   "source": [
    "* Можно сделать вывод, что метод CatBoost наилучшим образом справился с поставленной задачей. Поскольку изначально датасет содержал в себе 59 переменных, а в модель добавлено только 28 из них - качество не на самом высшем уровне. Что подтверждает эксперименты, проведенные с моделью. Так, изначально выборка содержала 22 переменные (R^2 макс. при этом был 0,403), 26 переменных (R^2 = 0,48) и теперешняя модель, где был достигнут максимальный результат. Исходя из этого можно сделать вывод, что на исходной выборке можно построить модель с высоким качеством, однако при данном обьеме информации по этому датасету - будут сложности с интерпретацией и выводами. А по данным исследованиям выявлено, что наилучшими предикторами для социально-экономического положения страны будут can_make_transaction и active_bank_user."
   ]
  },
  {
   "cell_type": "markdown",
   "id": "8619b591",
   "metadata": {},
   "source": [
    "* Дополнительно был проведен эксперимент с построением модели CatBoost со всеми исходными качественными переменными (это можно наблюдать в дополнтиельном файле)"
   ]
  },
  {
   "cell_type": "code",
   "execution_count": null,
   "id": "4db3867a",
   "metadata": {},
   "outputs": [],
   "source": []
  }
 ],
 "metadata": {
  "kernelspec": {
   "display_name": "Python 3",
   "language": "python",
   "name": "python3"
  },
  "language_info": {
   "codemirror_mode": {
    "name": "ipython",
    "version": 3
   },
   "file_extension": ".py",
   "mimetype": "text/x-python",
   "name": "python",
   "nbconvert_exporter": "python",
   "pygments_lexer": "ipython3",
   "version": "3.8.8"
  }
 },
 "nbformat": 4,
 "nbformat_minor": 5
}
